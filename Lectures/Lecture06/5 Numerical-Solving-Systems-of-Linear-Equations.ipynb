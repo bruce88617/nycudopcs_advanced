{
 "cells": [
  {
   "attachments": {},
   "cell_type": "markdown",
   "metadata": {
    "button": false,
    "new_sheet": false,
    "run_control": {
     "read_only": false
    }
   },
   "source": [
    "## **Lecture 6. Linear Algebra and Systems of Linear Equations:** \n",
    "### **6.5 Numerical Algorithms for Solving $ Ax = y $**"
   ]
  },
  {
   "attachments": {},
   "cell_type": "markdown",
   "metadata": {},
   "source": [
    "$$ \n",
    "\\LARGE Ax=y \n",
    "$$ \n",
    "\n",
    "* **System** $A$ is an $n \\times n$ matrix with $rank(A) = n$\n",
    "\n",
    "* **Unique solution** is an $x \\in {\\mathbb{R}}^n$ \n",
    "\n",
    "* **Measurement** $y \\in {\\mathbb{R}}^n$. "
   ]
  },
  {
   "cell_type": "markdown",
   "metadata": {},
   "source": [
    "#### <font color=\"cyan\">**1. Computational Complexity of Algorithm**</font>\n",
    "An algorithm is a well-defined sequential computational technique that accepts a value or a collection of values as input and produces the output(s) needed to solve a problem. Complexity in algorithms refers to the amount of resources (such as time or memory) required to solve a problem or perform a task, e.g. solving $Ax = y$. <br/>\n",
    "\n",
    "1. Using $x = A^{-1}y$, Cramer's rule to solve a N-by-N matrix $A^{-1}$ is $O(N!)$ \n",
    "\n",
    "2. Gauss Elimination is $O(N^{3})$, Back substitution is $O(N^{2})$.\n",
    "\n",
    "3. Gauss-Jordan Elimination is $O(2N^{3})$ ~ $O(N^{3})$\n",
    "\n",
    "4. LU Decomposition to break one square system to two triangle system, complexity is $O(N^{3})$ via Gauss Elimination, but just do it once.  \n",
    "\n",
    "5. Iterative Method I: Jacobi, complexity: $O(n^{2}*Iterations)$ (number of rows * number of columns * Iterations)\n",
    "\n",
    "6. Iterative Method II: Gauss-Seidel, complexity: $O(n^{2}*Iterations)$ but converge faster\n",
    "\n",
    "\n",
    "\n",
    "\n",
    "![Computational Complexity of Algorithm](sddefault.jpg) <br/>\n",
    "\n"
   ]
  },
  {
   "attachments": {},
   "cell_type": "markdown",
   "metadata": {},
   "source": [
    "#### <font color=\"cyan\">**2. Gauss Elimination Method**</font>\n",
    "\n",
    "The **Gauss Elimination** method is a direct method, turn matrix $A$ into an **upper triangular** form to solve the system of equations. Let's use a system of 4 equations and 4 variables as example: \n",
    "\n",
    "$$\\begin{bmatrix}\n",
    "a_{1,1} & a_{1,2} & a_{1,3} & a_{1,4}\\\\\n",
    "0 & a_{2,2}' & a_{2,3}' & a_{2,4}'\\\\\n",
    "0 & 0 & a_{3,3}' & a_{3,4}' \\\\\n",
    "0 & 0 & 0 & a_{4,4}'\n",
    "\\end{bmatrix}\\left[\\begin{array}{c} x_1 \\\\x_2 \\\\ x_3 \\\\x_4 \\end{array}\\right] =\n",
    "\\left[\\begin{array}{c} y_1 \\\\y_2' \\\\ y_3' \\\\y_4' \\end{array}\\right]$$\n",
    "\n",
    "Thus,\n",
    "\n",
    "\\begin{aligned}\n",
    "\\begin{array}{}\n",
    " a_{1,1} x_1 &+& a_{1,2} x_2 & + & a_{1,3} x_{3} &+&a_{1,4} x_4 &=& y_1,\\\\\n",
    "& & a_{2,2}' x_{2} &+ & a_{2,3}' x_{3} &+& a_{2,4}' x_4 &=& y_{2}' \\\\\n",
    "&& & & a_{3,3}' x_{3} &+& a_{3,4}' x_4 &=& y_{3}',\\\\\n",
    "&& && && a_{4,4}' x_4 &=& y_{4}'.\n",
    "\\end{array}\n",
    "\\end{aligned}"
   ]
  },
  {
   "attachments": {},
   "cell_type": "markdown",
   "metadata": {},
   "source": [
    "$$ \n",
    "\\LARGE Ax = y \\rightarrow Ux = y' \n",
    "$$ "
   ]
  },
  {
   "attachments": {},
   "cell_type": "markdown",
   "metadata": {},
   "source": [
    "We solve the system of equations from bottom-up, this is called **backward substitution**. \n",
    "\n",
    "Note that, if $A$ is a lower triangular matrix, we would solve the system from top-down by **forward substitution**."
   ]
  },
  {
   "attachments": {},
   "cell_type": "markdown",
   "metadata": {
    "button": false,
    "new_sheet": false,
    "run_control": {
     "read_only": false
    }
   },
   "source": [
    "<font color=\"magenta\">**TRY IT!**</font> Use Gauss Elimination to solve the following equations.\n",
    "\n",
    "\\begin{aligned}\n",
    "4x_1 + 3x_2 - 5x_3 &=& 2 \\\\\n",
    "-2x_1 - 4x_2 + 5x_3 &=& 5 \\\\\n",
    "8x_1 + 8x_2  &=& -3 \\\\\n",
    "\\end{aligned}\n",
    "\n",
    "**Step 1:** Turn these equations to matrix form $Ax=y$. \n",
    "\n",
    "$$\n",
    "\\begin{bmatrix}\n",
    "4 & 3 & -5\\\\\n",
    "-2 & -4 & 5\\\\\n",
    "8 & 8 & 0\\\\\n",
    "\\end{bmatrix}\\left[\\begin{array}{c} x_1 \\\\x_2 \\\\x_3 \\end{array}\\right] =\n",
    "\\left[\\begin{array}{c} 2 \\\\5 \\\\-3\\end{array}\\right]$$\n",
    "\n",
    "**Step 2:** Get the augmented matrix [A, y] \n",
    "\n",
    "$$\n",
    "[A, y]  = \\begin{bmatrix}\n",
    "4 & 3 & -5 & 2\\\\\n",
    "-2 & -4 & 5 & 5\\\\\n",
    "8 & 8 & 0 & -3\\\\\n",
    "\\end{bmatrix}$$\n",
    "\n",
    "**Step 3:** We choose a **pivot equation**. To do this, we can multiply -0.5 for the 1st row (pivot equation) and subtract it from the 2nd row. \n",
    "\n",
    "The multiplier is $m_{2,1}=-0.5$. We will get\n",
    "\n",
    "$$\n",
    "\\begin{bmatrix}\n",
    "4 & 3 & -5 & 2\\\\\n",
    "0 & -2.5 & 2.5 & 6\\\\\n",
    "8 & 8 & 0 & -3\\\\\n",
    "\\end{bmatrix}$$\n",
    "\n",
    "**Step 4:** The multiplier is $m_{3,1}=2$. We will get\n",
    "\n",
    "$$\n",
    "\\begin{bmatrix}\n",
    "4 & 3 & -5 & 2\\\\\n",
    "0 & -2.5 & 2.5 & 6\\\\\n",
    "0 & 2 & 10 & -7\\\\\n",
    "\\end{bmatrix}$$\n",
    "\n",
    "**Step 5:** The multiplier is $m_{3,2}=-0.8$. We will get\n",
    "\n",
    "$$\n",
    "\\begin{bmatrix}\n",
    "4 & 3 & -5 & 2\\\\\n",
    "0 & -2.5 & 2.5 & 6\\\\\n",
    "0 & 0 & 12 & -2.2\\\\\n",
    "\\end{bmatrix}$$\n",
    "\n",
    "&nbsp;\n",
    "\n",
    "**Step 6:** Backward substitution, we can get $x_3=-2.2/12=-0.183$. \n",
    "\n",
    "**Step 7:** Insert $x_3$ to the 2nd equation, we get $x_2=-2.583$\n",
    "\n",
    "**Step 8:** Insert $x_2$ and $x_3$ to the first equation, we have $x_1=2.208$. "
   ]
  },
  {
   "attachments": {},
   "cell_type": "markdown",
   "metadata": {},
   "source": [
    "**Note! (Pivoting)** Sometimes you will have the first element in the 1st row is 0, just switch the first row with a non-zero first element row, then you can do the same procedure as above. \n",
    "\n",
    "We are using \"pivoting\" Gauss Elimination method here, but you should know that there is also a \"naive\" Gauss Elimination method with the assumption that pivot values will never be zero. "
   ]
  },
  {
   "cell_type": "code",
   "execution_count": 1,
   "metadata": {},
   "outputs": [
    {
     "name": "stdout",
     "output_type": "stream",
     "text": [
      "Solution by Gauss Elimination x is: [ 2.20833333 -2.58333333 -0.18333333]\n"
     ]
    },
    {
     "data": {
      "text/plain": [
       "True"
      ]
     },
     "execution_count": 1,
     "metadata": {},
     "output_type": "execute_result"
    }
   ],
   "source": [
    "\"\"\"\n",
    "Example 6.5.1:\n",
    "Naive Gauss Elimination to solve Ax = y: gauss_solve(A, y) \n",
    "Example case in textbook: Python Programming and Numerical Methods \n",
    "\"\"\"\n",
    "\n",
    "import numpy as np\n",
    "\n",
    "##################################\n",
    "### 1. Naive Gauss Elimination ###\n",
    "################################## \n",
    "def gauss_elimination(A, b):\n",
    "    n = len(b)\n",
    "    # Forward elimination\n",
    "    for k in range(n-1):\n",
    "        for i in range(k+1, n):\n",
    "            if A[i][k] == 0: \n",
    "                continue\n",
    "            factor = A[i][k] / A[k][k]\n",
    "            for j in range(k, n):\n",
    "                A[i][j] -= factor * A[k][j]\n",
    "            b[i] -= factor * b[k]\n",
    "    \n",
    "    # Back substitution\n",
    "    x = np.zeros(n)\n",
    "    for i in range(n-1, -1, -1):\n",
    "        sum_ax = 0\n",
    "        for j in range(i+1, n):\n",
    "            sum_ax += A[i][j] * x[j]\n",
    "        x[i] = (b[i] - sum_ax) / A[i][i]\n",
    "    return x\n",
    "\n",
    "\n",
    "########################\n",
    "### 2. Function Call ###\n",
    "######################## \n",
    "A = np.array([[4,  3, -5], [-2, -4,  5] , [ 8,  8,  0]], dtype=float)\n",
    "y = np.array([2, 5, -3], dtype=float)\n",
    "\n",
    "# Funtion call\n",
    "x = gauss_elimination(A, y)\n",
    "print(f\"Solution by Gauss Elimination x is: {x}\")\n",
    "\n",
    "# check with library\n",
    "np.allclose(x, np.linalg.solve(A, y)) "
   ]
  },
  {
   "attachments": {},
   "cell_type": "markdown",
   "metadata": {},
   "source": [
    "#### <font color=\"cyan\">**3. Gauss-Jordan Elimination Method**</font>\n",
    "\n",
    "Gauss-Jordan method turn $A$ into a diagonal form: "
   ]
  },
  {
   "attachments": {},
   "cell_type": "markdown",
   "metadata": {
    "button": false,
    "new_sheet": false,
    "run_control": {
     "read_only": false
    }
   },
   "source": [
    "\n",
    "$$\\begin{bmatrix}\n",
    "1 & 0 & 0 & 0\\\\\n",
    "0 & 1 & 0 & 0\\\\\n",
    "0 & 0 & 1 & 0 \\\\\n",
    "0 & 0 & 0 & 1\n",
    "\\end{bmatrix}\\left[\\begin{array}{c} x_1 \\\\x_2 \\\\ x_3 \\\\x_4 \\end{array}\\right] =\n",
    "\\left[\\begin{array}{c} y_1' \\\\y_2' \\\\ y_3' \\\\y_4' \\end{array}\\right]$$\n",
    "\n",
    "Essentially, the equations become:\n",
    "\n",
    "\\begin{aligned}\n",
    "\\begin{array}{}\n",
    "x_1 &+& 0 & + & 0 &+&0 &=& y_1',\\\\\n",
    "0 &+& x_2 & + & 0 &+&0 &=& y_2' \\\\\n",
    "0 &+& 0 & + & x_3 &+&0 &=& y_3',\\\\\n",
    "0 &+& 0 & + & 0 &+&x_4 &=& y_4'.\n",
    "\\end{array}\n",
    "\\end{aligned}"
   ]
  },
  {
   "attachments": {},
   "cell_type": "markdown",
   "metadata": {},
   "source": [
    "$$\n",
    "\\LARGE Ax = y \\rightarrow Ix = y'\n",
    "$$\n"
   ]
  },
  {
   "attachments": {},
   "cell_type": "markdown",
   "metadata": {
    "button": false,
    "new_sheet": false,
    "run_control": {
     "read_only": false
    }
   },
   "source": [
    "<font color=\"magenta\">**TRY IT!**</font> Use Gauss-Jordan Elimination to solve the following equations. \n",
    "\n",
    "\\begin{aligned}\n",
    "4x_1 + 3x_2 - 5x_3 &=& 2 \\\\\n",
    "-2x_1 - 4x_2 + 5x_3 &=& 5 \\\\\n",
    "8x_1 + 8x_2  &=& -3 \\\\\n",
    "\\end{aligned}\n",
    "\n",
    "**Step 1:** Get the augmented matrix [A, y] \n",
    "\n",
    "$$\n",
    "[A, y]  = \\begin{bmatrix}\n",
    "4 & 3 & -5 & 2\\\\\n",
    "-2 & -4 & 5 & 5\\\\\n",
    "8 & 8 & 0 & -3\\\\\n",
    "\\end{bmatrix}$$\n",
    "\n",
    "**Step 2:** Get the first element in 1st row to 1, we <font color=\"cyan\">divide 4 to the row:</font>\n",
    "$$\n",
    "\\begin{bmatrix}\n",
    "1 & 3/4 & -5/4 & 1/2\\\\\n",
    "-2 & -4 & 5 & 5\\\\\n",
    "8 & 8 & 0 & -3\\\\\n",
    "\\end{bmatrix}$$\n",
    "\n",
    "**Step 3:** Eliminate the first element in 2nd and 3rd rows, we multiply -2 and 8 to the 1st row and subtract it from the 2nd and 3rd rows. \n",
    "\n",
    "$$\n",
    "\\begin{bmatrix}\n",
    "1 & 3/4 & -5/4 & 1/2\\\\\n",
    "0 & -5/2 & 5/2 & 6\\\\\n",
    "0 & 2 & 10 & -7\\\\\n",
    "\\end{bmatrix}$$\n",
    "\n",
    "**Step 4:** Normalize the 2nd element in 2nd row to 1, we <font color=\"cyan\">divide -5/2 to achieve this.</font> \n",
    "\n",
    "$$\n",
    "\\begin{bmatrix}\n",
    "1 & 3/4 & -5/4 & 1/2\\\\\n",
    "0 & 1 & -1 & -12/5\\\\\n",
    "0 & 2 & 10 & -7\\\\\n",
    "\\end{bmatrix}$$\n",
    "\n",
    "**Step 5:** Eliminate the 2nd element the 3rd row, we multiply 2 to the 2nd row and subtract it from the 3rd row. \n",
    "\n",
    "$$\n",
    "\\begin{bmatrix}\n",
    "1 & 3/4 & -5/4 & 1/2\\\\\n",
    "0 & 1 & -1 & -12/5\\\\\n",
    "0 & 0 & 12 & -11/5\\\\\n",
    "\\end{bmatrix}$$\n",
    "\n",
    "**Step 6:**  Normalize the last row by divide 12.\n",
    "\n",
    "$$\n",
    "\\begin{bmatrix}\n",
    "1 & 3/4 & -5/4 & 1/2\\\\\n",
    "0 & 1 & -1 & -12/5\\\\\n",
    "0 & 0 & 1 & -11/60\\\\\n",
    "\\end{bmatrix}$$\n",
    "\n",
    "**Step 7:** Eliminate the 3rd element in 2nd row by multiply -1 to the 3rd row and subtract it from the 2nd row. \n",
    "\n",
    "$$\n",
    "\\begin{bmatrix}\n",
    "1 & 3/4 & -5/4 & 1/2\\\\\n",
    "0 & 1 & 0 & -155/60\\\\\n",
    "0 & 0 & 1 & -11/60\\\\\n",
    "\\end{bmatrix}$$\n",
    "\n",
    "**Step 8:** Eliminate the 3rd element in 1st row by multiply -5/4 to the 3rd row and subtract it from the 1st row. \n",
    "\n",
    "$$\n",
    "\\begin{bmatrix}\n",
    "1 & 3/4 & 0 & 13/48\\\\\n",
    "0 & 1 & 0 & -2.583\\\\\n",
    "0 & 0 & 1 & -0.183\\\\\n",
    "\\end{bmatrix}$$\n",
    "\n",
    "**Step 9:** Eliminate the 2nd element in 1st row by multiply 3/4 to the 2nd row and subtract it from the 1st row. \n",
    "\n",
    "$$\n",
    "\\begin{bmatrix}\n",
    "1 & 0 & 0 & 2.208\\\\\n",
    "0 & 1 & 0 & -2.583\\\\\n",
    "0 & 0 & 1 & -0.183\\\\\n",
    "\\end{bmatrix}$$"
   ]
  },
  {
   "cell_type": "code",
   "execution_count": null,
   "metadata": {},
   "outputs": [
    {
     "name": "stdout",
     "output_type": "stream",
     "text": [
      "reorder of A: \n",
      "[[ 8.  8.  0.]\n",
      " [-2. -4.  5.]\n",
      " [ 4.  3. -5.]]\n",
      "\n",
      "reorder of y: [-3.  5.  2.]\n",
      "\n",
      "Solution by Gauss-Jordan x is:\n",
      "[ 2.20833333 -2.58333333 -0.18333333]\n",
      "\n"
     ]
    },
    {
     "data": {
      "text/plain": [
       "True"
      ]
     },
     "execution_count": 7,
     "metadata": {},
     "output_type": "execute_result"
    }
   ],
   "source": [
    "\"\"\"\n",
    "Example 6.5.2:\n",
    "Gauss-Jordan Elimination to solve Ax = y: gauss_jordan_solve(A, y).\n",
    "This method will add partial pivoting.  \n",
    "\"\"\"\n",
    "import numpy as np\n",
    "\n",
    "#########################################################\n",
    "### 1. Gauss_Jordan Elimination with Partial Pivoting ###\n",
    "######################################################### \n",
    "def gauss_jordan_elimination(A, y):\n",
    "    n = len(y)\n",
    "    augmented_matrix = np.column_stack((A, y))\n",
    "    \n",
    "    for i in range(n):\n",
    "        # Find the pivot row\n",
    "        pivot_row = np.argmax(np.abs(augmented_matrix[i:, i])) + i          # fix column and then slice over the row\n",
    "        augmented_matrix[[i, pivot_row]] = augmented_matrix[[pivot_row, i]] # row swapping after re-index   \n",
    "        \n",
    "        # Normalize the pivot row\n",
    "        augmented_matrix[i] /= augmented_matrix[i, i]\n",
    "        \n",
    "        # Eliminate other rows\n",
    "        for j in range(n):\n",
    "            if j != i:\n",
    "                augmented_matrix[j] -= augmented_matrix[j, i] * augmented_matrix[i]\n",
    "    \n",
    "    # Extract the solution\n",
    "    x = augmented_matrix[:, -1]\n",
    "    return x\n",
    "\n",
    "########################\n",
    "### 2. Function Call ###\n",
    "######################## \n",
    "A = np.array([[4,  3, -5], [-2, -4,  5] , [ 8,  8,  0]], dtype=float)\n",
    "y = np.array([2, 5, -3], dtype=float)\n",
    "\n",
    "# Swapping rows 0 and 2 of the array using NumPy indexing\n",
    "A[[0, 2], :] = A[[2, 0], :]\n",
    "y[0], y[2] = y[2], y[0]\n",
    "print(f\"reorder of A: \\n{A}\\n\")\n",
    "print(f\"reorder of y: {y}\\n\")\n",
    "\n",
    "# Using Gaussian-Jordan method\n",
    "x = gauss_jordan_elimination(A, y)\n",
    "print(f\"Solution by Gauss-Jordan x is:\\n{x}\\n\")\n",
    "\n",
    "# check with library\n",
    "np.allclose(x, np.linalg.solve(A, y)) \n"
   ]
  },
  {
   "attachments": {},
   "cell_type": "markdown",
   "metadata": {},
   "source": [
    "#### <font color=\"cyan\">**4. LU Decomposition Method**</font>\n",
    "\n",
    "The $LU$ decomposition method aims to turn $A = LU$, where $L$ is a lower triangular matrix while $U$ is an upper triangular matrix. <br>\n",
    "\n",
    "With this decomposition, we convert the system from one rectangle $Ax = y$ to two triangular sysytem:"
   ]
  },
  {
   "attachments": {},
   "cell_type": "markdown",
   "metadata": {
    "button": false,
    "new_sheet": false,
    "run_control": {
     "read_only": false
    }
   },
   "source": [
    "$$LUx=y\\rightarrow\n",
    "\\begin{bmatrix}\n",
    "l_{1,1} & 0 & 0 & 0\\\\\n",
    "l_{2,1} & l_{2,2} & 0 & 0\\\\\n",
    "l_{3,1} & l_{3,2} & l_{3,3} & 0 \\\\\n",
    "l_{4,1} & l_{4,2} & l_{4,3} & l_{4,4}\n",
    "\\end{bmatrix}\n",
    "\\begin{bmatrix}\n",
    "u_{1,1} & u_{1,2} & u_{1,3} & u_{1,4}\\\\\n",
    "0 & u_{2,2} & u_{2,3} & u_{2,4}\\\\\n",
    "0 & 0 & u_{3,3} & u_{3,4} \\\\\n",
    "0 & 0 & 0 & u_{4,4}\n",
    "\\end{bmatrix}\\left[\\begin{array}{c} x_1 \\\\x_2 \\\\ x_3 \\\\x_4 \\end{array}\\right] =\n",
    "\\left[\\begin{array}{c} y_1 \\\\y_2 \\\\ y_3 \\\\y_4 \\end{array}\\right]$$\n",
    "<br> <br/>\n",
    "\n",
    "**Step 1, Solving $m$:** Foward substitution $L(Ux)=Lm=y$: <br> </br>\n",
    "\n",
    "$$\n",
    "\\begin{bmatrix}\n",
    "l_{1,1} & 0 & 0 & 0\\\\\n",
    "l_{2,1} & l_{2,2} & 0 & 0\\\\\n",
    "l_{3,1} & l_{3,2} & l_{3,3} & 0 \\\\\n",
    "l_{4,1} & l_{4,2} & l_{4,3} & l_{4,4}\n",
    "\\end{bmatrix}m =\n",
    "\\left[\\begin{array}{c} y_1 \\\\y_2 \\\\ y_3 \\\\y_4 \\end{array}\\right]$$\n",
    "\n",
    "**Step 2, Solving $x$:** backward substitution $Ux=m$ <br> </br>\n",
    "\n",
    "$$\n",
    "\\begin{bmatrix}\n",
    "u_{1,1} & u_{1,2} & u_{1,3} & u_{1,4}\\\\\n",
    "0 & u_{2,2} & u_{2,3} & u_{2,4}\\\\\n",
    "0 & 0 & u_{3,3} & u_{3,4} \\\\\n",
    "0 & 0 & 0 & u_{4,4}\n",
    "\\end{bmatrix}\\left[\\begin{array}{c} x_1 \\\\x_2 \\\\ x_3 \\\\x_4 \\end{array}\\right] =\n",
    "\\left[\\begin{array}{c} m_1 \\\\m_2 \\\\ m_3 \\\\m_4 \\end{array}\\right]$$"
   ]
  },
  {
   "attachments": {},
   "cell_type": "markdown",
   "metadata": {},
   "source": [
    "**How to get $L$ and $U$ matrices? By Gaussian elimination!**\n",
    "\n",
    "$$A=\n",
    "\\begin{bmatrix}\n",
    "1 & 0 & 0 & 0\\\\\n",
    "m_{2,1} & 1 & 0 & 0\\\\\n",
    "m_{3,1} & m_{3,2} & 1 & 0 \\\\\n",
    "m_{4,1} & m_{4,2} & m_{4,3} & 1\n",
    "\\end{bmatrix}\n",
    "\\begin{bmatrix}\n",
    "u_{1,1} & u_{1,2} & u_{1,3} & u_{1,4}\\\\\n",
    "0 & u_{2,2} & u_{2,3} & u_{2,4}\\\\\n",
    "0 & 0 & u_{3,3} & u_{3,4} \\\\\n",
    "0 & 0 & 0 & u_{4,4}\n",
    "\\end{bmatrix}$$\n",
    "<br> </br>\n",
    "Let's see the above example, where $U$ is the one we used before to solve the equations, and $L$ is composed of the multipliers (you can check the examples in the Gauss Elimination section). \n",
    "\n",
    "\n"
   ]
  },
  {
   "attachments": {},
   "cell_type": "markdown",
   "metadata": {},
   "source": [
    "$$\n",
    "L = \\begin{bmatrix}\n",
    "1 & 0 & 0 \\\\\n",
    "-0.5 & 1 & 0 \\\\\n",
    "2 & -0.8 & 1 \\\\\n",
    "\\end{bmatrix}$$\n",
    "\n",
    "$$\n",
    "U = \\begin{bmatrix}\n",
    "4 & 3 & -5 \\\\\n",
    "0 & -2.5 & 2.5 \\\\\n",
    "0 & 0 & 60 \\\\\n",
    "\\end{bmatrix}$$\n"
   ]
  },
  {
   "cell_type": "code",
   "execution_count": null,
   "metadata": {
    "button": false,
    "new_sheet": false,
    "run_control": {
     "read_only": false
    }
   },
   "outputs": [
    {
     "name": "stdout",
     "output_type": "stream",
     "text": [
      "A: \n",
      "[[ 4.  3. -5.]\n",
      " [-2. -4.  5.]\n",
      " [ 8.  8.  0.]]\n",
      "\n",
      "L: \n",
      "[[ 1.   0.   0. ]\n",
      " [-0.5  1.   0. ]\n",
      " [ 2.  -0.8  1. ]]\n",
      "\n",
      "U: \n",
      "[[ 4.   3.  -5. ]\n",
      " [ 0.  -2.5  2.5]\n",
      " [ 0.   0.  12. ]]\n",
      "\n",
      "P_new: \n",
      "[[0. 0. 1.]\n",
      " [0. 1. 0.]\n",
      " [1. 0. 0.]]\n",
      "\n",
      "L_new: \n",
      "[[ 1.    0.    0.  ]\n",
      " [-0.25  1.    0.  ]\n",
      " [ 0.5   0.5   1.  ]]\n",
      "\n",
      "U_new: \n",
      "[[ 8.   8.   0. ]\n",
      " [ 0.  -2.   5. ]\n",
      " [ 0.   0.  -7.5]]\n",
      "\n"
     ]
    },
    {
     "data": {
      "text/plain": [
       "array([[ True,  True,  True],\n",
       "       [False,  True,  True],\n",
       "       [False, False,  True]])"
      ]
     },
     "execution_count": 17,
     "metadata": {},
     "output_type": "execute_result"
    }
   ],
   "source": [
    "\"\"\"\n",
    "Example 6.5.3: Naive LU decompostion A = LU (with no pivoting)\n",
    "Note the multipliers are the entries in L\n",
    "\"\"\"\n",
    "import numpy as np\n",
    "\n",
    "####################################################\n",
    "### 1. LU Decomposition without Partial Pivoting ###\n",
    "#################################################### \n",
    "def lu(A):\n",
    "    \n",
    "    # Get the number of rows\n",
    "    m = A.shape[0]\n",
    "    \n",
    "    # shallow copy\n",
    "    U = A.copy()\n",
    "    L = np.eye(m, dtype=np.double)\n",
    "    \n",
    "    # Loop over rows\n",
    "    for i in range(m):\n",
    "            \n",
    "        # Eliminate entries below i with row operations on U \n",
    "        # and reverse the row operations to manipulate L\n",
    "        # multiplier in L = factor\n",
    "        factor = U[i+1:, i] / U[i, i]\n",
    "        L[i+1:, i] = factor\n",
    "        U[i+1:] -= factor[:, np.newaxis] * U[i]\n",
    "        \n",
    "    return L, U\n",
    "\n",
    "########################\n",
    "### 2. Function Call ###\n",
    "######################## \n",
    "A = np.array([[4, 3, -5], [-2, -4, 5], [8, 8, 0]], dtype=float)\n",
    "\n",
    "# Using Naive LU decompostion\n",
    "L, U = lu(A)\n",
    "print(f\"A: \\n{A}\\n\")\n",
    "print(f\"L: \\n{L}\\n\")\n",
    "print(f\"U: \\n{U}\\n\")\n",
    "\n",
    "# check with library scipy PA = LU\n",
    "from scipy.linalg import lu as plu\n",
    "P_new, L_new, U_new = plu(A)\n",
    "print(f\"P_new: \\n{P_new}\\n\")\n",
    "print(f\"L_new: \\n{L_new}\\n\")\n",
    "print(f\"U_new: \\n{U_new}\\n\")\n",
    "np.isclose(L, L_new) \n",
    "\n"
   ]
  },
  {
   "cell_type": "markdown",
   "metadata": {},
   "source": [
    "#### <font color=red>**Homework#2**</font> \n",
    "\n",
    "Refer to Example 6.5.2 and 6.5.3, please add the parital pivoting to 6.5.3 (LU decomposition) and then equal to the results by scipy.linalg.lu(A).\n",
    "\n"
   ]
  },
  {
   "attachments": {},
   "cell_type": "markdown",
   "metadata": {},
   "source": [
    "#### <font color=\"cyan\">**5. Iterative Method: Jacobi and Gauss-Seidel Method**</font>"
   ]
  },
  {
   "attachments": {},
   "cell_type": "markdown",
   "metadata": {},
   "source": [
    "**Direct Method v.s. Iterative Methods**"
   ]
  },
  {
   "attachments": {},
   "cell_type": "markdown",
   "metadata": {},
   "source": [
    "$$\\begin{bmatrix}\n",
    "a_{1,1} & a_{1,2} & ... & a_{1,n}\\\\\n",
    "a_{2,1} & a_{2,2} & ... & a_{2,n}\\\\\n",
    "... & ... & ... & ... \\\\\n",
    "a_{m,1} & a_{m,2} & ... & a_{m,n}\n",
    "\\end{bmatrix}\\left[\\begin{array}{c} x_1 \\\\x_2 \\\\ ... \\\\x_n \\end{array}\\right] =\n",
    "\\left[\\begin{array}{c} y_1 \\\\y_2 \\\\ ... \\\\y_m \\end{array}\\right]$$\n",
    "we can write its explicit form as:\n",
    "\n",
    "$$\n",
    "x_i = \\frac{1}{a_{i,i}}\\Big[y_i - \\sum_{j=1, j \\ne i}^{j=n}{a_{i,j}x_j} \\Big]\n",
    "$$\n",
    "\n",
    "This is the basics of the iterative methods, we can assume initial values for all the $x$, and use it as $x^{(0)}$. In the first iteration, we can substitute $x^{(0)}$ into the right-hand side of the explicit equation above, and get the first iteration solution $x^{(1)}$. Thus, we can substitute $x^{(1)}$ into the equation and get substitute $x^{(2)}$. The iterations continue until the difference between $x^{(k)}$ and $x^{(k-1)}$ is smaller than some pre-defined value. \n",
    "\n",
    "In order to have the iterative methods work, we do need specific condition for the solution to converge. A sufficient but not necessary condition of the convergence is the coefficient matrix $a$ is a **diagonally dominant**. This means that in each row of the matrix of coefficients $a$, the absolute value of the diagonal element is greater than the sum of the absolute values of the off-diagonal elements. If the coefficient matrix satisfy the condition, the iteration will converge to the solution. The solution might still converge even when this condition is not satisfied."
   ]
  },
  {
   "attachments": {},
   "cell_type": "markdown",
   "metadata": {},
   "source": [
    "We will introduce two interative methods: **(1) Jacobi Method** and **(2) Gauss-Seidel Method** solve the the system of linear equations. "
   ]
  },
  {
   "attachments": {},
   "cell_type": "markdown",
   "metadata": {},
   "source": [
    "<font color=\"magenta\">**Try It:**</font> Solve the following system of linear equations using iterative method, use a pre-defined threshold $\\epsilon = 0.001$ or iterarion number $N$. \n",
    "\n",
    "Do remember to check if the converge condition is satisfied or not. \n",
    "\n",
    "\\begin{aligned}\n",
    "8x_1 + 2x_2 + 3x_3   &=& 14 \\\\\n",
    "2x_1 - 8x_2 + 5x_3  &=& 5 \\\\\n",
    "3x_1 + 5x_2 + 10x_3 & =& -8 \\\\\n",
    "\\end{aligned}\n",
    "\n",
    "Let us first check if the coefficient matrix is strict diagonally dominant (SDD) or not. \n",
    "\n",
    "Since it is guaranteed to converge, both (1) Gauss-Seidel (2) Jacobi method works. \n",
    "\n",
    "<font color=\"red\"> **textbook code in p. 255 (14.4.4.1) shall be corrected** </font>"
   ]
  },
  {
   "cell_type": "code",
   "execution_count": 25,
   "metadata": {},
   "outputs": [
    {
     "name": "stdout",
     "output_type": "stream",
     "text": [
      "pivots: [ 8.  8. 10.]\n",
      "\n",
      "sum of off-diagonal entries: [5. 7. 8.]\n",
      "\n",
      "matrix is diagonally dominant\n"
     ]
    }
   ],
   "source": [
    "\"\"\"\n",
    "Example 6.5.4A:\n",
    "Solving Ax = b by iterative method, first check its strict diagonally dominant (SDD) condition\n",
    "\"\"\"\n",
    "import numpy as np\n",
    "\n",
    "##############################\n",
    "### 1. Check SDD condition ###\n",
    "##############################\n",
    "\n",
    "A = np.array([[8, 2, 3], [3, -8, 5], [3, 5, 10]], dtype=float)\n",
    "\n",
    "# Find diagonal coefficients\n",
    "diag = np.diag(np.abs(A)) \n",
    "print(f\"pivots: {diag}\\n\")\n",
    "\n",
    "# Find row sum without diagonal\n",
    "off_diag = np.sum(np.abs(A), axis=1) - diag \n",
    "print(f\"sum of off-diagonal entries: {off_diag}\\n\")\n",
    "\n",
    "if np.all(diag > off_diag):\n",
    "    print('matrix is diagonally dominant')\n",
    "else:\n",
    "    print('NOT diagonally dominant')"
   ]
  },
  {
   "cell_type": "markdown",
   "metadata": {},
   "source": [
    "#### <font color= \"cyan\"> **Jacobi Method** </font> ####"
   ]
  },
  {
   "cell_type": "code",
   "execution_count": 1,
   "metadata": {},
   "outputs": [
    {
     "name": "stdout",
     "output_type": "stream",
     "text": [
      "Iteration results:\n",
      "k,  x1,    x2,    x3,    L2-error\n",
      "1, 2.0000, -0.6250, -0.3000, 2.0568\n",
      "2, 2.0187, -0.3125, -1.0875, 0.8474\n",
      "3, 2.2359, -0.8000, -1.2494, 0.5577\n",
      "4, 2.4185, -0.8469, -1.0708, 0.2597\n",
      "5, 2.3633, -0.6896, -1.1021, 0.1696\n",
      "6, 2.3357, -0.7230, -1.1642, 0.0757\n",
      "7, 2.3673, -0.7687, -1.1392, 0.0609\n",
      "8, 2.3694, -0.7452, -1.1259, 0.0271\n",
      "9, 2.3585, -0.7363, -1.1382, 0.0187\n",
      "10, 2.3609, -0.7468, -1.1394, 0.0108\n",
      "11, 2.3640, -0.7469, -1.1349, 0.0054\n",
      "12, 2.3623, -0.7433, -1.1357, 0.0040\n",
      "13, 2.3617, -0.7443, -1.1370, 0.0017\n",
      "14, 2.3625, -0.7452, -1.1364, 0.0014\n",
      "15, 2.3624, -0.7446, -1.1361, 0.0006\n"
     ]
    }
   ],
   "source": [
    "\"\"\" \n",
    "Example 6.5.5:\n",
    "Solving Ax = y by Iterative Jacobi Method\n",
    "\"\"\"\n",
    "import numpy as np\n",
    "from numpy.linalg import norm\n",
    "A = np.array([[8, 2, 3], [2, -8, 5], [3, 5, 10]], dtype=float)\n",
    "y = np.array([14, 5, -8], dtype=float)\n",
    "\n",
    "# inital guess \n",
    "x1 = 0\n",
    "x2 = -1\n",
    "x3 = 0\n",
    "x = np.array([x1, x2, x3])  \n",
    "\n",
    "# state trajectory in 2D array\n",
    "state_traj = x[:, None] \n",
    "\n",
    "# iteration condition\n",
    "epsilon = 0.001\n",
    "iteration = 100\n",
    "\n",
    "# setting error > 2*epsilon\n",
    "# iteration state tracking \n",
    "error = 2*epsilon \n",
    "iter_number = 0 \n",
    "\n",
    "print('Iteration results:')\n",
    "print('k,  x1,    x2,    x3,    L2-error')\n",
    "\n",
    "# we have to update the coefficients x1, x2, x3\n",
    "# and appendix the new x in state_traj    \n",
    "\n",
    "while ((error > epsilon) and (iter_number < iteration)):\n",
    "    iter_number += 1\n",
    "    # x1 = (        -2*x2  - 3*x3   + 14) / (8)\n",
    "    # x2 = (-2*x1          - 5*x3   +  5) /(-8)\n",
    "    # x3 = (-3*x1   -5*x2           -  8) /(10) \n",
    "    # written in matrix form x_(k+1) = M*x_(k) + b_0\n",
    "       \n",
    "    M = np.array([[0, -2/8, -3/8], [-2/-8, 0, -5/-8], [-3/10, -5/10, 0]], dtype=float)  \n",
    "    b_0 = np.array([14/8, 5/-8, -8/10])\n",
    "    x = np.dot(M, x) + b_0\n",
    "        \n",
    "    state_traj = np.hstack((state_traj, x[:,None]))\n",
    "    error = norm((state_traj[:,iter_number] - state_traj[:,iter_number-1]), 2)\n",
    "    print(\"%d, %.4f, %.4f, %.4f, %.4f\" %(iter_number, x[0], x[1], x[2], error))\n",
    "\n",
    "# solution x1=2.36, x2=-0.75, x3=-1.13\n"
   ]
  },
  {
   "cell_type": "code",
   "execution_count": 2,
   "metadata": {},
   "outputs": [
    {
     "data": {
      "text/plain": [
       "<matplotlib.legend.Legend at 0x1ce5369d310>"
      ]
     },
     "execution_count": 2,
     "metadata": {},
     "output_type": "execute_result"
    },
    {
     "data": {
      "image/png": "[encoded data removed]",
      "text/plain": [
       "<Figure size 640x480 with 1 Axes>"
      ]
     },
     "metadata": {},
     "output_type": "display_data"
    }
   ],
   "source": [
    "import numpy as np\n",
    "import matplotlib.pyplot as plt\n",
    "\n",
    "plt.style.use('fivethirtyeight')\n",
    "fig, ax = plt.subplots()\n",
    "\n",
    "t = np.arange(iter_number+1)\n",
    "ax.plot(t, state_traj[0,t], 'r', label=\"x1\")\n",
    "ax.plot(t, state_traj[1,t], 'g', label=\"x2\")\n",
    "ax.plot(t, state_traj[2,t], 'b', label=\"x3\")\n",
    "\n",
    "ax.set_xlabel(\"Iter_num\")\n",
    "ax.legend()  \n",
    "\n",
    "# solution x1=2.36, x2=-0.75, x3=-1.13"
   ]
  },
  {
   "cell_type": "code",
   "execution_count": 43,
   "metadata": {},
   "outputs": [
    {
     "name": "stdout",
     "output_type": "stream",
     "text": [
      "[0.27656038 0.58222474 0.58222474]\n",
      "\n",
      "[[ 0.85174194+0.j          0.26082474-0.3488612j   0.26082474+0.3488612j ]\n",
      " [-0.25916662+0.j         -0.73107731+0.j         -0.73107731-0.j        ]\n",
      " [-0.45537713+0.j          0.05741972-0.52201078j  0.05741972+0.52201078j]]\n",
      "\n"
     ]
    }
   ],
   "source": [
    "### check the eigenvalue of Jacobi matrix ###\n",
    "import numpy\n",
    "from numpy.linalg import eig, inv\n",
    "\n",
    "D = np.diag(np.diag(A))\n",
    "T = A - D\n",
    "w, v = eig(-numpy.linalg.inv(D) @ T)\n",
    "\n",
    "print(f\"{abs(w)}\\n\")\n",
    "print(f\"{v}\\n\")\n"
   ]
  },
  {
   "cell_type": "code",
   "execution_count": 64,
   "metadata": {},
   "outputs": [
    {
     "name": "stdout",
     "output_type": "stream",
     "text": [
      "Iteration results: \n",
      "k,   x1,    x2,    x3,   L2-error\n",
      "1, 1.75, -0.19, -1.23,   2.15\n",
      "2, 2.26, -0.83, -1.06,   0.84\n",
      "3, 2.36, -0.70, -1.16,   0.19\n",
      "4, 2.36, -0.76, -1.13,   0.06\n",
      "5, 2.36, -0.74, -1.14,   0.02\n",
      "6, 2.36, -0.75, -1.14,   0.01\n",
      "7, 2.36, -0.74, -1.14,   0.00\n",
      "8, 2.36, -0.74, -1.14,   0.00\n",
      "\n",
      "solution x is: [ 2.36227038 -0.74486356 -1.13624933]\n",
      "\n"
     ]
    },
    {
     "data": {
      "text/plain": [
       "True"
      ]
     },
     "execution_count": 64,
     "metadata": {},
     "output_type": "execute_result"
    }
   ],
   "source": [
    "\"\"\" \n",
    "Example 6.5.6A:\n",
    "Solving Ax = y by Iterative Gauss-Seidel Method\n",
    "\"\"\"\n",
    "import numpy as np\n",
    "from numpy.linalg import norm\n",
    "\n",
    "A = np.array([[8, 2, 3], [2, -8, 5], [3, 5, 10]], dtype=float)\n",
    "y = np.array([14, 5, -8], dtype=float)\n",
    "\n",
    "# inital guess \n",
    "x1 = 0\n",
    "x2 = 0\n",
    "x3 = 0\n",
    "x_0 = np.array([x1, x2, x3])  \n",
    "\n",
    "# state trajectory in 2D array\n",
    "state_traj = x_0[:, None] \n",
    "\n",
    "# iteration condition\n",
    "epsilon = 0.001\n",
    "iteration = 100\n",
    "\n",
    "# setting error > 2*epsilon\n",
    "# iteration state tracking \n",
    "error = 2*epsilon \n",
    "iter_number = 0 \n",
    "print(\"Iteration results: \")\n",
    "print(\"k,   x1,    x2,    x3,   L2-error\")\n",
    "\n",
    "# we have to update the coefficients x1, x2, x3 and appendix the new x in state_traj    \n",
    "while ((error > epsilon) and (iter_number < iteration)):\n",
    "    iter_number += 1\n",
    "    # x1 = (        -2*x2  - 3*x3   + 14) / (8)\n",
    "    # x2 = (-2*x1          - 5*x3   +  5) /(-8)\n",
    "    # x3 = (-3*x1   -5*x2           -  8) /(10) \n",
    "        \n",
    "    x1 = (        -2*x2  - 3*x3   + 14) / (8)\n",
    "    x2 = (-2*x1          - 5*x3   +  5) /(-8)\n",
    "    x3 = (-3*x1   -5*x2           -  8) /(10) \n",
    "    x = np.array([x1, x2, x3]) \n",
    "    state_traj = np.hstack((state_traj, x[:, None]))\n",
    "    error = norm((state_traj[:, iter_number] - state_traj[:, iter_number-1]), 2)\n",
    "    print(f\"{iter_number}, {x[0]:.2f}, {x[1]:.2f}, {x[2]:.2f},   {error:.2f}\")    \n",
    "# solution x1=2.36, x2=-0.75, x3=-1.13\n",
    "\n",
    "# check the results\n",
    "print()\n",
    "print(f\"solution x is: {x}\\n\")\n",
    "np.allclose(A@x, y, rtol = 1e-3)"
   ]
  },
  {
   "cell_type": "code",
   "execution_count": 24,
   "metadata": {},
   "outputs": [
    {
     "data": {
      "text/plain": [
       "<matplotlib.legend.Legend at 0x22d0d63ba60>"
      ]
     },
     "execution_count": 24,
     "metadata": {},
     "output_type": "execute_result"
    },
    {
     "data": {
      "image/png": "[encoded data removed]",
      "text/plain": [
       "<Figure size 640x480 with 1 Axes>"
      ]
     },
     "metadata": {},
     "output_type": "display_data"
    }
   ],
   "source": [
    "\"\"\" \n",
    "Plot state_trajectory of Iterative Gauss-Seidel Method\n",
    "\"\"\"\n",
    "import numpy as np\n",
    "import matplotlib.pyplot as plt\n",
    "\n",
    "plt.style.use('fivethirtyeight')\n",
    "fig, ax = plt.subplots()\n",
    "\n",
    "t = np.arange(iter_number+1)\n",
    "ax.plot(t, state_traj[0,t], 'r', label=\"x1\")\n",
    "ax.plot(t, state_traj[1,t], 'g', label=\"x2\")\n",
    "ax.plot(t, state_traj[2,t], 'b', label=\"x3\")\n",
    "\n",
    "ax.set_xlabel(\"Iter_num\")\n",
    "ax.legend()  "
   ]
  },
  {
   "cell_type": "code",
   "execution_count": 66,
   "metadata": {},
   "outputs": [
    {
     "name": "stdout",
     "output_type": "stream",
     "text": [
      "Iteration results:\n",
      "k,  x1,    x2,    x3,    L2-error\n",
      "1, 1.7500, -0.1875, -1.2312, 2.1479\n",
      "2, 2.2586, -0.8299, -1.0626, 0.8365\n",
      "3, 2.3560, -0.7002, -1.1567, 0.1875\n",
      "4, 2.3588, -0.7582, -1.1285, 0.0646\n",
      "5, 2.3628, -0.7396, -1.1390, 0.0217\n",
      "6, 2.3620, -0.7464, -1.1354, 0.0077\n",
      "7, 2.3624, -0.7440, -1.1367, 0.0027\n",
      "8, 2.3623, -0.7449, -1.1362, 0.0009\n",
      "\n",
      "solution x is: [ 2.36227038 -0.74486356 -1.13624933]\n",
      "\n"
     ]
    },
    {
     "data": {
      "text/plain": [
       "True"
      ]
     },
     "execution_count": 66,
     "metadata": {},
     "output_type": "execute_result"
    }
   ],
   "source": [
    "\"\"\" \n",
    "Example 6.5.6B:\n",
    "Solving Ax = y by Iterative Gauss-Seidel method, rewritten in matrix form\n",
    "\"\"\"\n",
    "# A = np.array([[8, 2, 3], [2, -8, 5], [3, 5, 10]], dtype=float)\n",
    "# y = np.array([14, 5, -8], dtype=float)\n",
    "\n",
    "# inital guess \n",
    "x1 = 0\n",
    "x2 = 0\n",
    "x3 = 0\n",
    "x = np.array([x1, x2, x3])  \n",
    "\n",
    "# state trajectory in 2D array\n",
    "state_traj = x[:, None] \n",
    "\n",
    "# iteration condition\n",
    "epsilon = 0.001\n",
    "iteration = 100\n",
    "\n",
    "# setting error > 2*epsilon\n",
    "# iteration state tracking \n",
    "error = 2*epsilon \n",
    "iter_number = 0 \n",
    "\n",
    "print('Iteration results:')\n",
    "print('k,  x1,    x2,    x3,    L2-error')\n",
    "\n",
    "# we have to update the coefficients x1, x2, x3\n",
    "# and appendix the new x in state_traj    \n",
    "\n",
    "while ((error > epsilon) and (iter_number < iteration)):\n",
    "    iter_number += 1\n",
    "    # x1 = (        -2*x2  - 3*x3   + 14) / (8)\n",
    "    # x2 = (-2*x1          - 5*x3   +  5) /(-8)\n",
    "    # x3 = (-3*x1   -5*x2           -  8) /(10) \n",
    "   \n",
    "    B = np.array([[1, 0, 0],[-2/8, 1, 0],[3/10, 5/10, 1]], dtype=float)    \n",
    "    M = inv(B) @ np.array([[0, -2/8, -3/8], [0, 0, -5/-8], [0, 0, 0]], dtype=float) \n",
    "    b_0 = inv(B) @ np.array([14/8, 5/-8, -8/10], dtype=float)\n",
    "    x = np.dot(M, x) + b_0\n",
    "\n",
    "    state_traj = np.hstack((state_traj, x[:,None]))\n",
    "    error = norm((state_traj[:,iter_number] - state_traj[:,iter_number-1]), 2)\n",
    "    print(\"%d, %.4f, %.4f, %.4f, %.4f\" %(iter_number, x[0], x[1], x[2], error))\n",
    "\n",
    "# check the results\n",
    "print()\n",
    "print(f\"solution x is: {x}\\n\")\n",
    "np.allclose(A@x, y, rtol = 1e-3)"
   ]
  },
  {
   "cell_type": "code",
   "execution_count": 65,
   "metadata": {},
   "outputs": [
    {
     "data": {
      "text/plain": [
       "<matplotlib.legend.Legend at 0x22d0de15b80>"
      ]
     },
     "execution_count": 65,
     "metadata": {},
     "output_type": "execute_result"
    },
    {
     "data": {
      "image/png": "[encoded data removed]",
      "text/plain": [
       "<Figure size 640x480 with 1 Axes>"
      ]
     },
     "metadata": {},
     "output_type": "display_data"
    }
   ],
   "source": [
    "plt.style.use('fivethirtyeight')\n",
    "fig, ax = plt.subplots()\n",
    "\n",
    "t = np.arange(iter_number+1)\n",
    "ax.plot(t, state_traj[0,:], 'r', label=\"x1\")\n",
    "ax.plot(t, state_traj[1,:], 'g', label=\"x2\")\n",
    "ax.plot(t, state_traj[2,:], 'b', label=\"x3\")\n",
    "\n",
    "ax.set_xlabel(\"Iter_num\")\n",
    "ax.legend()  "
   ]
  },
  {
   "cell_type": "code",
   "execution_count": 67,
   "metadata": {},
   "outputs": [
    {
     "name": "stdout",
     "output_type": "stream",
     "text": [
      "Diagonal matrix D:\n",
      "[[ 8.  0.  0.]\n",
      " [ 0. -8.  0.]\n",
      " [ 0.  0. 10.]]\n",
      "\n",
      "else matrix T1:\n",
      "[[0. 2. 3.]\n",
      " [2. 0. 5.]\n",
      " [3. 5. 0.]]\n",
      "\n",
      "eigenvalues of Jacobi's are [0.27656038 0.58222474 0.58222474]\n",
      "\n",
      "Lower triangular matrix L:\n",
      "[[ 8.  0.  0.]\n",
      " [ 2. -8.  0.]\n",
      " [ 3.  5. 10.]]\n",
      "\n",
      "else matrix T1:\n",
      "[[0. 2. 3.]\n",
      " [0. 0. 5.]\n",
      " [0. 0. 0.]]\n",
      "\n",
      "eigenvalues of Gauss-Seidel's are [0.        0.1340522 0.3496772]\n",
      "\n"
     ]
    },
    {
     "data": {
      "text/plain": [
       "array([ True,  True,  True])"
      ]
     },
     "execution_count": 67,
     "metadata": {},
     "output_type": "execute_result"
    }
   ],
   "source": [
    "\"\"\" \n",
    "Example 6.5.7:\n",
    "Convergence test by eigenvalues with (1) Jacobi and (2) Gauss-Seidel Method\n",
    "\"\"\"\n",
    "from numpy.linalg import eig, inv\n",
    "\n",
    "\n",
    "A = np.array([[8, 2, 3], [2, -8, 5], [3, 5, 10]], dtype=float)\n",
    "\n",
    "# Jacobi A = D + T1\n",
    "D = np.diag(np.diag(A))\n",
    "print(f\"Diagonal matrix D:\\n{D}\\n\")\n",
    "T1 = A - D\n",
    "print(f\"else matrix T1:\\n{T1}\\n\")\n",
    "w1, v1 = eig(np.dot(-inv(D), T1))\n",
    "print(f\"eigenvalues of Jacobi's are {abs(w1)}\\n\")\n",
    "\n",
    "\n",
    "# Gauss-Seidel A = L + T2\n",
    "L = np.tril(A)\n",
    "print(f\"Lower triangular matrix L:\\n{L}\\n\")\n",
    "T2 = A - L\n",
    "print(f\"else matrix T1:\\n{T2}\\n\")\n",
    "w2, v2 = eig(np.dot(-inv(L), T2))\n",
    "print(f\"eigenvalues of Gauss-Seidel's are {abs(w2)}\\n\")\n",
    "\n",
    "np.greater(abs(w1), abs(w2))"
   ]
  },
  {
   "attachments": {},
   "cell_type": "markdown",
   "metadata": {},
   "source": [
    "___"
   ]
  }
 ],
 "metadata": {
  "kernelspec": {
   "display_name": "numerical_methods_local",
   "language": "python",
   "name": "python3"
  },
  "language_info": {
   "codemirror_mode": {
    "name": "ipython",
    "version": 3
   },
   "file_extension": ".py",
   "mimetype": "text/x-python",
   "name": "python",
   "nbconvert_exporter": "python",
   "pygments_lexer": "ipython3",
   "version": "3.9.0"
  }
 },
 "nbformat": 4,
 "nbformat_minor": 2
}
