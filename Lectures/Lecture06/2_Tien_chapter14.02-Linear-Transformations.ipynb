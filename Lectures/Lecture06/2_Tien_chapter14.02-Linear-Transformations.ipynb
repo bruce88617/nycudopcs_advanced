{
 "cells": [
  {
   "cell_type": "markdown",
   "metadata": {},
   "source": [
    "## **Lecture 6. Linear Algebra and Systems of Linear Equations** \n",
    "### **6.2 Linear Transformations** "
   ]
  },
  {
   "cell_type": "markdown",
   "metadata": {
    "button": false,
    "new_sheet": false,
    "run_control": {
     "read_only": false
    }
   },
   "source": [
    "For vectors $x$ and $y$, and scalars $a$ and $b$, it is sufficient to say that a function, $F$, is a **linear transformation** if  \n",
    "\n",
    "<br>\n",
    "\n",
    "$$\n",
    "F(ax + by) = aF(x) + bF(y).\n",
    "$$\n",
    "\n",
    "<br>\n",
    "\n",
    "<font color=\"magenta\">**TRY IT!**</font> Let $x$ be a vector and let $F(x)$ be defined by $F(x) =y= Ax$ where $A$ is a rectangular matrix of appropriate size. Show that $F(x)$ is a linear transformation."
   ]
  },
  {
   "cell_type": "markdown",
   "metadata": {},
   "source": [
    "\n",
    "<font color=\"cyan\">**Four important subpsaces associated with $y = Ax$:**</font>\n",
    "\n",
    "\n",
    "* $x \\in \\mathcal{C}(\\mathbf{A^T}) \\subset {\\mathbb{R^{n}}}$<br>  $x$ in row space\n",
    "* $x_{null} \\in \\mathcal{N}(\\mathbf{A}) \\subset {\\mathbb{R^{n}}}$<br> $x_{null}$ in null space \n",
    "\n",
    "\n",
    "* $y \\in \\mathcal{C}(\\mathbf{A}) \\subset {\\mathbb{R^{m}}}$<br>  $y$ in column space\n",
    "* $y_{leftnull} \\in \\mathcal{N}(\\mathbf{A^T}) \\subset {\\mathbb{R^{m}}}$<br> $y_{leftnull}$ in left null space "
   ]
  },
  {
   "cell_type": "markdown",
   "metadata": {},
   "source": [
    "<font color=\"magenta\">**TRY IT!**</font><br> Let $A = [[1, 0, 0], [0, 1, 0], [0, 0, 0]]$ and let the domain of $A$ be ${\\mathbb{R}}^3$. Characterize the range (column space) and nullspace of $A$.\n",
    "  \n",
    "Let $v = [x,y,z]$ be a vector in ${\\mathbb{R}}^3$. Then $u = Av$ is the vector $u = [x,y,0]$. Since $x,y\\in {\\mathbb{R}}$, the range of $A$ is the $x$-$y$ plane at $z = 0$.\n",
    "\n",
    "Let $v = [0,0,z]$ for $z\\in {\\mathbb{R}}$. Then $u = Av$ is the vector $u = [0, 0, 0]$. Therefore, the nullspace of $A$ is the $z$-axis (i.e., the set of vectors $[0,0,z]$ $z\\in {\\mathbb{R}}$).\n",
    "\n",
    "Therefore, this linear transformation \"flattens\" any $z$-component from a vector."
   ]
  },
  {
   "cell_type": "code",
   "execution_count": 6,
   "metadata": {},
   "outputs": [
    {
     "name": "stdout",
     "output_type": "stream",
     "text": [
      "Random matrix A:\n",
      "[[1. 7. 4. 3.]\n",
      " [0. 1. 2. 3.]\n",
      " [3. 2. 0. 3.]\n",
      " [1. 3. 1. 3.]]\n",
      " \n",
      "Reduced Row Echelon Form:\n",
      "[[1.        7.        4.        3.       ]\n",
      " [0.        1.        2.        3.       ]\n",
      " [0.        0.        1.        1.9615384]\n",
      " [0.        0.        0.        1.       ]]\n"
     ]
    }
   ],
   "source": [
    "\"\"\"\n",
    "Example 6.2.1:\n",
    "Given matrix A (m by n), find its reduced row echelon form R.\n",
    "In practice for factorization, we use A = QR (single basis) and SVD(A) (dual basis) \n",
    "\"\"\"\n",
    "import numpy as np\n",
    "\n",
    "def row_echelon(A):\n",
    "    # If matrix A has no columns or rows, it is already in RREF, so we return itself\n",
    "    r, c = A.shape\n",
    "    if r == 0 or c == 0:\n",
    "        return A\n",
    "    \n",
    "    # We search for non-zero element in the first column\n",
    "    for i in range(len(A)):\n",
    "        if A[i, 0] != 0:\n",
    "            break\n",
    "    else:\n",
    "        # If all elements in the first column are zero, perform RREF on matrix from second column\n",
    "        B = row_echelon(A[:, 1:])\n",
    "        # Add the first zero-column back\n",
    "        return np.hstack([A[:, :1], B])\n",
    "    \n",
    "    # If non-zero element happens not in the first row, switch rows\n",
    "    if i > 0:\n",
    "        ith_row = A[i].copy()\n",
    "        A[i] = A[0]\n",
    "        A[0] = ith_row\n",
    "    \n",
    "    # Divide first row by first element in it\n",
    "    A[0] = A[0] / A[0, 0]\n",
    "    \n",
    "    # Subtract all subsequent rows with first row (it has 1 now as the first element)\n",
    "    # multiplied by the corresponding element in the first column\n",
    "    A[1:] -= A[0] * A[1:, 0:1]\n",
    "    \n",
    "    # Perform RREF on matrix from the second row, from the second column\n",
    "    B = row_echelon(A[1:, 1:])\n",
    "    \n",
    "    # Add the first row and the first (zero) column, and return\n",
    "    return np.vstack([A[:1], np.hstack([A[1:,:1], B])])\n",
    "\n",
    "# Example 1\n",
    "A = np.array([[1, 7, 4, 3],\n",
    "              [0, 1, 2, 3],\n",
    "              [3, 2, 0, 3],\n",
    "              [1, 3, 1, 3]], dtype=np.float32)\n",
    "\n",
    "# Example_2 random matrix\n",
    "# m = 3\n",
    "# n = 4\n",
    "# A = np.random.rand(m, n)\n",
    "\n",
    "\n",
    "print(\"Random matrix A:\")\n",
    "print(A)\n",
    "print(\" \")\n",
    "\n",
    "\n",
    "# Print the reduced row echelon form\n",
    "result = row_echelon(A)\n",
    "print(\"Reduced Row Echelon Form:\")\n",
    "print(result)\n"
   ]
  },
  {
   "cell_type": "code",
   "execution_count": 6,
   "metadata": {},
   "outputs": [
    {
     "name": "stdout",
     "output_type": "stream",
     "text": [
      "rank =  2\n",
      "U = \n",
      " [[ 6.38534846e-01  3.03765123e-01 -7.07106781e-01]\n",
      " [ 4.29588757e-01 -9.03024640e-01 -5.55111512e-16]\n",
      " [ 6.38534846e-01  3.03765123e-01  7.07106781e-01]]\n",
      "S = \n",
      " [6.06034043e+00 5.21798684e-01 3.75391546e-16]\n",
      "VH = \n",
      " [[ 0.28161099  0.49233672  0.77394771  0.28161099]\n",
      " [-0.56629961  0.59800046  0.03170085 -0.56629961]\n",
      " [ 0.74155675  0.080363   -0.080363   -0.66119374]\n",
      " [ 0.22381598  0.62732909 -0.62732909  0.40351311]]\n"
     ]
    }
   ],
   "source": [
    "\"\"\"\n",
    "Example 6.2.2:\n",
    "SVD to find four fundamental basis, Null space as example. \n",
    "\"\"\"\n",
    "import numpy as np\n",
    "from numpy.linalg import matrix_rank\n",
    "from numpy.linalg import svd\n",
    "\n",
    "A = np.array([[1, 2, 3, 1], [1, 1, 2, 1], [1, 2, 3, 1]])\n",
    "U, S, VH = svd(A)\n",
    "r = matrix_rank(A)\n",
    "\n",
    "print(\"rank = \", r)\n",
    "print(\"U = \\n\", U) \n",
    "print(\"S = \\n\", S) \n",
    "print(\"VH = \\n\", VH) "
   ]
  },
  {
   "cell_type": "code",
   "execution_count": 13,
   "metadata": {},
   "outputs": [
    {
     "name": "stdout",
     "output_type": "stream",
     "text": [
      "rank =  1\n",
      "U = \n",
      " [[-0.33333333  0.66666667  0.66666667]\n",
      " [ 0.66666667  0.66666667 -0.33333333]\n",
      " [ 0.66666667 -0.33333333  0.66666667]]\n",
      "S = \n",
      " [9.48683298 0.        ]\n",
      "VH = \n",
      " [[ 0.9486833  -0.31622777]\n",
      " [ 0.31622777  0.9486833 ]]\n",
      "Null Space Matrix = \n",
      " [[0.31622777]\n",
      " [0.9486833 ]]\n"
     ]
    }
   ],
   "source": [
    "\"\"\"\n",
    "Example 6.2.3:\n",
    "SVD to find four fundamental basis, Null space as example. \n",
    "Numerical Example from http://people.whitman.edu/~hundledr/courses/M240S16/M240/TheSVD.pdf \n",
    "\"\"\"\n",
    "import numpy as np\n",
    "from numpy.linalg import matrix_rank\n",
    "from numpy.linalg import svd\n",
    "\n",
    "A = np.array([[-3, 1], [6, -2], [6, -2]])\n",
    "U, S, VH = svd(A)\n",
    "r = matrix_rank(A)\n",
    "\n",
    "print(\"rank = \", r)\n",
    "print(\"U = \\n\", U) \n",
    "print(\"S = \\n\", S) \n",
    "print(\"VH = \\n\", VH) \n",
    "\n",
    "def null(A, eps=1e-15):\n",
    "    U, S, VH = svd(A)\n",
    "    null_mask = (S <= eps)\n",
    "    null_space = np.compress(null_mask, VH, axis=0)\n",
    "    return np.transpose(null_space)\n",
    "\n",
    "null_space_matrix = null(A)\n",
    "print(\"Null Space Matrix = \\n\", null_space_matrix) \n",
    "\n"
   ]
  }
 ],
 "metadata": {
  "kernelspec": {
   "display_name": "Python 3",
   "language": "python",
   "name": "python3"
  },
  "language_info": {
   "codemirror_mode": {
    "name": "ipython",
    "version": 3
   },
   "file_extension": ".py",
   "mimetype": "text/x-python",
   "name": "python",
   "nbconvert_exporter": "python",
   "pygments_lexer": "ipython3",
   "version": "3.11.2"
  },
  "varInspector": {
   "cols": {
    "lenName": 16,
    "lenType": 16,
    "lenVar": 40
   },
   "kernels_config": {
    "python": {
     "delete_cmd_postfix": "",
     "delete_cmd_prefix": "del ",
     "library": "var_list.py",
     "varRefreshCmd": "print(var_dic_list())"
    },
    "r": {
     "delete_cmd_postfix": ") ",
     "delete_cmd_prefix": "rm(",
     "library": "var_list.r",
     "varRefreshCmd": "cat(var_dic_list()) "
    }
   },
   "types_to_exclude": [
    "module",
    "function",
    "builtin_function_or_method",
    "instance",
    "_Feature"
   ],
   "window_display": false
  },
  "vscode": {
   "interpreter": {
    "hash": "a7632bf4336177dcaac0f16a29bf528d1eef8e973ee46e49b304d96d25ec4172"
   }
  }
 },
 "nbformat": 4,
 "nbformat_minor": 2
}
