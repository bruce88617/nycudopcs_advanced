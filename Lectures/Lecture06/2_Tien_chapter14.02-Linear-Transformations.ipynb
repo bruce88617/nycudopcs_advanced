{
 "cells": [
  {
   "cell_type": "markdown",
   "metadata": {
    "button": false,
    "new_sheet": false,
    "run_control": {
     "read_only": false
    }
   },
   "source": [
    "<!--NAVIGATION-->\n",
    "< [4.1 Basics of Linear Algebra](Tien_chapter14.01-Basics-of-Linear-Algebra.ipynb) | [Contents](Tien_chapter14.02-Linear-Transformations.ipynb) | [4.3 Systems of Linear Equations](Tien_chapter14.03-Systems-of-Linear-Equations.ipynb) >"
   ]
  },
  {
   "cell_type": "markdown",
   "metadata": {},
   "source": [
    "## **Lecture 4. Linear Algebra and Systems of Linear Equations:** \n",
    "### **4.2 Linear Transformations** "
   ]
  },
  {
   "cell_type": "markdown",
   "metadata": {
    "button": false,
    "new_sheet": false,
    "run_control": {
     "read_only": false
    }
   },
   "source": [
    "For vectors $x$ and $y$, and scalars $a$ and $b$, it is sufficient to say that a function, $F$, is a **linear transformation** if  \n",
    "\n",
    "<br>\n",
    "\n",
    "$$\n",
    "F(ax + by) = aF(x) + bF(y).\n",
    "$$\n",
    "\n",
    "<br>\n",
    "\n",
    "<font color=\"magenta\">**TRY IT!**</font> Let $x$ be a vector and let $F(x)$ be defined by $F(x) =y= Ax$ where $A$ is a rectangular matrix of appropriate size. Show that $F(x)$ is a linear transformation."
   ]
  },
  {
   "cell_type": "markdown",
   "metadata": {},
   "source": [
    "\n",
    "<font color=\"cyan\">**Four important subpsaces associated with $y = Ax$:**</font>\n",
    "\n",
    "\n",
    "* $x \\in \\mathcal{C}(\\mathbf{A^T}) \\subset {\\mathbb{R^{n}}}$<br>  $x$ in row space\n",
    "* $x_{null} \\in \\mathcal{N}(\\mathbf{A}) \\subset {\\mathbb{R^{n}}}$<br> $x_{null}$ in null space \n",
    "\n",
    "\n",
    "* $y \\in \\mathcal{C}(\\mathbf{A}) \\subset {\\mathbb{R^{m}}}$<br>  $y$ in column space\n",
    "* $y_{leftnull} \\in \\mathcal{N}(\\mathbf{A^T}) \\subset {\\mathbb{R^{m}}}$<br> $y_{leftnull}$ in left null space "
   ]
  },
  {
   "cell_type": "markdown",
   "metadata": {},
   "source": [
    "<font color=\"magenta\">**TRY IT!**</font><br> Let $A = [[1, 0, 0], [0, 1, 0], [0, 0, 0]]$ and let the domain of $A$ be ${\\mathbb{R}}^3$. Characterize the range (column space) and nullspace of $A$.\n",
    "  \n",
    "Let $v = [x,y,z]$ be a vector in ${\\mathbb{R}}^3$. Then $u = Av$ is the vector $u = [x,y,0]$. Since $x,y\\in {\\mathbb{R}}$, the range of $A$ is the $x$-$y$ plane at $z = 0$.\n",
    "\n",
    "Let $v = [0,0,z]$ for $z\\in {\\mathbb{R}}$. Then $u = Av$ is the vector $u = [0, 0, 0]$. Therefore, the nullspace of $A$ is the $z$-axis (i.e., the set of vectors $[0,0,z]$ $z\\in {\\mathbb{R}}$).\n",
    "\n",
    "Therefore, this linear transformation \"flattens\" any $z$-component from a vector."
   ]
  },
  {
   "cell_type": "code",
   "execution_count": null,
   "metadata": {},
   "outputs": [],
   "source": [
    "\"\"\"\n",
    "Example 4.14a:\n",
    "N(A), Ax = 0. Note the inner matrix dimensions must match np.dot(A, x) \n",
    "\"\"\"\n",
    "import numpy as np\n",
    "from numpy.linalg import matrix_rank\n",
    "from scipy.linalg import null_space\n",
    "\n",
    "A = np.array([[1, 0, 0], [0, 1, 0], [0, 0, 0]])\n",
    "NS = null_space(A)\n",
    "NS*np.sign(NS[0,0]) #remove the sign ambiguity of the vector\n",
    "\n",
    "print(\"matrix_shape:\", A.shape)\n",
    "print(\"\")\n",
    "print(\"matrix_rank:\", matrix_rank(A))\n",
    "print(\"\")\n",
    "print(\"N(A) is:\\n\", NS)\n",
    "\n",
    "# scipy.linalg.null_space\n",
    "# https://docs.scipy.org/doc/scipy/reference/generated/scipy.linalg.null_space.html "
   ]
  },
  {
   "cell_type": "code",
   "execution_count": 3,
   "metadata": {},
   "outputs": [
    {
     "name": "stdout",
     "output_type": "stream",
     "text": [
      "matrix_rank: 2\n",
      "\n",
      "Null space is:\n",
      " [[ 0.95093377 -0.04532191]\n",
      " [-0.28226221  0.27801091]\n",
      " [ 0.12497656  0.94645299]\n",
      " [-0.02082943 -0.15774217]]\n",
      "\n",
      "Column space is: \n",
      " [[1. 0.]\n",
      " [2. 1.]\n",
      " [5. 0.]]\n"
     ]
    }
   ],
   "source": [
    "\"\"\"\n",
    "Example 4.14b:\n",
    "Null space of A and Column space of A\n",
    "The factor U will be of the same size as input matrix, but will be upper-triangular. \n",
    "In each row of U, pick the first nonzero element: these are pivot elements, which belong to linearly independent columns.\n",
    "Gilbert Strang 3.6A   \n",
    "\"\"\"\n",
    "import numpy as np\n",
    "from numpy.linalg import matrix_rank\n",
    "from scipy.linalg import null_space, lu\n",
    "\n",
    "A = np.array(np.dot([[1, 0, 0], [2, 1, 1], [5, 0, 1]], \n",
    "                    [[1, 3, 0, 5], [0, 0, 1, 6], [0, 0, 0, 0]]), dtype = float)\n",
    "NS = null_space(A)\n",
    "NS*np.sign(NS[0,0]) #remove the sign amBiguity of the vector\n",
    "\n",
    "# print(\"matrix_shape:\", A.shape)\n",
    "# print(\"\")\n",
    "print(\"matrix_rank:\", matrix_rank(A))\n",
    "print(\"\")\n",
    "print(\"Null space is:\\n\", NS)\n",
    "print(\"\")\n",
    "\n",
    "\n",
    "P, L, U = lu(A)\n",
    "\n",
    "def get_indices_for_linearly_independent_columns_of_A(U):\n",
    "    U_copy = U.copy()\n",
    "\n",
    "    # Because some rows in U may not have even one nonzero element,\n",
    "    # I have to find the index for the first one in two steps.\n",
    "    index_of_all_nonzero_cols_in_each_row = [U_copy[i, :].nonzero()[0] for i in range(U_copy.shape[0])]\n",
    "        \n",
    "    index_of_first_nonzero_col_in_each_row = [indices[0] for indices in index_of_all_nonzero_cols_in_each_row if len(indices) > 0]\n",
    "   \n",
    "    return index_of_first_nonzero_col_in_each_row\n",
    "\n",
    "CS = A[:, get_indices_for_linearly_independent_columns_of_A(U)]\n",
    "print(\"Column space is: \\n\", CS)\n",
    "\n"
   ]
  },
  {
   "cell_type": "code",
   "execution_count": 13,
   "metadata": {},
   "outputs": [
    {
     "name": "stdout",
     "output_type": "stream",
     "text": [
      "[[-0.28167089]\n",
      " [-0.02088608]]\n"
     ]
    },
    {
     "data": {
      "text/plain": [
       "array([ 0.94944304, -0.28167089,  0.12531646, -0.02088608])"
      ]
     },
     "execution_count": 13,
     "metadata": {},
     "output_type": "execute_result"
    }
   ],
   "source": [
    "\"\"\"\n",
    "Example 4.14c:\n",
    "Check the different bases of nullspace,\n",
    "one is from hand calculation, the other one is from scipy.linalg.null_space(A)\n",
    "\"\"\"\n",
    "# check the coefficients aN1+bN2 = NS, where NS is from scipy.linalg.null_space(A)\n",
    "# N1, N2 is from hand calculation\n",
    "\n",
    "A = np.array([[-3, -5], [1, 0], [0, -6], [0, 1]])\n",
    "y = np.array([[.95], [-.28], [.125], [-.02]])\n",
    "x = np.linalg.pinv(A)@y\n",
    "print(x)\n",
    "\n",
    "N1 = np.array([-3,  1,  0,  0])\n",
    "N2 = np.array([-5,  0, -6,  1])\n",
    "\n",
    "x[0,:]*N1+x[1,:]*N2 "
   ]
  },
  {
   "cell_type": "markdown",
   "metadata": {
    "button": false,
    "new_sheet": false,
    "run_control": {
     "read_only": false
    }
   },
   "source": [
    "<!--NAVIGATION-->\n",
    "< [4.1 Basics of Linear Algebra](Tien_chapter14.01-Basics-of-Linear-Algebra.ipynb) | [Contents](Tien_chapter14.02-Linear-Transformations.ipynb) | [4.3 Systems of Linear Equations](Tien_chapter14.03-Systems-of-Linear-Equations.ipynb) >"
   ]
  }
 ],
 "metadata": {
  "kernelspec": {
   "display_name": "Python 3",
   "language": "python",
   "name": "python3"
  },
  "language_info": {
   "codemirror_mode": {
    "name": "ipython",
    "version": 3
   },
   "file_extension": ".py",
   "mimetype": "text/x-python",
   "name": "python",
   "nbconvert_exporter": "python",
   "pygments_lexer": "ipython3",
   "version": "3.8.8"
  },
  "varInspector": {
   "cols": {
    "lenName": 16,
    "lenType": 16,
    "lenVar": 40
   },
   "kernels_config": {
    "python": {
     "delete_cmd_postfix": "",
     "delete_cmd_prefix": "del ",
     "library": "var_list.py",
     "varRefreshCmd": "print(var_dic_list())"
    },
    "r": {
     "delete_cmd_postfix": ") ",
     "delete_cmd_prefix": "rm(",
     "library": "var_list.r",
     "varRefreshCmd": "cat(var_dic_list()) "
    }
   },
   "types_to_exclude": [
    "module",
    "function",
    "builtin_function_or_method",
    "instance",
    "_Feature"
   ],
   "window_display": false
  },
  "vscode": {
   "interpreter": {
    "hash": "a7632bf4336177dcaac0f16a29bf528d1eef8e973ee46e49b304d96d25ec4172"
   }
  }
 },
 "nbformat": 4,
 "nbformat_minor": 2
}
