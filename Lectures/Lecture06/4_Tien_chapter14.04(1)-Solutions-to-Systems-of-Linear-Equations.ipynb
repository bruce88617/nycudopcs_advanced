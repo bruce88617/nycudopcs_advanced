{
 "cells": [
  {
   "attachments": {},
   "cell_type": "markdown",
   "metadata": {
    "button": false,
    "new_sheet": false,
    "run_control": {
     "read_only": false
    }
   },
   "source": [
    "## **Lecture 6. Linear Algebra and Systems of Linear Equations** \n",
    "### **6.4 Solving Systems of Linear Equations**"
   ]
  },
  {
   "attachments": {},
   "cell_type": "markdown",
   "metadata": {},
   "source": [
    "$$ \n",
    "\\LARGE Ax=y \n",
    "$$ \n",
    "\n",
    "* $A$ is an $m \\times n$ matrix with $rank(A) = r$\n",
    "\n",
    "* **solution** is an $x \\in {\\mathbb{R}}^n$ \n",
    "\n",
    "* **measurement** $y \\in {\\mathbb{R}}^m$, three possible solutions for $x$. "
   ]
  },
  {
   "attachments": {},
   "cell_type": "markdown",
   "metadata": {},
   "source": [
    "#### <font color=\"cyan\">**6.4.1 Solve $Ax = y$ by library modules**</font> \n",
    "\n",
    "**Three Possibilities for Solution $x$**"
   ]
  },
  {
   "attachments": {},
   "cell_type": "markdown",
   "metadata": {},
   "source": [
    "<font color=\"cyan\">**Case 1: There is no solution for $x$.** </font> \n",
    "\n",
    "Over-determined system:  $m>n=r, $ \n",
    "\n",
    "$y$ is linearly independent from the columns of $A$. \n",
    "\n",
    "Regression (projection) problem, least square method to find the approximation $\\hat{x}$."
   ]
  },
  {
   "cell_type": "code",
   "execution_count": 39,
   "metadata": {},
   "outputs": [
    {
     "name": "stdout",
     "output_type": "stream",
     "text": [
      "Augmented matrix A_y = \n",
      "[[1. 0. 6.]\n",
      " [1. 1. 0.]\n",
      " [1. 2. 0.]]\n",
      "\n",
      "rank of A: 2 \n",
      "\n",
      "rank of A_y: 3 \n",
      "\n",
      "approximated solution x: \n",
      " [ 5. -3.] \n",
      "\n",
      "projected vector p: \n",
      " [ 5.  2. -1.] \n",
      "\n",
      "error vector e: \n",
      " [ 1. -2.  1.] \n",
      "\n",
      "True\n",
      "[ True  True  True]\n"
     ]
    }
   ],
   "source": [
    "\"\"\"\n",
    "Example 6.4.1A: Directed Inverse Method by Projection Matrix\n",
    "Ax = y has no solution, over-determined system, find the approximate solution x^\n",
    "Gilbert Strang 4.2 Example 3\n",
    "\"\"\"\n",
    "import numpy as np\n",
    "import numpy.linalg \n",
    "\n",
    "A = np.array([[1, 0], [1, 1], [1, 2]])\n",
    "# y = np.array([[6], [0], [0]])\n",
    "# A_y = np.concatenate((A, y), axis = 1)\n",
    "y = np.array([6, 0, 0], dtype=float)\n",
    "A_y = np.hstack((A, y[:,None]))\n",
    "print(f\"Augmented matrix A_y = \\n{A_y}\\n\")\n",
    "\n",
    "# there are different approaches to find the projection matrix P = inv(A.T@A) @ A.T @ y\n",
    "x = np.linalg.inv(A.T@A) @ A.T @ y\n",
    "# x = np.dot(np.linalg.pinv(A), y)\n",
    "print(f\"rank of A: {np.linalg.matrix_rank(A)} \\n\")\n",
    "print(f\"rank of A_y: {np.linalg.matrix_rank(A_y)} \\n\")\n",
    "print(f\"approximated solution x: \\n {x} \\n\")\n",
    "\n",
    "# check the result, p is the projected vector, P is the projection matrix\n",
    "p = np.dot(A,x)\n",
    "print(f\"projected vector p: \\n {p} \\n\")\n",
    "\n",
    "P = A @ np.linalg.inv(A.T@A) @ A.T\n",
    "r = np.linalg.matrix_rank(A_y)\n",
    "e = np.dot((np.eye(r)-P), y)\n",
    "print(f\"error vector e: \\n {e} \\n\")\n",
    "\n",
    "# check results\n",
    "print(np.allclose(p + e, y))\n",
    "print(np.isclose(p + e, y))\n"
   ]
  },
  {
   "cell_type": "code",
   "execution_count": 25,
   "metadata": {},
   "outputs": [
    {
     "name": "stdout",
     "output_type": "stream",
     "text": [
      "[ 5. -3.]\n"
     ]
    }
   ],
   "source": [
    "\"\"\"\n",
    "Example 6.4.1B: Directed Inverse Method by Psedo-inverse matrix pinv(A)\n",
    "Ax = y has no solution, over-determined system, find the approximate solution x^\n",
    "Gilbert Strang 4.2 Example 3\n",
    "\"\"\"\n",
    "\n",
    "A = np.array([[1, 0], [1, 1], [1, 2]])\n",
    "y = np.array([6, 0, 0], dtype=float)\n",
    "A_y = np.hstack((A, y[:,None]))\n",
    "\n",
    "x = np.linalg.pinv(A).dot(y)\n",
    "print(x)\n"
   ]
  },
  {
   "attachments": {},
   "cell_type": "markdown",
   "metadata": {},
   "source": [
    "<font color=\"cyan\">**Case 2: There is a unique solution for $x$.**</font> \n",
    "\n",
    "Well-determined system: $ m = n = r, $ \n",
    "\n",
    "$y$ can be written as a linear combination of the columns of $A$. Matrix is **invertible**."
   ]
  },
  {
   "cell_type": "code",
   "execution_count": 45,
   "metadata": {},
   "outputs": [
    {
     "name": "stdout",
     "output_type": "stream",
     "text": [
      "rank of A: 3\n",
      "\n",
      "solution is: \n",
      " [ 2.  1. -2.] \n",
      "\n",
      "True\n"
     ]
    }
   ],
   "source": [
    "\"\"\"\n",
    "Example 6.4.2A:\n",
    "Ax = y has a unique solution, Directed Inverse Method by np.linalg.inv(A)\n",
    "Gilbert Strang Chap. 2\n",
    "\"\"\"\n",
    "import numpy as np\n",
    "\n",
    "A = np.array([[1, 2, 1], [3, 8, 1], [0, 4, 1]])\n",
    "y = np.array([2, 12, 2])\n",
    "\n",
    "x = np.linalg.inv(A) @ y\n",
    "print(f\"rank of A: {np.linalg.matrix_rank(A)}\\n\")\n",
    "print(f\"solution is: \\n {x} \\n\")\n",
    "\n",
    "# Returns True if two arrays are element-wise equal within a tolerance, \n",
    "# Check Ax == y\n",
    "print(np.allclose(np.dot(A, x), y))\n"
   ]
  },
  {
   "cell_type": "code",
   "execution_count": 43,
   "metadata": {},
   "outputs": [
    {
     "name": "stdout",
     "output_type": "stream",
     "text": [
      "solution is x = [ 2.  1. -2.] \n",
      "\n",
      "True\n"
     ]
    }
   ],
   "source": [
    "\"\"\"\n",
    "Example 6.4.2B:\n",
    "Ax = y has a unique solution, Directed Inverse Method by np.linalg.solve(A) \n",
    "Gilbert Strang Chap. 2\n",
    "\"\"\"\n",
    "import numpy as np\n",
    "\n",
    "A = np.array([[1, 2, 1], [3, 8, 1], [0, 4, 1]])\n",
    "y = np.array([2, 12, 2])\n",
    "\n",
    "x = np.linalg.solve(A, y)\n",
    "print(f\"solution is x = {x} \\n\")\n",
    "\n",
    "# Returns True if two arrays are element-wise equal within a tolerance, \n",
    "# Check Ax == y\n",
    "print(np.allclose(np.dot(A, x), y))"
   ]
  },
  {
   "cell_type": "code",
   "execution_count": 46,
   "metadata": {},
   "outputs": [
    {
     "name": "stdout",
     "output_type": "stream",
     "text": [
      "solution is x = [ 2.  1. -2.] \n",
      "\n",
      "True\n"
     ]
    }
   ],
   "source": [
    "\"\"\"\n",
    "Example 6.4.2C:\n",
    "Ax = y has a unique solution, Directed Inverse Method by np.linalg.pinv(A) \n",
    "Gilbert Strang Chap. 2\n",
    "\"\"\"\n",
    "import numpy as np\n",
    "\n",
    "A = np.array([[1, 2, 1], [3, 8, 1], [0, 4, 1]])\n",
    "y = np.array([2, 12, 2])\n",
    "\n",
    "x = np.linalg.pinv(A) @ y\n",
    "print(f\"solution is x = {x} \\n\")\n",
    "\n",
    "# Returns True if two arrays are element-wise equal within a tolerance, \n",
    "# Check Ax == y\n",
    "print(np.allclose(np.dot(A, x), y))"
   ]
  },
  {
   "attachments": {},
   "cell_type": "markdown",
   "metadata": {},
   "source": [
    "<font color=\"cyan\">**Case 3: There is an infinite number of solutions for $x$.**</font> \n",
    "\n",
    "Under-determined: $ m = r < n, $ \n",
    "\n",
    "$y$ can be written as a linear combination of pivot columns $x_p$ and free columns $x_n$, thus $A(x_p + x_n) = y$ "
   ]
  },
  {
   "cell_type": "code",
   "execution_count": 65,
   "metadata": {},
   "outputs": [
    {
     "name": "stdout",
     "output_type": "stream",
     "text": [
      "rank of A is: 2 \n",
      "\n",
      "rank of A_y: 2 \n",
      "\n",
      "solution xp: \n",
      " [1.14285714 1.57142857 0.28571429] \n",
      "\n",
      "minimal L2-norm of solution x = xp: 1.9639610121239313 \n",
      "\n",
      "solution x = xp + xn: \n",
      " [-1  3  1] \n",
      "\n",
      "L2-norm of solution x = xp + xn: 3.3166247903554\n"
     ]
    }
   ],
   "source": [
    "\"\"\"\n",
    "Example 6.4.3A:\n",
    "Ax = y has infinite solution, Directed Inverse Method by np.linalg.pinv(A) \n",
    "Gilbert Strang 3.4 Example 2\n",
    "\"\"\"\n",
    "import numpy as np\n",
    "\n",
    "A = np.array([[1, 1, 1], [1, 2, -1]])\n",
    "y = np.array([3, 4]) \n",
    "A_y = np.hstack((A, y[:,None]))\n",
    "\n",
    "# rank(A_y) = r, means y is depdendent of columns of A \n",
    "print(f\"rank of A is: {np.linalg.matrix_rank(A)} \\n\")\n",
    "print(f\"rank of A_y: {np.linalg.matrix_rank(A_y)} \\n\")\n",
    "\n",
    "x = np.linalg.pinv(A)@y\n",
    "print(f\"solution xp: \\n {x} \\n\")\n",
    "print(f\"minimal L2-norm of solution x = xp: {np.linalg.norm(x, 2)} \\n\")\n",
    "\n",
    "\n",
    "#########################################################################\n",
    "x_another = np.array([-1, 3, 1])\n",
    "print(f\"solution x = xp + xn: \\n {x_another} \\n\")\n",
    "print(\"L2-norm of solution x = xp + xn:\", np.linalg.norm(x_another, 2))\n"
   ]
  },
  {
   "attachments": {},
   "cell_type": "markdown",
   "metadata": {},
   "source": [
    "---"
   ]
  }
 ],
 "metadata": {
  "kernelspec": {
   "display_name": "Python 3.8.0 ('numerical_methods': venv)",
   "language": "python",
   "name": "python3"
  },
  "language_info": {
   "codemirror_mode": {
    "name": "ipython",
    "version": 3
   },
   "file_extension": ".py",
   "mimetype": "text/x-python",
   "name": "python",
   "nbconvert_exporter": "python",
   "pygments_lexer": "ipython3",
   "version": "3.11.2"
  },
  "vscode": {
   "interpreter": {
    "hash": "a7632bf4336177dcaac0f16a29bf528d1eef8e973ee46e49b304d96d25ec4172"
   }
  }
 },
 "nbformat": 4,
 "nbformat_minor": 2
}
