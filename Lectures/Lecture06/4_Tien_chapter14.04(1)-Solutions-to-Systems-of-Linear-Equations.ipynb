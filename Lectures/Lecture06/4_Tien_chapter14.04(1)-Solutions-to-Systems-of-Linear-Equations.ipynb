{
 "cells": [
  {
   "attachments": {},
   "cell_type": "markdown",
   "metadata": {
    "button": false,
    "new_sheet": false,
    "run_control": {
     "read_only": false
    }
   },
   "source": [
    "<!--NAVIGATION-->\n",
    "< [4.3 Systems of Linear Equations](Tien_chapter14.03-Systems-of-Linear-Equations.ipynb)  | [Contents](Tien_chapter14.04-Solutions-to-Systems-of-Linear-Equations.ipynb) | [4.5 Solve Systems of Linear Equations in Python](Tien_chapter14.05-Solve-Systems-of-Linear-Equations-in-Python.ipynb) >"
   ]
  },
  {
   "attachments": {},
   "cell_type": "markdown",
   "metadata": {
    "button": false,
    "new_sheet": false,
    "run_control": {
     "read_only": false
    }
   },
   "source": [
    "## **Lecture 4. Linear Algebra and Systems of Linear Equations:** \n",
    "### **4.4 Solutions to Systems of Linear Equations**"
   ]
  },
  {
   "attachments": {},
   "cell_type": "markdown",
   "metadata": {},
   "source": [
    "$$ \n",
    "\\LARGE Ax=y \n",
    "$$ \n",
    "\n",
    "* $A$ is an $m \\times n$ matrix with $rank(A) = r$\n",
    "\n",
    "* **solution** is an $x \\in {\\mathbb{R}}^n$ \n",
    "\n",
    "* **measurement** $y \\in {\\mathbb{R}}^m$, three possible solutions for $x$. "
   ]
  },
  {
   "attachments": {},
   "cell_type": "markdown",
   "metadata": {},
   "source": [
    "#### <font color=\"cyan\">**4.4.1 Easy way to solve $Ax = y$ by library modules**</font> \n",
    "\n",
    "**Three Possibilities for Solution $x$**"
   ]
  },
  {
   "attachments": {},
   "cell_type": "markdown",
   "metadata": {},
   "source": [
    "**Case 1: There is no solution for $x$. (over-determined)**: $m>n=r$, \n",
    "\n",
    "$y$ is linearly independent from the columns of $A$. \n",
    "\n",
    "Regression (projection) problem, least square method to find the approximation $\\hat{x}$."
   ]
  },
  {
   "cell_type": "code",
   "execution_count": null,
   "metadata": {},
   "outputs": [],
   "source": [
    "\"\"\"\n",
    "Example 4.15:\n",
    "Ax = y has no solution, over-determined system\n",
    "Gilbert Strang 4.2 Example 3\n",
    "\"\"\"\n",
    "import numpy as np\n",
    "import numpy.linalg \n",
    "\n",
    "\n",
    "A = np.array([[1, 0], [1, 1], [1, 2]])\n",
    "y = np.array([[6], [0], [0]])\n",
    "A_y = np.concatenate((A, y), axis = 1)\n",
    "\n",
    "# there are different approaches to find the approximate solution x^\n",
    "x = np.linalg.inv(A.T@A) @ A.T @ y\n",
    "# x = np.dot(np.linalg.pinv(A), y)\n",
    "print(f\"rank of A: {np.linalg.matrix_rank(A)} \\n\")\n",
    "\n",
    "print(f\"rank of A_y: {np.linalg.matrix_rank(A_y)} \\n\")\n",
    "\n",
    "print(f\"approximated solution x: \\n {x} \\n\")\n",
    "\n",
    "p = np.dot(A,x)\n",
    "print(f\"projected vector p: \\n {p} \\n\")\n",
    "\n",
    "e = y-p\n",
    "print(f\"error vector e: \\n {e} \\n\")"
   ]
  },
  {
   "attachments": {},
   "cell_type": "markdown",
   "metadata": {},
   "source": [
    "**Case 2: There is a unique solution for $x$.** If $ m = n = r$, \n",
    "\n",
    "\n",
    "$y$ can be written as a linear combination of the columns of $A$. Matrix is **invertible**."
   ]
  },
  {
   "cell_type": "code",
   "execution_count": null,
   "metadata": {},
   "outputs": [],
   "source": [
    "\"\"\"\n",
    "Example 4.16:\n",
    "Ax = y has a unique solution, \n",
    "Gilbert Strang Chap. 2\n",
    "\"\"\"\n",
    "import numpy as np\n",
    "\n",
    "A = np.array([[1, 2, 1], [3, 8, 1], [0, 4, 1]])\n",
    "y = np.array([[2], [12], [2]])\n",
    "\n",
    "x = np.linalg.inv(A) @ y\n",
    "print(f\"rank of A: {np.linalg.matrix_rank(A)}\\n\")\n",
    "print(f\"solution is: \\n {x} \\n\")\n",
    "\n",
    "# Returns True if two arrays are element-wise equal within a tolerance, \n",
    "# Check Ax == y\n",
    "print(np.allclose(np.dot(A,x), y))"
   ]
  },
  {
   "attachments": {},
   "cell_type": "markdown",
   "metadata": {},
   "source": [
    "**Case 3: There is an infinite number of solutions for $x$. (under-determined)**: $m=r<n$ \n",
    "\n",
    "$y$ can be written as a linear combination of pivot columns $x_p$ and free columns $x_n$, thus $A(x_p + x_n) = y$ "
   ]
  },
  {
   "cell_type": "code",
   "execution_count": null,
   "metadata": {},
   "outputs": [],
   "source": [
    "\"\"\"\n",
    "Example 4.17:\n",
    "Ax = y has infinite solution, \n",
    "Gilbert Strang 3.4 Example 2\n",
    "\"\"\"\n",
    "import numpy as np\n",
    "\n",
    "A = np.array([[1, 1, 1],[1, 2, -1]])\n",
    "y = np.array([[3],[4]]) \n",
    "A_y = np.concatenate((A, y), axis = 1)\n",
    "\n",
    "x = np.linalg.pinv(A)@y\n",
    "print(f\"rank of A is: {np.linalg.matrix_rank(A)} \\n\")\n",
    "\n",
    "print(f\"rank of A_y: {np.linalg.matrix_rank(A_y)} \\n\")\n",
    "\n",
    "print(f\"solution x: \\n {x} \\n\")\n",
    "\n",
    "print(f\"minimal L2-norm solution xp: {np.linalg.norm(x, 2)} \\n\")\n",
    "\n",
    "x2 = np.array([[-1], [3], [1]])\n",
    "print(f\"arbitrary solution x2: \\n {x2} \\n\")\n",
    "print(\"arbitrary solution xp + xn:\", np.linalg.norm(x2, 2))\n"
   ]
  },
  {
   "attachments": {},
   "cell_type": "markdown",
   "metadata": {},
   "source": [
    "---"
   ]
  },
  {
   "attachments": {},
   "cell_type": "markdown",
   "metadata": {
    "button": false,
    "new_sheet": false,
    "run_control": {
     "read_only": false
    }
   },
   "source": [
    "<!--NAVIGATION-->\n",
    "< [4.3 Systems of Linear Equations](Tien_chapter14.03-Systems-of-Linear-Equations.ipynb) | [Contents](Tien_chapter14.04-Solutions-to-Systems-of-Linear-Equations.ipynb) | [4.5 Solve Systems of Linear Equations in Python](Tien_chapter14.05-Solve-Systems-of-Linear-Equations-in-Python.ipynb) >"
   ]
  }
 ],
 "metadata": {
  "kernelspec": {
   "display_name": "Python 3.8.0 ('numerical_methods': venv)",
   "language": "python",
   "name": "python3"
  },
  "language_info": {
   "codemirror_mode": {
    "name": "ipython",
    "version": 3
   },
   "file_extension": ".py",
   "mimetype": "text/x-python",
   "name": "python",
   "nbconvert_exporter": "python",
   "pygments_lexer": "ipython3",
   "version": "3.8.0"
  },
  "vscode": {
   "interpreter": {
    "hash": "a7632bf4336177dcaac0f16a29bf528d1eef8e973ee46e49b304d96d25ec4172"
   }
  }
 },
 "nbformat": 4,
 "nbformat_minor": 2
}
