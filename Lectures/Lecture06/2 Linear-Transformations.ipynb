{
 "cells": [
  {
   "cell_type": "markdown",
   "metadata": {},
   "source": [
    "## **Lecture 6. Linear Algebra and Systems of Linear Equations** \n",
    "### **6.2 Linear Transformations** "
   ]
  },
  {
   "cell_type": "markdown",
   "metadata": {
    "button": false,
    "new_sheet": false,
    "run_control": {
     "read_only": false
    }
   },
   "source": [
    "For vectors $x$ and $y$, and scalars $a$ and $b$, it is sufficient to say that a function, $F$, is a **linear transformation** if  \n",
    "\n",
    "<br>\n",
    "\n",
    "$$\n",
    "F(ax + by) = aF(x) + bF(y).\n",
    "$$\n",
    "\n",
    "<br>\n",
    "\n",
    "<font color=\"magenta\">**TRY IT!**</font> Let $x$ be a vector and let $F(x)$ be defined by $F(x) =y= Ax$ where $A$ is a rectangular matrix of appropriate size. Show that $F(x)$ is a linear transformation."
   ]
  },
  {
   "cell_type": "markdown",
   "metadata": {},
   "source": [
    "\n",
    "<font color=\"cyan\">**Four important subpsaces associated with $y = Ax$:**</font>\n",
    "\n",
    "\n",
    "* $x \\in \\mathcal{C}(\\mathbf{A^T}) \\subset {\\mathbb{R^{n}}}$<br>  $x$ in row space\n",
    "* $x_{null} \\in \\mathcal{N}(\\mathbf{A}) \\subset {\\mathbb{R^{n}}}$<br> $x_{null}$ in null space \n",
    "\n",
    "\n",
    "* $y \\in \\mathcal{C}(\\mathbf{A}) \\subset {\\mathbb{R^{m}}}$<br>  $y$ in column space\n",
    "* $y_{leftnull} \\in \\mathcal{N}(\\mathbf{A^T}) \\subset {\\mathbb{R^{m}}}$<br> $y_{leftnull}$ in left null space "
   ]
  },
  {
   "cell_type": "markdown",
   "metadata": {},
   "source": [
    "<font color=\"magenta\">**TRY IT!**</font><br> Let $A = [[1, 0, 0], [0, 1, 0], [0, 0, 0]]$ and let the domain of $A$ be ${\\mathbb{R}}^3$. Characterize the range (column space) and nullspace of $A$.\n",
    "  \n",
    "Let $v = [x,y,z]$ be a vector in ${\\mathbb{R}}^3$. Then $u = Av$ is the vector $u = [x,y,0]$. Since $x,y\\in {\\mathbb{R}}$, the range of $A$ is the $x$-$y$ plane at $z = 0$.\n",
    "\n",
    "Let $v = [0,0,z]$ for $z\\in {\\mathbb{R}}$. Then $u = Av$ is the vector $u = [0, 0, 0]$. Therefore, the nullspace of $A$ is the $z$-axis (i.e., the set of vectors $[0,0,z]$ $z\\in {\\mathbb{R}}$).\n",
    "\n",
    "Therefore, this linear transformation \"flattens\" any $z$-component from a vector."
   ]
  },
  {
   "cell_type": "code",
   "execution_count": null,
   "metadata": {},
   "outputs": [
    {
     "name": "stdout",
     "output_type": "stream",
     "text": [
      "[[1 0]\n",
      " [0 1]]\n",
      "[[1 0]\n",
      " [0 1]]\n",
      "rank =  2\n",
      "U = \n",
      " [[ 0. -1.]\n",
      " [-1.  0.]]\n",
      "S = \n",
      " [1. 1.]\n",
      "VH = \n",
      " [[-1. -0.]\n",
      " [ 0.  1.]]\n"
     ]
    }
   ],
   "source": [
    "\"\"\"\n",
    "Example 6.2.1:\n",
    "SVD to find four fundamental basis, Null space as example. \n",
    "\"\"\"\n",
    "import numpy as np\n",
    "from numpy.linalg import matrix_rank\n",
    "from numpy.linalg import svd\n",
    "\n",
    "A = np.array([[1, 0, 0], [2, 1, 0], [5, 0, 1]])@np.array([[1, 3, 0, 5], [0, 0, 1, 6], [0, 0, 0, 0]])\n",
    "U, S, VH = svd(A)\n",
    "r = matrix_rank(A)\n",
    "\n",
    "print(\"rank = \", r)\n",
    "print(\"U = \\n\", U) \n",
    "print(\"S = \\n\", S) \n",
    "print(\"VH = \\n\", VH) "
   ]
  },
  {
   "cell_type": "markdown",
   "metadata": {},
   "source": [
    "#### <font color=red>**Homework**</font> \n",
    "\n",
    "1. Refer to https://timbaumann.info/svd-image-compression-demo, please calcute the rank of France and Greece Flag.\n",
    "\n"
   ]
  }
 ],
 "metadata": {
  "kernelspec": {
   "display_name": "numerical_methods_local",
   "language": "python",
   "name": "python3"
  },
  "language_info": {
   "codemirror_mode": {
    "name": "ipython",
    "version": 3
   },
   "file_extension": ".py",
   "mimetype": "text/x-python",
   "name": "python",
   "nbconvert_exporter": "python",
   "pygments_lexer": "ipython3",
   "version": "3.9.0"
  },
  "varInspector": {
   "cols": {
    "lenName": 16,
    "lenType": 16,
    "lenVar": 40
   },
   "kernels_config": {
    "python": {
     "delete_cmd_postfix": "",
     "delete_cmd_prefix": "del ",
     "library": "var_list.py",
     "varRefreshCmd": "print(var_dic_list())"
    },
    "r": {
     "delete_cmd_postfix": ") ",
     "delete_cmd_prefix": "rm(",
     "library": "var_list.r",
     "varRefreshCmd": "cat(var_dic_list()) "
    }
   },
   "types_to_exclude": [
    "module",
    "function",
    "builtin_function_or_method",
    "instance",
    "_Feature"
   ],
   "window_display": false
  }
 },
 "nbformat": 4,
 "nbformat_minor": 2
}
