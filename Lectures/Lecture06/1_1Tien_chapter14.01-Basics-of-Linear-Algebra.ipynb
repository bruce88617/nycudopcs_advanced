{
 "cells": [
  {
   "attachments": {},
   "cell_type": "markdown",
   "metadata": {
    "button": false,
    "new_sheet": false,
    "run_control": {
     "read_only": false
    }
   },
   "source": [
    "## **Lecture 6. Linear Algebra and Systems of Linear Equations** \n",
    "### **6.1 Basics of Linear Algebra** "
   ]
  },
  {
   "attachments": {},
   "cell_type": "markdown",
   "metadata": {
    "button": false,
    "new_sheet": false,
    "run_control": {
     "read_only": false
    }
   },
   "source": [
    "\n",
    "#### <font color=\"cyan\">**Sets**</font>\n",
    "\n",
    "$S = \\{orange, apple, banana\\}$ means S is the set containing three objects: \"orange\", \"apple\", and \"banana\". \n",
    "\n",
    "\n",
    "There are several standard sets related to numbers, for example **natural numbers**, **whole numbers**, **integers**, **rational numbers**, **irrational numbers**, **real numbers**, and **complex numbers**. A description of each set and the symbol used to denote them is shown in the following table.\n",
    "\n",
    "| Set Name |   Symbol    | Description   |\n",
    "|----------|---------|--------------|\n",
    "|   Naturals  | $\\mathbb{N}$| ${\\mathbb{N}} = \\{1, 2, 3, 4, \\cdots\\}$|\n",
    "|   Wholes    | $\\mathbb{W}$| ${\\mathbb{W}} = \\mathbb{N} \\cup \\{0\\}$|\n",
    "|   Integers  | $\\mathbb{Z}$| ${\\mathbb{Z}} = \\mathbb{W} \\cup \\{-1, -2, -3, \\cdots\\}$|\n",
    "|   Rationals | $\\mathbb{Q}$| ${\\mathbb{Q}} = \\{\\frac{p}{q} : p\\in {\\mathbb{Z}}, q\\in {\\mathbb{Z}} \\backslash \\{0\\}\\}$|\n",
    "| Irrationals | $\\mathbb{I}$| ${\\mathbb{I}}$ is the set of real numbers not expressible as a fraction of integers.|\n",
    "|   Reals     | $\\mathbb{R}$| ${\\mathbb{R}} = \\mathbb{Q} \\cup \\mathbb{I}$|\n",
    "|   Complex Numbers     | $\\mathbb{C}$| ${\\mathbb{C}} = \\{a + bi : a,b\\in {\\mathbb{R}}, i = \\sqrt{-1}\\}$|\n",
    "| Vector Space| $\\mathbb{R^n}$ | ${\\mathbb{R}}^n = \\{(x_1, x_2, x_3, \\cdots, x_n): x_1, x_2, x_3, \\cdots, x_n \\in {\\mathbb{R}}\\}$. |\n",
    "\n",
    "**Example:** Let $S$ be the set of all real $(x,y)$ pairs such that $x^2 + y^2 = 1$. Write $S$ using set notation.\n",
    "\n",
    "\n",
    "$S = \\{(x,y) : x,y \\in {\\mathbb{R}}, x^2 + y^2 = 1\\}$"
   ]
  },
  {
   "attachments": {},
   "cell_type": "markdown",
   "metadata": {
    "button": false,
    "new_sheet": false,
    "run_control": {
     "read_only": false
    }
   },
   "source": [
    "#### <font color=\"cyan\">**Vectors**</font>\n",
    "\n",
    "- In terminology of coding, vector is a kind of *array* (more details afterward).\n",
    "\n",
    "- In Linear Algebra, The set (vector space), ${\\mathbb{R}}^n$, is the set of all $n$-tuples (or $n$-lists) of real numbers. \n",
    "\n",
    "- In set notation this is ${\\mathbb{R}}^n = \\{(x_1, x_2, x_3, \\cdots, x_n): x_1, x_2, x_3, \\cdots, x_n \\in {\\mathbb{R}}\\}$. \n",
    "\n",
    "- For example, the set ${\\mathbb{R}}^3$ represents the set of real triples, $(x,y,z)$ coordinates, in three-dimensional space.\n",
    "\n",
    "- Object Equality in Linear Algebra and Python:\n",
    "\n",
    "  1. For Linear Algebra, the vector is equal with the \"same\" direction. \n",
    "\n",
    "  2. For Python, the object equality depends on *mutability of object type*. \n"
   ]
  },
  {
   "cell_type": "code",
   "execution_count": 3,
   "metadata": {},
   "outputs": [
    {
     "name": "stdout",
     "output_type": "stream",
     "text": [
      "x is (1, 2, 3) in 1695990605824\n",
      "y is (1, 2, 3) in 1695990605824 \n",
      "\n"
     ]
    }
   ],
   "source": [
    "\"\"\"\n",
    "Example 6.1.1:\n",
    "mutable and immutable object\n",
    "integer, float, Bollean, string and tuple (type) is immutable   \n",
    "list, dictionary (type) is mutable  \n",
    "memory address function call by `id()`\n",
    "\"\"\"\n",
    "\n",
    "x = (1, 2, 3)\n",
    "y = x\n",
    "# x[2] = 4  # TypeError: 'tuple' object does not support item assignment\n",
    "\n",
    "print(f\"x is {x} in {id(x)}\")\n",
    "print(f\"y is {y} in {id(y)} \\n\")\n",
    "# different variables x, y point to the same memory address\n",
    "\n",
    "#######################################\n",
    "\n",
    "x = (1, 2, 4)\n",
    "print(f\"x is {x} in {id(x)}\")\n",
    "print(f\"y is {y} in {id(y)}\")\n",
    "# while x becomes a new object, whereas corresponding to a new memory address\n",
    "# tuple is immutable \n"
   ]
  },
  {
   "cell_type": "code",
   "execution_count": 8,
   "metadata": {},
   "outputs": [
    {
     "name": "stdout",
     "output_type": "stream",
     "text": [
      "x = [1, 2, 4] in 1696228562880\n",
      "y = [1, 2, 4] in 1696228562880\n",
      "\n",
      "True\n",
      "False\n"
     ]
    }
   ],
   "source": [
    "\"\"\"\n",
    "Example 6.1.2:\n",
    "list, dictionary is mutable, allowing value change in place (sharing the same address)\n",
    "thus be careful of \"aliasing\"\n",
    "\"\"\"\n",
    "\n",
    "x = [1, 2, 3]\n",
    "y = x\n",
    "x[2] = 4\n",
    "\n",
    "print(f\"x = {x} in {id(x)}\")\n",
    "print(f\"y = {y} in {id(y)}\\n\")\n",
    "# value change in place\n",
    "\n",
    "#################################\n",
    "\n",
    "z = [1, 2, 4]\n",
    "print(x == z) # \"==\" comparision by value\n",
    "print(x is z) # \"is\" comparision by object (memory address)"
   ]
  },
  {
   "cell_type": "code",
   "execution_count": 9,
   "metadata": {},
   "outputs": [
    {
     "name": "stdout",
     "output_type": "stream",
     "text": [
      "x = [1 2 4] in 1695988358416\n",
      "y = [1 2 4] in 1695988358416\n",
      "\n"
     ]
    }
   ],
   "source": [
    "\"\"\"\n",
    "Example 6.1.3:\n",
    "numpy.ndarray (type) is mutable, \n",
    "To avoid the aliasing as example 6.1.2, with .copy() for deep copy (new memory block). \n",
    "It does not share any data with the original array.\n",
    "\"\"\"\n",
    "import numpy as np\n",
    "\n",
    "x = np.array([1, 2, 3]) # type conversion\n",
    "y = x\n",
    "x[2] = 4\n",
    "print(f\"x = {x} in {id(x)}\")\n",
    "print(f\"y = {y} in {id(y)}\\n\")\n",
    "\n",
    "###############################################\n",
    "\n",
    "# z = np.array([1, 2, 4])\n",
    "# print(x == z) # \"==\" element-wise comparision by value\n",
    "# print(x is z) # \"is\" comparision by object\n",
    "\n",
    "############## Deep copy ######################\n",
    "# x = np.array([1, 2, 3])\n",
    "\n",
    "# y = x.copy()\n",
    "# y**2 + 4*y\n",
    "\n",
    "# x[2] = 4\n",
    "# print(x)\n",
    "# print(y)\n"
   ]
  },
  {
   "attachments": {},
   "cell_type": "markdown",
   "metadata": {},
   "source": [
    "<font color=\"magenta\">**TRY IT!**</font> Create a row vector and column vector by `np.ndarray()`, and show the shape of the vectors."
   ]
  },
  {
   "cell_type": "code",
   "execution_count": 10,
   "metadata": {
    "button": false,
    "new_sheet": false,
    "run_control": {
     "read_only": false
    }
   },
   "outputs": [
    {
     "name": "stdout",
     "output_type": "stream",
     "text": [
      "(1, 5)\n",
      "(4, 1)\n"
     ]
    }
   ],
   "source": [
    "\"\"\"\n",
    "Example 6.1.4a:\n",
    "Vectors/Matrices can be built by np.array(A), whereas A is a list of list in Python.\n",
    "s.t. we can distinguish the column and row vector\n",
    "\"\"\"\n",
    "\n",
    "import numpy as np\n",
    "vector_row = np.array([[1, -5, 3, 2, 4]])\n",
    "vector_column = np.array([[1], \n",
    "                          [2], \n",
    "                          [3], \n",
    "                          [4]])\n",
    "print(vector_row.shape)\n",
    "print(vector_column.shape)"
   ]
  },
  {
   "attachments": {},
   "cell_type": "markdown",
   "metadata": {
    "button": false,
    "new_sheet": false,
    "run_control": {
     "read_only": false
    }
   },
   "source": [
    "<font color=\"magenta\">You can define 1D `np.array(L)`, whereas L = [1, 2, 3, 4] is a list, \n",
    "\n",
    "but you will soon notice that it doesn't contain information about row or column.\n",
    "\n",
    "On the other hand, in Numpy, we don't really distinguish vector and row.</font> "
   ]
  },
  {
   "cell_type": "code",
   "execution_count": 11,
   "metadata": {},
   "outputs": [
    {
     "name": "stdout",
     "output_type": "stream",
     "text": [
      "[[1 4 7]]\n"
     ]
    }
   ],
   "source": [
    "\"\"\"\n",
    "Example 6.1.4b:\n",
    "\"\"\"\n",
    "x = np.array([1, 4, 7])\n",
    "x_row = x[np.newaxis, :] # dimension broadcasting, shape (1, 3)\n",
    "print(x_row)"
   ]
  },
  {
   "attachments": {},
   "cell_type": "markdown",
   "metadata": {
    "button": false,
    "new_sheet": false,
    "run_control": {
     "read_only": false
    }
   },
   "source": [
    "#### **<font color=cyan>Norm of a vector</font>**\n",
    "\n",
    "The **norm** of a vector is a measure of its length. \n",
    "\n",
    "**$L_2$ norm** of a vector $v$ is denoted by $\\Vert v \\Vert_{2}$ and $\\Vert v \\Vert_{2} = \\sqrt{\\sum_i v_i^2}$. \n",
    "\n",
    "**$L_1$ norm** or \"Manhattan Distance,\" is computed as $\\Vert v \\Vert_{1} = \\sum_i |v_i|$, and is named after the grid-like road structure in New York City. \n",
    "\n",
    "**p-norm**, $L_p$, of a vector is $\\Vert v \\Vert_{p} = \\sqrt[p]{(\\sum_i v_i^p)}$. \n",
    "\n",
    "**$L_\\infty$ norm** is the $p$-norm, where $p = \\infty$. The $L_\\infty$ norm is written as $||v||_\\infty$ and it is equal to the maximum absolute value in $v$."
   ]
  },
  {
   "attachments": {},
   "cell_type": "markdown",
   "metadata": {
    "button": false,
    "new_sheet": false,
    "run_control": {
     "read_only": false
    }
   },
   "source": [
    "<font color=\"magenta\">**TRY IT!**</font> Transpose the row vector we defined above into a column vector and calculate the $L_1$, $L_2$, and $L_\\infty$ norm of it. Verify that the $L_\\infty$ norm of a vector is equivalent to the maximum value of the elements in the vector."
   ]
  },
  {
   "cell_type": "code",
   "execution_count": 13,
   "metadata": {
    "button": false,
    "new_sheet": false,
    "run_control": {
     "read_only": false
    }
   },
   "outputs": [
    {
     "name": "stdout",
     "output_type": "stream",
     "text": [
      "L_1 is: 15.0\n",
      "L_2 is: 7.4\n",
      "L_inf is: 5.0\n"
     ]
    }
   ],
   "source": [
    "\"\"\"\n",
    "Example 6.1.5:\n",
    "Norm of vector in Python, we import np.linalg.norm(v, n)\n",
    "\"\"\"\n",
    "from numpy.linalg import norm\n",
    "\n",
    "# column vector in 2-axis\n",
    "new_vector = np.array([1, -5, 3, 2, 4]) \n",
    "# new_vector = vector_row.T \n",
    "# print(f\"new vector in column form is \\n {new_vector} \\n\")\n",
    "\n",
    "norm_1 = norm(new_vector, 1)\n",
    "norm_2 = norm(new_vector, 2)\n",
    "norm_inf = norm(new_vector, np.inf)\n",
    "print(\"L_1 is: %.1f\"   %norm_1)\n",
    "print(\"L_2 is: %.1f\"   %norm_2)\n",
    "print(\"L_inf is: %.1f\" %norm_inf)"
   ]
  },
  {
   "attachments": {},
   "cell_type": "markdown",
   "metadata": {
    "button": false,
    "new_sheet": false,
    "run_control": {
     "read_only": false
    }
   },
   "source": [
    "#### <font color=\"cyan\">**Vector addition:**</font>\n",
    "If $v$ and $w$ are vectors in ${\\mathbb{R}}^n$, then $u = v + w$ is defined as $u_i = v_i + w_i$. \n",
    "\n",
    "#### <font color=\"cyan\">**Scalar multiplication:**</font>\n",
    "If $\\alpha$ is a scalar and $v$ is a vector, then $u = \\alpha v$ is defined as $u_i = \\alpha v_i$."
   ]
  },
  {
   "attachments": {},
   "cell_type": "markdown",
   "metadata": {},
   "source": [
    "#### <font color=\"cyan\">**Dot product:**</font> \n",
    "For $v$ and $w$ $\\in {\\mathbb{R}}^n, d = v\\cdot w$ is defined as $d = \\sum_{i = 1}^{n} v_iw_i$. The **angle between two vectors**, $\\theta$, is defined by the formula:\n",
    "\n",
    "$$\n",
    "v \\cdot w = \\Vert v \\Vert_{2} \\Vert w \\Vert_{2} \\cos{\\theta}\n",
    "$$\n",
    "\n",
    "The dot product is a measure of how similarly directed the two vectors are. For example, the vectors (1,1) and (2,2) are parallel. If you compute the angle between them using the dot product, you will find that $\\theta = 0$. If the angle between the vectors, $\\theta = \\pi/2$, then the vectors are said to be perpendicular or **orthogonal**, and the dot product is 0."
   ]
  },
  {
   "cell_type": "code",
   "execution_count": 10,
   "metadata": {
    "button": false,
    "new_sheet": false,
    "run_control": {
     "read_only": false
    }
   },
   "outputs": [
    {
     "name": "stdout",
     "output_type": "stream",
     "text": [
      "[[56.14555015]]\n"
     ]
    }
   ],
   "source": [
    "\"\"\"\n",
    "Example 6.1.6:\n",
    "Inner product and the angle between two vectors, \n",
    "note the difference betwwen np.dot(v, w) and np.dot(v_row, w_row.T) \n",
    "\"\"\"\n",
    "import numpy as np\n",
    "from numpy.linalg import norm\n",
    "from numpy import arccos, dot, pi\n",
    "\n",
    "# 2-axis\n",
    "v_row = np.array([[10, 9, 3]]) \n",
    "w_row = np.array([[2, 5, 12]])\n",
    "\n",
    "# check np.dot(v,w), satisfy the \"math\" format\n",
    "theta = arccos(dot(v_row, w_row.T)/(norm(v_row)*norm(w_row)))\n",
    "print(theta*180/pi)\n",
    "\n",
    "# [[90.]] the scalar was represented as a 1x1 array \n",
    "# type(theta) is <class 'numpy.ndarray'>\n",
    "\n",
    "###############################################\n",
    "\n",
    "# 1-axis\n",
    "# v, w = np.array([1, 0, 1]), np.array([1, 1, 0])\n",
    "\n",
    "# theta = np.arccos(dot(v, w)/(norm(v)*norm(w)))\n",
    "# print(theta*180.0/pi)"
   ]
  },
  {
   "attachments": {},
   "cell_type": "markdown",
   "metadata": {
    "button": false,
    "new_sheet": false,
    "run_control": {
     "read_only": false
    }
   },
   "source": [
    "#### <font color=\"cyan\">**Cross product:**</font> \n",
    "$v \\times w$. It is defined by $v \\times w = \\Vert v \\Vert_{2}\\Vert w \\Vert_{2}\\sin{(\\theta)} \\textit{n}$, where $\\theta$ is the angle between the $v$ and $w$ (which can be computed from the dot product) and **$n$** is a vector perpendicular to both $v$ and $w$ with unit length (i.e., the length is one). \n",
    "\n",
    "The geometric interpretation of the cross product is a vector perpendicular to both $v$ and $w$ with length equal to the area enclosed by the parallelogram created by the two vectors."
   ]
  },
  {
   "cell_type": "code",
   "execution_count": 12,
   "metadata": {
    "button": false,
    "new_sheet": false,
    "run_control": {
     "read_only": false
    }
   },
   "outputs": [
    {
     "name": "stdout",
     "output_type": "stream",
     "text": [
      "[ 0  0 -6]\n"
     ]
    }
   ],
   "source": [
    "\"\"\"\n",
    "Example 6.1.7:\n",
    "Cross product and the new vector, note the shape of the new vector\n",
    "\"\"\"\n",
    "v = np.array([0, 2, 0])\n",
    "w = np.array([3, 0, 0])\n",
    "\n",
    "print(np.cross(v, w))"
   ]
  },
  {
   "attachments": {},
   "cell_type": "markdown",
   "metadata": {
    "button": false,
    "new_sheet": false,
    "run_control": {
     "read_only": false
    }
   },
   "source": [
    "#### <font color=\"cyan\">**Linear Combination:**</font>\n",
    "Assuming that $S$ is a set in which addition and scalar multiplication are defined, a **linear combination** of $S$ is defined as\n",
    "$$\n",
    "S = \\sum \\alpha_i s_i,\n",
    "$$\n",
    "\n",
    "where $\\alpha_i$ is any real number and $s_i$ is the $i^{\\text{th}}$ object (vector in Linear Algebra) in $S$. Sometimes the $\\alpha_i$ values are called the **coefficients** of $s_i$. \n",
    "\n",
    "Linear combinations can be used to describe numerous things. For example, a grocery bill can be written $\\displaystyle{\\sum c_i n_i}$, where $c_i$ is the cost of item $i$ and $n_i$ is the number of item $i$ purchased. Thus, the total cost is a linear combination of the items purchased."
   ]
  },
  {
   "cell_type": "code",
   "execution_count": 18,
   "metadata": {
    "button": false,
    "new_sheet": false,
    "run_control": {
     "read_only": false
    }
   },
   "outputs": [
    {
     "data": {
      "text/plain": [
       "array([-8., -1.,  4.])"
      ]
     },
     "execution_count": 18,
     "metadata": {},
     "output_type": "execute_result"
    }
   ],
   "source": [
    "\"\"\"\n",
    "Example 6.1.8:\n",
    "linear combination, whereas we mostly build 1-axis array as the vector, \n",
    "then apply broadcasting to extend the axis. \n",
    "\"\"\"\n",
    "def lincomb(coef, vectors):\n",
    "    n = len(vectors[0])\n",
    "    comb = np.zeros(n)\n",
    "    \n",
    "    for i in range(len(vectors)):\n",
    "        comb = comb + coef[i]*vectors[i]\n",
    "    return comb\n",
    "\n",
    "v = np.array([0, 3, 2])\n",
    "w = np.array([4, 1, 1])\n",
    "u = np.array([0, -2, 0])\n",
    "a, b, c = 3, -2, 4\n",
    "lincomb([a, b, c], [v, w, u]) \n",
    "\n",
    "# print(np.shape(x))\n",
    "\n"
   ]
  },
  {
   "attachments": {},
   "cell_type": "markdown",
   "metadata": {},
   "source": [
    "---"
   ]
  },
  {
   "attachments": {},
   "cell_type": "markdown",
   "metadata": {
    "button": false,
    "new_sheet": false,
    "run_control": {
     "read_only": false
    }
   },
   "source": [
    "\n",
    "\n",
    "#### <font color=\"cyan\">**Matrices**</font>\n",
    "\n",
    "An ${m} \\times {n}$ **matrix A** is a rectangular table of numbers consisting of $m$ rows and $n$ columns. "
   ]
  },
  {
   "attachments": {},
   "cell_type": "markdown",
   "metadata": {
    "button": false,
    "new_sheet": false,
    "run_control": {
     "read_only": false
    }
   },
   "source": [
    "#### <font color=\"cyan\">**Norm of a Matrix:**</font>\n",
    "\n",
    "The Frobenius-norm of this vector can be write as:\n",
    "\n",
    "$$\\Vert A \\Vert_{F} = \\sqrt{(\\sum_i^m \\sum_j^n |a_{ij}|^2)}$$\n",
    "\n",
    "You can calculate the matrix norm using the same `np.norm(A)` function as that for vector. \n",
    "\n",
    "#### <font color=\"cyan\">**Matrix addition and scalar multiplication:**</font>\n",
    " for matrices work the same way as for vectors. However, **matrix multiplication** between two matrices, $P$ and $Q$, is defined when $P$ is an ${m} \\times {p}$ matrix and $Q$ is a ${p} \\times {n}$ matrix. The result of $M = PQ$ is a matrix $M$ that is $m \\times n$. The dimension with size $p$ is called the **inner matrix dimension**, and the inner matrix dimensions must match (i.e., the number of columns in $P$ and the number of rows in $Q$ must be the same) for matrix multiplication to be defined. The dimensions $m$ and $n$ are called the **outer matrix dimensions**. Formally, if $P$ is ${m} \\times {p}$ and Q is ${p} \\times {n}$, then $M = PQ$ is defined as\n",
    "\n",
    "$$\n",
    "A_{ij} = \\sum_{k=1}^p P_{ik}Q_{kj}\n",
    "$$\n",
    "\n",
    "The product of two matrices $P$ and $Q$ in Python is achieved by using the `np.dot(P,Q)` method in Numpy. \n",
    "\n",
    "#### **Transpose:** \n",
    "The transpose is denoted by a superscript, $T$, such as $A^T$ is the transpose of matrix $M$. In Python, if `A` is a matrix, then `A.T` is its transpose."
   ]
  },
  {
   "attachments": {},
   "cell_type": "markdown",
   "metadata": {},
   "source": [
    "<font color=\"magenta\">**TRY IT!**</font> Let the Python matrices $P = [[1, 7], [2, 3], [5, 0]]$ and $Q = [[2, 6, 3, 1], [1, 2, 3, 4]]$. \n",
    "\n",
    "Compute the matrix product of $P$ and $Q$. Show that the product of $Q$ and $P$ will produce an error."
   ]
  },
  {
   "cell_type": "code",
   "execution_count": 20,
   "metadata": {
    "button": false,
    "new_sheet": false,
    "run_control": {
     "read_only": false
    }
   },
   "outputs": [
    {
     "name": "stdout",
     "output_type": "stream",
     "text": [
      "P = \n",
      " [[1 7]\n",
      " [2 3]\n",
      " [5 0]] \n",
      "\n",
      "Q = \n",
      " [[2 6 3 1]\n",
      " [1 2 3 4]] \n",
      "\n",
      "PQ = \n",
      " [[ 9 20 24 29]\n",
      " [ 7 18 15 14]\n",
      " [10 30 15  5]] \n",
      "\n",
      "PQ = \n",
      " [[ 9 20 24 29]\n",
      " [ 7 18 15 14]\n",
      " [10 30 15  5]] \n",
      "\n"
     ]
    }
   ],
   "source": [
    "\"\"\"\n",
    "Example 6.1.9:\n",
    "Matrix multiplucation, note the inner matrix dimensions must match. \n",
    "\"\"\"\n",
    "import numpy \n",
    "\n",
    "P = np.array([[1, 7], [2, 3], [5, 0]])\n",
    "Q = np.array([[2, 6, 3, 1], [1, 2, 3, 4]])\n",
    "\n",
    "print(f\"P = \\n {P} \\n\")\n",
    "print(f\"Q = \\n {Q} \\n\")\n",
    "print(f\"PQ = \\n {np.dot(P, Q)} \\n\")\n",
    "print(f\"PQ = \\n {P@Q} \\n\")\n",
    "# np.dot(Q, P) ValueError: shapes (2,4) and (3,2) not aligned"
   ]
  },
  {
   "attachments": {},
   "cell_type": "markdown",
   "metadata": {
    "button": false,
    "new_sheet": false,
    "run_control": {
     "read_only": false
    }
   },
   "source": [
    "#### <font color=\"cyan\">**Determinant:**</font> \n",
    "An important property of square matrices. In the case of a $2 \\times 2$ matrix, the determinant is:\n",
    "\n",
    "$$\n",
    "|A| = \\begin{bmatrix}\n",
    "a & b \\\\\n",
    "c & d\\\\\n",
    "\\end{bmatrix} = ad - bc$$\n",
    "\n",
    "Similarly, in the case of a $3 \\times 3$ matrix, the determinant is:\n",
    "\n",
    "$$\n",
    "\\begin{aligned}\n",
    "|A| = \\begin{bmatrix}\n",
    "a & b & c \\\\\n",
    "d & e & f \\\\\n",
    "g & h & i \\\\\n",
    "\\end{bmatrix} & = & a\\begin{bmatrix}\n",
    "\\Box &\\Box  &\\Box  \\\\\n",
    "\\Box & e & f \\\\\n",
    "\\Box & h & i \\\\\n",
    "\\end{bmatrix} - b\\begin{bmatrix}\n",
    "\\Box &\\Box  &\\Box  \\\\\n",
    "d & \\Box & f \\\\\n",
    "g & \\Box & i \\\\\n",
    "\\end{bmatrix}+c\\begin{bmatrix}\n",
    "\\Box &\\Box  &\\Box  \\\\\n",
    "d & e & \\Box \\\\\n",
    "g & h & \\Box \\\\\n",
    "\\end{bmatrix} \\\\\n",
    "&&\\\\\n",
    "& = & a\\begin{bmatrix}\n",
    "e & f \\\\\n",
    "h & i \\\\\n",
    "\\end{bmatrix} - b\\begin{bmatrix}\n",
    "d & f \\\\\n",
    "g & i \\\\\n",
    "\\end{bmatrix}+c\\begin{bmatrix}\n",
    "d & e \\\\\n",
    "g & h \\\\\n",
    "\\end{bmatrix} \\\\ \n",
    "&&\\\\\n",
    "& = & aei + bfg + cdh - ceg - bdi - afh\n",
    "\\end{aligned}$$\n",
    "\n",
    "We can use similar approach to calculate the determinant for higher the dimension of the matrix, but it is much easier to calculate using Python `det(A)` from numpy.linalg package. "
   ]
  },
  {
   "attachments": {},
   "cell_type": "markdown",
   "metadata": {},
   "source": [
    "#### <font color=\"cyan\">  **Identity matrix:** </font>\n",
    "A square matrix with ones on the diagonal and zeros elsewhere. The identity matrix is usually denoted by $I$, and is analagous to the real number identity, 1. Using Python with dimension $n \\times n$: `np.ones(n)`"
   ]
  },
  {
   "attachments": {},
   "cell_type": "markdown",
   "metadata": {},
   "source": [
    "<font color=\"magenta\">**TRY IT!**</font> Use Python to find the determinant of the matrix $A = [[0, 2, 1, 3], [3, 2, 8, 1], [1, 0, 0, 3], [0, 3, 2, 1]]$. Use the `np.eye(4)` function to produce a ${4} \\times {4}$ identity matrix, $I$. Multiply $M$ by $I$ to show that the result is $A$."
   ]
  },
  {
   "cell_type": "code",
   "execution_count": 23,
   "metadata": {
    "button": false,
    "new_sheet": false,
    "run_control": {
     "read_only": false
    }
   },
   "outputs": [
    {
     "name": "stdout",
     "output_type": "stream",
     "text": [
      "A: \n",
      " [[0 2 1 3]\n",
      " [3 2 8 1]\n",
      " [1 0 0 3]\n",
      " [0 3 2 1]] \n",
      "\n",
      "Det(A): -38.000000000000014 \n",
      "\n",
      "I: \n",
      " [[1. 0. 0. 0.]\n",
      " [0. 1. 0. 0.]\n",
      " [0. 0. 1. 0.]\n",
      " [0. 0. 0. 1.]] \n",
      "\n",
      "A*I: \n",
      " [[0. 2. 1. 3.]\n",
      " [3. 2. 8. 1.]\n",
      " [1. 0. 0. 3.]\n",
      " [0. 3. 2. 1.]] \n",
      "\n"
     ]
    }
   ],
   "source": [
    "\"\"\"\n",
    "Example 6.1.10:\n",
    "Determinant of matrix A. \n",
    "\"\"\"\n",
    "from numpy.linalg import det\n",
    "\n",
    "# A.dtype\n",
    "A = np.array([[0, 2, 1, 3], \n",
    "              [3, 2, 8, 1], \n",
    "              [1, 0, 0, 3],\n",
    "              [0, 3, 2, 1]])\n",
    "\n",
    "print(f\"A: \\n {A} \\n\")\n",
    "\n",
    "print(f\"Det(A): {det(A)} \\n\")\n",
    "\n",
    "I = np.eye(4)\n",
    "print(f\"I: \\n {I} \\n\")\n",
    "print(f\"A*I: \\n {np.dot(A, I)} \\n\")"
   ]
  },
  {
   "attachments": {},
   "cell_type": "markdown",
   "metadata": {
    "button": false,
    "new_sheet": false,
    "run_control": {
     "read_only": false
    }
   },
   "source": [
    "#### <font color=\"cyan\"> **Inverse:** </font> \n",
    "\n",
    "Inverse of a square matrix $A$ is a matrix of the same size, $A^{-1}$, such that $A \\cdot A^{-1} = I$. The inverse of a matrix is analagous to the inverse of real numbers. For example, the inverse of 3 is $\\frac{1}{3}$ because $(3)(\\frac{1}{3}) = 1$. A matrix is said to be **invertible** if it has an inverse. The inverse of a matrix is unique; that is, for an invertible matrix, there is only one inverse for that matrix. Inverse can be computed in Python using the function `np.linalg.inv(A)`.\n",
    "\n",
    "For a $2 \\times 2$ matrix, the analytic solution of the matrix inverse is:\n",
    "\n",
    "$$\n",
    "A^{-1} = \\begin{bmatrix}\n",
    "a & b \\\\\n",
    "c & d\\\\\n",
    "\\end{bmatrix}^{-1} = \\frac{1}{|A|}\\begin{bmatrix}\n",
    "d & -b \\\\\n",
    "-c & a\\\\\n",
    "\\end{bmatrix}$$\n",
    "\n",
    "The calculation of the matrix inverse for the **analytic solution** becomes complicated with increasing matrix dimension, **there are many other methods can make things easier, such as Gaussian elimination, Newton's method, Eigendecomposition and so on**. We will introduce some of these methods after we learn how to solve a system of linear equations, because the process is essentially the same. "
   ]
  },
  {
   "attachments": {},
   "cell_type": "markdown",
   "metadata": {},
   "source": [
    "Recall that 0 has no inverse for multiplication in the real-numbers setting. Similarly, there are matrices that do not have inverses. These matrices are called **singular**. Matrices that do have an inverse are called **nonsingular or invertible**. One way to determine if a matrix is singular is by computing its determinant. If the determinant is 0, then the matrix is singular; if not, the matrix is nonsingular."
   ]
  },
  {
   "attachments": {},
   "cell_type": "markdown",
   "metadata": {},
   "source": [
    "<font color=\"magenta\">**TRY IT!**</font> The matrix $A$ (in the previous example) has a nonzero determinant. Compute the $A^{-1}$. Show that given a matrix $U = [[0, 1, 0], [0, 1, 0], [1, 0, 1]]$ has a determinant value of 0 and therefore has no inverse."
   ]
  },
  {
   "cell_type": "code",
   "execution_count": 27,
   "metadata": {
    "button": false,
    "new_sheet": false,
    "run_control": {
     "read_only": false
    }
   },
   "outputs": [
    {
     "name": "stdout",
     "output_type": "stream",
     "text": [
      "det(M):\n",
      " -1.0\n",
      "Inv_M:\n",
      " [[ 0.  1.  0.]\n",
      " [ 1.  0.  0.]\n",
      " [ 0. -1.  1.]]\n"
     ]
    }
   ],
   "source": [
    "\"\"\"\n",
    "Example 6.1.11: Inverse matrix \n",
    "\"\"\"\n",
    "from numpy.linalg import inv\n",
    "\n",
    "M = np.array([[0, 1, 0],\n",
    "              [1, 0, 0],\n",
    "              [1, 0, 1]])\n",
    "\n",
    "print('det(M):\\n', det(M))\n",
    "print('Inv_M:\\n', inv(M))\n"
   ]
  },
  {
   "attachments": {},
   "cell_type": "markdown",
   "metadata": {
    "button": false,
    "new_sheet": false,
    "run_control": {
     "read_only": false
    }
   },
   "source": [
    "#### <font color=\"cyan\"> **Numerical Stability about Inverse:** </font> \n",
    "**ill-conditioned Matrix and Condition Number** `np.linalg.cond(A)`\n",
    "\n",
    "\n",
    "A matrix that is close to being singular (i.e., the determinant is close to 0) is called **ill-conditioned**. Think of $0.1*x = 5$. \n",
    "\n",
    "Although ill-conditioned matrices have inverses, they are problematic numerically in the same way that dividing a number by a very, very small number is problematic. That is, it can result in computations that result in overflow, underflow, or numbers small enough to result in significant round-off errors. \n",
    "\n",
    "The **condition number** is a measure of how ill-conditioned a matrix is, and it can be computed using Numpy's function `cond(A)` from `np.linalg`\n",
    "module. **The higher the condition number, the closer the matrix is to being singular.**"
   ]
  },
  {
   "cell_type": "code",
   "execution_count": 28,
   "metadata": {},
   "outputs": [
    {
     "name": "stdout",
     "output_type": "stream",
     "text": [
      "Condition number:\n",
      " 4.048917339522305\n",
      "Rank:\n",
      " 3\n",
      " \n",
      "Condition number:\n",
      " 56.07458006794298\n",
      "Rank:\n",
      " 3\n",
      " \n"
     ]
    }
   ],
   "source": [
    "\"\"\"\n",
    "Example 6.1.12:\n",
    "Condition number of A, is used as the sigular merit.\n",
    "The higher the condition number (lambda_max/lambda_min), the closer the matrix is to being singular.\n",
    "In the future, if we apply iterative method to solve Ax = b, the convergence will be different.\n",
    "\"\"\"\n",
    "from numpy.linalg import cond, matrix_rank\n",
    "\n",
    "A = np.array([[1, 1, 0],\n",
    "               [0, 1, 0],\n",
    "               [1, 0, 1]])\n",
    "\n",
    "print(\"Condition number:\\n\", cond(A))\n",
    "print(\"Rank:\\n\", matrix_rank(A))\n",
    "print(\" \")\n",
    "\n",
    "B = np.array([[1,   1, 0],\n",
    "              [1, 1.1, 0],  \n",
    "              [1,   0, 1]])\n",
    "\n",
    "print(\"Condition number:\\n\", cond(B))\n",
    "print(\"Rank:\\n\", matrix_rank(B))\n",
    "print(\" \")"
   ]
  },
  {
   "attachments": {},
   "cell_type": "markdown",
   "metadata": {},
   "source": [
    "#### <font color=\"cyan\">**Rank:**</font> \n",
    "\n",
    "An ${m} \\times {n}$ matrix $A$ is the number of linearly independent columns or rows of $A$, and is denoted by rank($A$). \n",
    "\n",
    "A matrix, $A$, is called **full row rank $rank(A)= m < n$.** if all of its columns are linearly independent. An **augmented matrix**. is a matrix, $A$, concatenated with a vector, $y$, and is written $[A,y]$. This is commonly read \"$A$ augmented with $y$.\" You can use `np.concatenate((A,y), axis=1)` to concatenate the them. \n",
    "\n",
    "If $dim\\{C([A,y])\\} = {rank}(A) + 1$, then the vector, $y$, is \"new\" information. That is, it cannot be created as a linear combination of the columns in $A$. **The rank is an important property of matrices because of its relationship to solutions of linear equations, which is discussed in the last section of this chapter.**\n",
    "\n",
    "<font color=\"magenta\">**TRY IT!**</font> Matrix $A = [[1, 1, 0], [0, 1, 0], [1, 0, 1]]$, compute the condition number and rank for this matrix. If $y = [[1], [2], [1]]$, get the augmented matrix [A, y]. "
   ]
  },
  {
   "cell_type": "code",
   "execution_count": 35,
   "metadata": {
    "button": false,
    "new_sheet": false,
    "run_control": {
     "read_only": false
    }
   },
   "outputs": [
    {
     "name": "stdout",
     "output_type": "stream",
     "text": [
      "Condition number:\n",
      " 4.048917339522305\n",
      "Rank:\n",
      " 3\n",
      " \n",
      "Augmented matrix:\n",
      " [[1 1 0 1]\n",
      " [0 1 0 2]\n",
      " [1 0 1 1]]\n",
      "Rank of Augmented matrix:\n",
      " 3\n"
     ]
    }
   ],
   "source": [
    "\"\"\"\n",
    "Example 6.1.13:\n",
    "Rank of A, is used as the merit for independence.\n",
    "Matrix concatenation shall match the dimension. \n",
    "\"\"\"\n",
    "from numpy.linalg import cond, matrix_rank\n",
    "\n",
    "A = np.array([[1, 1, 0],\n",
    "              [0, 1, 0],\n",
    "              [1, 0, 1]])\n",
    "\n",
    "print(\"Condition number:\\n\", cond(A))\n",
    "print(\"Rank:\\n\", matrix_rank(A))\n",
    "print(\" \")\n",
    "\n",
    "# y = np.array([[1], [2], [1]])\n",
    "# A_y = np.concatenate((A, y), axis = 1)\n",
    "# print(\"Augmented matrix:\\n\", A_y)\n",
    "# print(\"Rank of Augmented matrix:\\n\", matrix_rank(A_y))\n",
    "\n",
    "\n",
    "#########################################################\n",
    "\n",
    "y = np.array([1, 2, 1])\n",
    "A_y = np.hstack((A, y[:,None]))\n",
    "print(\"Augmented matrix:\\n\", A_y)\n",
    "print(\"Rank of Augmented matrix:\\n\", matrix_rank(A_y))\n",
    "\n"
   ]
  }
 ],
 "metadata": {
  "kernelspec": {
   "display_name": "Python 3.8.0 ('numerical_methods': venv)",
   "language": "python",
   "name": "python3"
  },
  "language_info": {
   "codemirror_mode": {
    "name": "ipython",
    "version": 3
   },
   "file_extension": ".py",
   "mimetype": "text/x-python",
   "name": "python",
   "nbconvert_exporter": "python",
   "pygments_lexer": "ipython3",
   "version": "3.11.2"
  },
  "vscode": {
   "interpreter": {
    "hash": "a7632bf4336177dcaac0f16a29bf528d1eef8e973ee46e49b304d96d25ec4172"
   }
  }
 },
 "nbformat": 4,
 "nbformat_minor": 2
}
