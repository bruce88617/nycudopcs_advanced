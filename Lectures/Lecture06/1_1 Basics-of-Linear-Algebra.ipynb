{
 "cells": [
  {
   "attachments": {},
   "cell_type": "markdown",
   "metadata": {
    "button": false,
    "new_sheet": false,
    "run_control": {
     "read_only": false
    }
   },
   "source": [
    "## **Lecture 6. Linear Algebra and Systems of Linear Equations** \n",
    "### **6.1 Basics of Linear Algebra** "
   ]
  },
  {
   "attachments": {},
   "cell_type": "markdown",
   "metadata": {
    "button": false,
    "new_sheet": false,
    "run_control": {
     "read_only": false
    }
   },
   "source": [
    "\n",
    "#### <font color=\"cyan\">**Sets**</font>\n",
    "\n",
    "$S = \\{orange, apple, banana\\}$ means S is the set containing three objects: \"orange\", \"apple\", and \"banana\". \n",
    "\n",
    "\n",
    "There are several standard sets related to numbers, for example **natural numbers**, **whole numbers**, **integers**, **rational numbers**, **irrational numbers**, **real numbers**, and **complex numbers**. A description of each set and the symbol used to denote them is shown in the following table.\n",
    "\n",
    "| Set Name |   Symbol    | Description   |\n",
    "|----------|---------|--------------|\n",
    "|   Naturals  | $\\mathbb{N}$| ${\\mathbb{N}} = \\{1, 2, 3, 4, \\cdots\\}$|\n",
    "|   Wholes    | $\\mathbb{W}$| ${\\mathbb{W}} = \\mathbb{N} \\cup \\{0\\}$|\n",
    "|   Integers  | $\\mathbb{Z}$| ${\\mathbb{Z}} = \\mathbb{W} \\cup \\{-1, -2, -3, \\cdots\\}$|\n",
    "|   Rationals | $\\mathbb{Q}$| ${\\mathbb{Q}} = \\{\\frac{p}{q} : p\\in {\\mathbb{Z}}, q\\in {\\mathbb{Z}} \\backslash \\{0\\}\\}$|\n",
    "| Irrationals | $\\mathbb{I}$| ${\\mathbb{I}}$ is the set of real numbers not expressible as a fraction of integers.|\n",
    "|   Reals     | $\\mathbb{R}$| ${\\mathbb{R}} = \\mathbb{Q} \\cup \\mathbb{I}$|\n",
    "|   Complex Numbers     | $\\mathbb{C}$| ${\\mathbb{C}} = \\{a + bi : a,b\\in {\\mathbb{R}}, i = \\sqrt{-1}\\}$|\n",
    "| Vector Space| $\\mathbb{R^n}$ | ${\\mathbb{R}}^n = \\{(x_1, x_2, x_3, \\cdots, x_n): x_1, x_2, x_3, \\cdots, x_n \\in {\\mathbb{R}}\\}$. |\n",
    "\n",
    "**Example:** Let $S$ be the set of all real $(x,y)$ pairs such that $x^2 + y^2 = 1$. Write $S$ using set notation.\n",
    "\n",
    "\n",
    "$S = \\{(x,y) : x,y \\in {\\mathbb{R}}, x^2 + y^2 = 1\\}$"
   ]
  },
  {
   "attachments": {},
   "cell_type": "markdown",
   "metadata": {
    "button": false,
    "new_sheet": false,
    "run_control": {
     "read_only": false
    }
   },
   "source": [
    "#### <font color=\"cyan\">**Vectors**</font>\n",
    "\n",
    "- In terminology of coding, vector is a kind of *array* (more details afterward).\n",
    "\n",
    "- In Linear Algebra, The set (vector space), ${\\mathbb{R}}^n$, is the set of all $n$-tuples (or $n$-lists) of real numbers. \n",
    "\n",
    "- In set notation this is ${\\mathbb{R}}^n = \\{(x_1, x_2, x_3, \\cdots, x_n): x_1, x_2, x_3, \\cdots, x_n \\in {\\mathbb{R}}\\}$. \n",
    "\n",
    "- For example, the set ${\\mathbb{R}}^3$ represents the set of real triples, $(x,y,z)$ coordinates, in three-dimensional space.\n",
    "\n",
    "- Object Equality in Linear Algebra and Python:\n",
    "\n",
    "  1. For Linear Algebra, the vector is equal with the \"same\" direction. \n",
    "\n",
    "  2. For Python, the object equality depends on *mutability of object type*. \n"
   ]
  },
  {
   "cell_type": "code",
   "execution_count": null,
   "metadata": {},
   "outputs": [
    {
     "name": "stdout",
     "output_type": "stream",
     "text": [
      "x is (1, 2, 3) in 1511136207488\n",
      "y is (1, 2, 3) in 1511136207488 \n",
      "\n",
      "x is (1, 2, 4) in 1511136348096\n",
      "y is (1, 2, 3) in 1511136207488\n"
     ]
    }
   ],
   "source": [
    "\"\"\"\n",
    "Example 6.1.1:\n",
    "vector as mutable and immutable object\n",
    "integer, float, Bollean, string and tuple is immutable type  \n",
    "list, dictionary is mutable type \n",
    "memory address function call by `id()`\n",
    "\"\"\"\n",
    "#########################################################################\n",
    "### 1. vector as a tuple (immutable type), CANNOT be changed in place ###\n",
    "#########################################################################\n",
    "x = (1, 2, 3)\n",
    "# x[2] = 4  # TypeError: 'tuple' object does not support item assignment\n",
    "\n",
    "################################################\n",
    "### 2. check object's memory address by id() ###\n",
    "################################################\n",
    "y = x\n",
    "print(f\"x is {x} in {id(x)}\")\n",
    "print(f\"y is {y} in {id(y)} \\n\")\n",
    "# different variables x, y point to the same memory address\n",
    "\n",
    "##############################################################################\n",
    "### 3. while x becomes a new object, corresponding to a new memory address ###\n",
    "##############################################################################\n",
    "x = (1, 2, 4)\n",
    "print(f\"x is {x} in {id(x)}\")\n",
    "print(f\"y is {y} in {id(y)}\")\n",
    "\n",
    "#########################################\n",
    "### 4. comparision by value or object ###\n",
    "#########################################\n",
    "# z = [1, 2, 4]\n",
    "# print(x == z) # \"==\" comparision by value\n",
    "# print(x is z) # \"is\" comparision by object (memory address)\n",
    "\n"
   ]
  },
  {
   "cell_type": "code",
   "execution_count": null,
   "metadata": {},
   "outputs": [
    {
     "name": "stdout",
     "output_type": "stream",
     "text": [
      "[1, 4, 9]\n",
      "\n",
      "[1, 2, 4]\n",
      "[1, 2, 4]\n",
      "[1, 4, 9]\n"
     ]
    }
   ],
   "source": [
    "\"\"\"\n",
    "Example 6.1.2:\n",
    "list, dictionary is mutable, allowing value change in place (sharing the same address)\n",
    "thus be careful of \"aliasing\" (value change in unwanted way)\n",
    "\"\"\"\n",
    "###################################################################\n",
    "### 1. vector as a list (mutable type), can be changed in place ###\n",
    "###################################################################\n",
    "# x = [1, 2, 3]\n",
    "# x[2] = 4\n",
    "\n",
    "################################################\n",
    "### 2. check object's memory address by id() ###\n",
    "################################################\n",
    "# y = x\n",
    "# print(f\"x = {x} in {id(x)}\")\n",
    "# print(f\"y = {y} in {id(y)}\\n\")\n",
    "\n",
    "#####################################################################\n",
    "### 3. aliasing by changed in place, sometimes cause unwanted way ###\n",
    "#####################################################################\n",
    "x = [1, 2, 3]\n",
    "y = x\n",
    "y_new = [y[i]**2 for i in range(len(y))] # [1, 4, 9]\n",
    "print(f\"{y_new}\\n\")\n",
    "\n",
    "x[2] = 4\n",
    "print(x)\n",
    "print(y)\n",
    "print(y_new) # is this what you expected?\n"
   ]
  },
  {
   "cell_type": "code",
   "execution_count": null,
   "metadata": {},
   "outputs": [
    {
     "name": "stdout",
     "output_type": "stream",
     "text": [
      "[1, 4, 9]\n",
      "[1, 4, 16]\n"
     ]
    }
   ],
   "source": [
    "def change(x):\n",
    "    # return [x[i]**2 for i in range(len(x))]\n",
    "    print([x[i]**2 for i in range(len(x))])\n",
    "\n",
    "\n",
    "x = [1, 2, 3]\n",
    "change(x)\n",
    "\n",
    "x[2] = 4\n",
    "change(x) \n",
    "# is this what you expected?"
   ]
  },
  {
   "cell_type": "code",
   "execution_count": null,
   "metadata": {},
   "outputs": [
    {
     "name": "stdout",
     "output_type": "stream",
     "text": [
      "[ 1  4 16]\n"
     ]
    }
   ],
   "source": [
    "\"\"\"\n",
    "Example 6.1.3:\n",
    "numpy.ndarray (type) is mutable, and it's the suggested way to build a vector, no need to rebuild a wheel.\n",
    "To avoid the aliasing, with .copy() for deep copy (new memory block). \n",
    "It does not share any data with the original array.\n",
    "\"\"\"\n",
    "import numpy as np\n",
    "\n",
    "##############################################################\n",
    "### vector as a numpy object (mutable type) with Deep copy ###\n",
    "##############################################################\n",
    "x = np.array([1, 2, 3]) # type conversion\n",
    "z = x.copy()\n",
    "\n",
    "x[2] = 4\n",
    "print(x**2)\n"
   ]
  },
  {
   "attachments": {},
   "cell_type": "markdown",
   "metadata": {},
   "source": [
    "<font color=\"magenta\">**TRY IT!**</font> Create a row vector and column vector by `np.ndarray()`, and show the shape of the vectors."
   ]
  },
  {
   "cell_type": "code",
   "execution_count": null,
   "metadata": {
    "button": false,
    "new_sheet": false,
    "run_control": {
     "read_only": false
    }
   },
   "outputs": [
    {
     "name": "stdout",
     "output_type": "stream",
     "text": [
      "(1, 5)\n",
      "(4, 1)\n"
     ]
    }
   ],
   "source": [
    "\"\"\"\n",
    "Example 6.1.4:\n",
    "Vectors/Matrices can be built by np.array(A), whereas A is a list of list in Python.\n",
    "s.t. we can distinguish the column and row vector\n",
    "\"\"\"\n",
    "\n",
    "import numpy as np\n",
    "\n",
    "################################################\n",
    "### 1. distinguish of column and row vectors ###\n",
    "################################################\n",
    "vector_row = np.array([[1, -5, 3, 2, 4]])\n",
    "vector_column = np.array([[1], \n",
    "                          [2], \n",
    "                          [3], \n",
    "                          [4]])\n",
    "print(vector_row.shape)\n",
    "print(vector_column.shape)\n",
    "\n",
    "#################################\n",
    "### 2. dimension broadcasting ###\n",
    "#################################\n",
    "x = np.array([1, 4, 7])\n",
    "x_row = x[np.newaxis, :] # dimension broadcasting, shape (1, 3)\n",
    "print(x_row)\n",
    "print(x_row.shape)\n"
   ]
  },
  {
   "attachments": {},
   "cell_type": "markdown",
   "metadata": {
    "button": false,
    "new_sheet": false,
    "run_control": {
     "read_only": false
    }
   },
   "source": [
    "<font color=\"magenta\">You can define vector as 1D `np.array(L)`, whereas L = [1, 2, 3, 4] is a list, \n",
    "\n",
    "but you will soon notice that it doesn't contain information about row or column.\n",
    "\n",
    "On the other hand, in Numpy, we don't really distinguish vector and row.</font> "
   ]
  },
  {
   "attachments": {},
   "cell_type": "markdown",
   "metadata": {
    "button": false,
    "new_sheet": false,
    "run_control": {
     "read_only": false
    }
   },
   "source": [
    "#### **<font color=cyan>Norm of a vector</font>**\n",
    "\n",
    "The **norm** of a vector is a measure of its length. \n",
    "\n",
    "**$L_2$ norm** of a vector $v$ is denoted by $\\Vert v \\Vert_{2}$ and $\\Vert v \\Vert_{2} = \\sqrt{\\sum_i v_i^2}$. \n",
    "\n",
    "**$L_1$ norm** or \"Manhattan Distance,\" is computed as $\\Vert v \\Vert_{1} = \\sum_i |v_i|$, and is named after the grid-like road structure in New York City. \n",
    "\n",
    "**p-norm**, $L_p$, of a vector is $\\Vert v \\Vert_{p} = \\sqrt[p]{(\\sum_i v_i^p)}$. \n",
    "\n",
    "**$L_\\infty$ norm** is the $p$-norm, where $p = \\infty$. The $L_\\infty$ norm is written as $||v||_\\infty$ and it is equal to the maximum absolute value in $v$."
   ]
  },
  {
   "attachments": {},
   "cell_type": "markdown",
   "metadata": {
    "button": false,
    "new_sheet": false,
    "run_control": {
     "read_only": false
    }
   },
   "source": [
    "<font color=\"magenta\">**TRY IT!**</font> Transpose the row vector we defined above into a column vector and calculate the $L_1$, $L_2$, and $L_\\infty$ norm of it. Verify that the $L_\\infty$ norm of a vector is equivalent to the maximum value of the elements in the vector."
   ]
  },
  {
   "cell_type": "code",
   "execution_count": null,
   "metadata": {
    "button": false,
    "new_sheet": false,
    "run_control": {
     "read_only": false
    }
   },
   "outputs": [],
   "source": [
    "\"\"\"\n",
    "Example 6.1.5:\n",
    "Norm of vector in Python, we import np.linalg.norm(v, p)\n",
    "https://numpy.org/doc/stable/reference/generated/numpy.linalg.norm.html\n",
    "\"\"\"\n",
    "from numpy.linalg import norm\n",
    "\n",
    "new_vector = np.array([1, -2, 3]) \n",
    "\n",
    "norm_1 = norm(new_vector, 1)\n",
    "norm_2 = norm(new_vector, 2)\n",
    "norm_inf = norm(new_vector, np.inf)\n",
    "print(\"L_1 is: %.1f\"   %norm_1)\n",
    "print(\"L_2 is: %.1f\"   %norm_2)\n",
    "print(\"L_inf is: %.1f\" %norm_inf)"
   ]
  },
  {
   "attachments": {},
   "cell_type": "markdown",
   "metadata": {
    "button": false,
    "new_sheet": false,
    "run_control": {
     "read_only": false
    }
   },
   "source": [
    "#### <font color=\"cyan\">**Vector addition:**</font>\n",
    "If $v$ and $w$ are vectors in ${\\mathbb{R}}^n$, then $u = v + w$ is defined as $u_i = v_i + w_i$. \n",
    "\n",
    "#### <font color=\"cyan\">**Scalar multiplication:**</font>\n",
    "If $\\alpha$ is a scalar and $v$ is a vector, then $u = \\alpha v$ is defined as $u_i = \\alpha v_i$."
   ]
  },
  {
   "attachments": {},
   "cell_type": "markdown",
   "metadata": {},
   "source": [
    "#### <font color=\"cyan\">**Dot product:**</font> \n",
    "For $v$ and $w$ $\\in {\\mathbb{R}}^n, d = v\\cdot w$ is defined as $d = \\sum_{i = 1}^{n} v_iw_i$. The **angle between two vectors**, $\\theta$, is defined by the formula:\n",
    "\n",
    "$$\n",
    "v \\cdot w = \\Vert v \\Vert_{2} \\Vert w \\Vert_{2} \\cos{\\theta}\n",
    "$$\n",
    "\n",
    "The dot product is a measure of how similarly directed the two vectors are. For example, the vectors (1,1) and (2,2) are parallel. If you compute the angle between them using the dot product, you will find that $\\theta = 0$. If the angle between the vectors, $\\theta = \\pi/2$, then the vectors are said to be perpendicular or **orthogonal**, and the dot product is 0."
   ]
  },
  {
   "cell_type": "code",
   "execution_count": 28,
   "metadata": {
    "button": false,
    "new_sheet": false,
    "run_control": {
     "read_only": false
    }
   },
   "outputs": [
    {
     "name": "stdout",
     "output_type": "stream",
     "text": [
      "[[60.]]\n"
     ]
    }
   ],
   "source": [
    "\"\"\"\n",
    "Example 6.1.6:\n",
    "Inner product and the angle between two vectors, \n",
    "note the difference betwwen np.dot(v, w) and np.dot(v_row, w_row.T) \n",
    "\"\"\"\n",
    "import numpy as np\n",
    "from numpy.linalg import norm\n",
    "from numpy import arccos, dot, pi\n",
    "\n",
    "########################################\n",
    "### 1. Two-axis np.array calculation ###\n",
    "########################################\n",
    "v_row = np.array([[1, 0, 1]]) \n",
    "w_row = np.array([[1, 1, 0]])\n",
    "theta = arccos(dot(v_row, w_row.T)/(norm(v_row)*norm(w_row)))  # check np.dot(v,w), satisfy the \"math\" format\n",
    "print(theta*180/pi)\n",
    "\n",
    "# [[60.]] the scalar was represented as a 1x1 array \n",
    "# type(theta) is <class 'numpy.ndarray'>\n",
    "\n",
    "########################################\n",
    "### 2. One-axis np.array calculation ###\n",
    "########################################\n",
    "\n",
    "# v, w = np.array([1, 0, 1]), np.array([1, 1, 0])\n",
    "# theta = np.arccos(dot(v, w)/(norm(v)*norm(w)))\n",
    "# print(theta*180.0/pi)"
   ]
  },
  {
   "attachments": {},
   "cell_type": "markdown",
   "metadata": {
    "button": false,
    "new_sheet": false,
    "run_control": {
     "read_only": false
    }
   },
   "source": [
    "#### <font color=\"cyan\">**Cross product:**</font> \n",
    "$ w = u \\times v$. It is defined by $u \\times v = \\Vert u \\Vert_{2}\\Vert v \\Vert_{2}\\sin{(\\theta)} \\textit{n}$, where $\\theta$ is the angle between the $u$ and $v$ (which can be computed from the dot product) and **$n$** is a vector perpendicular to both $u$ and $v$ with unit length (i.e., the length is one). \n",
    "\n",
    "The geometric interpretation of the cross product is a vector perpendicular to both $v$ and $w$ with length equal to the area enclosed by the parallelogram created by the two vectors."
   ]
  },
  {
   "cell_type": "code",
   "execution_count": 9,
   "metadata": {
    "button": false,
    "new_sheet": false,
    "run_control": {
     "read_only": false
    }
   },
   "outputs": [
    {
     "name": "stdout",
     "output_type": "stream",
     "text": [
      "cross product of u and v is: w = [ 0  0 -2] \n",
      "\n",
      "outer product of u and v is u.v^T: \n",
      " [[ 1 -1  0]\n",
      " [ 1 -1  0]\n",
      " [ 0  0  0]]\n"
     ]
    }
   ],
   "source": [
    "\"\"\"\n",
    "Example 6.1.7:\n",
    "Cross product, Outer product , note the shape of the new vector\n",
    "\"\"\"\n",
    "import numpy as np\n",
    "##########################################\n",
    "### 1. Two-axis np.array cross product ###\n",
    "##########################################\n",
    "u = np.array([1, 1, 0])\n",
    "v = np.array([1, -1, 0])\n",
    "print(f\"cross product of u and v is: w = {np.cross(u, v)} \\n\")\n",
    "\n",
    "##########################################\n",
    "### 2. Two-axis np.array outer product ###\n",
    "##########################################\n",
    "print(f\"outer product of u and v is u.v^T: \\n {np.outer(u, v)}\")"
   ]
  },
  {
   "attachments": {},
   "cell_type": "markdown",
   "metadata": {
    "button": false,
    "new_sheet": false,
    "run_control": {
     "read_only": false
    }
   },
   "source": [
    "#### <font color=\"cyan\">**Linear Combination:**</font>\n",
    "Assuming that $S$ is a set in which addition and scalar multiplication are defined, a **linear combination** of $S$ is defined as\n",
    "$$\n",
    "S = \\sum \\alpha_i s_i,\n",
    "$$\n",
    "\n",
    "where $\\alpha_i$ is any real number and $s_i$ is the $i^{\\text{th}}$ object (vector in Linear Algebra) in $S$. Sometimes the $\\alpha_i$ values are called the **coefficients** of $s_i$. \n",
    "\n",
    "Linear combinations can be used to describe numerous things. For example, a grocery bill can be written $\\displaystyle{\\sum c_i n_i}$, where $c_i$ is the cost of item $i$ and $n_i$ is the number of item $i$ purchased. Thus, the total cost is a linear combination of the items purchased."
   ]
  },
  {
   "cell_type": "code",
   "execution_count": null,
   "metadata": {
    "button": false,
    "new_sheet": false,
    "run_control": {
     "read_only": false
    }
   },
   "outputs": [
    {
     "name": "stdout",
     "output_type": "stream",
     "text": [
      "3\n"
     ]
    },
    {
     "data": {
      "text/plain": [
       "array([-8., -1.,  4.])"
      ]
     },
     "execution_count": 10,
     "metadata": {},
     "output_type": "execute_result"
    }
   ],
   "source": [
    "\"\"\"\n",
    "Example 6.1.8:\n",
    "Linear combination, \n",
    "funtion definition (input parameters) and function call (arguments)\n",
    "\"\"\"\n",
    "def lincomb(coef, vectors):\n",
    "    n = len(vectors[0])\n",
    "    comb = np.zeros(n)\n",
    "    \n",
    "    for i in range(len(vectors)):\n",
    "        comb = comb + coef[i]*vectors[i]\n",
    "    return comb\n",
    "\n",
    "u = np.array([0, 3, 2])\n",
    "v = np.array([4, 1, 1])\n",
    "w = np.array([0, -2, 0])\n",
    "a, b, c = 3, -2, 4\n",
    "\n",
    "lincomb([a, b, c], [u, v, w]) \n"
   ]
  },
  {
   "attachments": {},
   "cell_type": "markdown",
   "metadata": {},
   "source": [
    "---"
   ]
  },
  {
   "attachments": {},
   "cell_type": "markdown",
   "metadata": {
    "button": false,
    "new_sheet": false,
    "run_control": {
     "read_only": false
    }
   },
   "source": [
    "\n",
    "\n",
    "#### <font color=\"cyan\">**Matrices**</font>\n",
    "\n",
    "An ${m} \\times {n}$ **matrix A** is a rectangular table of numbers consisting of $m$ rows and $n$ columns. "
   ]
  },
  {
   "attachments": {},
   "cell_type": "markdown",
   "metadata": {
    "button": false,
    "new_sheet": false,
    "run_control": {
     "read_only": false
    }
   },
   "source": [
    "#### <font color=\"cyan\">**Norm of a Matrix:**</font>\n",
    "\n",
    "The Frobenius-norm of this vector can be write as:\n",
    "\n",
    "$$\\Vert A \\Vert_{F} = \\sqrt{(\\sum_i^m \\sum_j^n |a_{ij}|^2)}$$\n",
    "\n",
    "You can calculate the matrix norm using the same `np.norm(A)` function as that for vector. \n",
    "\n",
    "#### <font color=\"cyan\">**Matrix addition and scalar multiplication:**</font>\n",
    " for matrices work the same way as for vectors. However, **matrix multiplication** between two matrices, $P$ and $Q$, is defined when $P$ is an ${m} \\times {p}$ matrix and $Q$ is a ${p} \\times {n}$ matrix. The result of $M = PQ$ is a matrix $M$ that is $m \\times n$. The dimension with size $p$ is called the **inner matrix dimension**, and the inner matrix dimensions must match (i.e., the number of columns in $P$ and the number of rows in $Q$ must be the same) for matrix multiplication to be defined. The dimensions $m$ and $n$ are called the **outer matrix dimensions**. Formally, if $P$ is ${m} \\times {p}$ and Q is ${p} \\times {n}$, then $M = PQ$ is defined as\n",
    "\n",
    "$$\n",
    "A_{ij} = \\sum_{k=1}^p P_{ik}Q_{kj}\n",
    "$$\n",
    "\n",
    "The product of two matrices $P$ and $Q$ in Python is achieved by using the `np.dot(P,Q)` method in Numpy. \n",
    "\n",
    "#### **Transpose:** \n",
    "The transpose is denoted by a superscript, $T$, such as $A^T$ is the transpose of matrix $M$. In Python, if `A` is a matrix, then `A.T` is its transpose."
   ]
  },
  {
   "attachments": {},
   "cell_type": "markdown",
   "metadata": {},
   "source": [
    "<font color=\"magenta\">**TRY IT!**</font> Let the Python matrices $P = [[1, 7], [2, 3], [5, 0]]$ and $Q = [[2, 6, 3, 1], [1, 2, 3, 4]]$. \n",
    "\n",
    "Compute the matrix product of $P$ and $Q$. Show that the product of $Q$ and $P$ will produce an error."
   ]
  },
  {
   "cell_type": "code",
   "execution_count": 11,
   "metadata": {
    "button": false,
    "new_sheet": false,
    "run_control": {
     "read_only": false
    }
   },
   "outputs": [
    {
     "name": "stdout",
     "output_type": "stream",
     "text": [
      "P = \n",
      " [[1 7]\n",
      " [2 3]\n",
      " [5 0]] \n",
      "\n",
      "Q = \n",
      " [[2 6 3 1]\n",
      " [1 2 3 4]] \n",
      "\n",
      "PQ = \n",
      " [[ 9 20 24 29]\n",
      " [ 7 18 15 14]\n",
      " [10 30 15  5]] \n",
      "\n",
      "PQ = \n",
      " [[ 9 20 24 29]\n",
      " [ 7 18 15 14]\n",
      " [10 30 15  5]] \n",
      "\n"
     ]
    }
   ],
   "source": [
    "\"\"\"\n",
    "Example 6.1.9:\n",
    "Matrix multiplucation, note the inner matrix dimensions must match. \n",
    "\"\"\"\n",
    "import numpy \n",
    "\n",
    "P = np.array([[1, 7], [2, 3], [5, 0]])\n",
    "Q = np.array([[2, 6, 3, 1], [1, 2, 3, 4]])\n",
    "\n",
    "print(f\"P = \\n {P} \\n\")\n",
    "print(f\"Q = \\n {Q} \\n\")\n",
    "print(f\"PQ = \\n {np.dot(P, Q)} \\n\")\n",
    "print(f\"PQ = \\n {P@Q} \\n\")\n",
    "# np.dot(Q, P) ValueError: shapes (2,4) and (3,2) not aligned"
   ]
  },
  {
   "attachments": {},
   "cell_type": "markdown",
   "metadata": {
    "button": false,
    "new_sheet": false,
    "run_control": {
     "read_only": false
    }
   },
   "source": [
    "#### <font color=\"cyan\">**Determinant:**</font> \n",
    "An important property of square matrices. In the case of a $2 \\times 2$ matrix, the determinant is:\n",
    "\n",
    "$$\n",
    "|A| = \\begin{bmatrix}\n",
    "a & b \\\\\n",
    "c & d\\\\\n",
    "\\end{bmatrix} = ad - bc$$\n",
    "\n",
    "Similarly, in the case of a $3 \\times 3$ matrix, the determinant is:\n",
    "\n",
    "$$\n",
    "\\begin{aligned}\n",
    "|A| = \\begin{bmatrix}\n",
    "a & b & c \\\\\n",
    "d & e & f \\\\\n",
    "g & h & i \\\\\n",
    "\\end{bmatrix} & = & a\\begin{bmatrix}\n",
    "\\Box &\\Box  &\\Box  \\\\\n",
    "\\Box & e & f \\\\\n",
    "\\Box & h & i \\\\\n",
    "\\end{bmatrix} - b\\begin{bmatrix}\n",
    "\\Box &\\Box  &\\Box  \\\\\n",
    "d & \\Box & f \\\\\n",
    "g & \\Box & i \\\\\n",
    "\\end{bmatrix}+c\\begin{bmatrix}\n",
    "\\Box &\\Box  &\\Box  \\\\\n",
    "d & e & \\Box \\\\\n",
    "g & h & \\Box \\\\\n",
    "\\end{bmatrix} \\\\\n",
    "&&\\\\\n",
    "& = & a\\begin{bmatrix}\n",
    "e & f \\\\\n",
    "h & i \\\\\n",
    "\\end{bmatrix} - b\\begin{bmatrix}\n",
    "d & f \\\\\n",
    "g & i \\\\\n",
    "\\end{bmatrix}+c\\begin{bmatrix}\n",
    "d & e \\\\\n",
    "g & h \\\\\n",
    "\\end{bmatrix} \\\\ \n",
    "&&\\\\\n",
    "& = & aei + bfg + cdh - ceg - bdi - afh\n",
    "\\end{aligned}$$\n",
    "\n",
    "We can use similar approach to calculate the determinant for higher the dimension of the matrix, but it is much easier to calculate using Python `det(A)` from numpy.linalg package. "
   ]
  },
  {
   "attachments": {},
   "cell_type": "markdown",
   "metadata": {},
   "source": [
    "#### <font color=\"cyan\">  **Identity matrix:** </font>\n",
    "A square matrix with ones on the diagonal and zeros elsewhere. The identity matrix is usually denoted by $I$, and is analagous to the real number identity, 1. Using Python with dimension $n \\times n$: `np.ones(n)`"
   ]
  },
  {
   "attachments": {},
   "cell_type": "markdown",
   "metadata": {},
   "source": [
    "<font color=\"magenta\">**TRY IT!**</font> Use Python to find the determinant of the matrix $A = [[0, 2, 1, 3], [3, 2, 8, 1], [1, 0, 0, 3], [0, 3, 2, 1]]$. Use the `np.eye(4)` function to produce a ${4} \\times {4}$ identity matrix, $I$. Multiply $M$ by $I$ to show that the result is $A$."
   ]
  },
  {
   "cell_type": "code",
   "execution_count": null,
   "metadata": {
    "button": false,
    "new_sheet": false,
    "run_control": {
     "read_only": false
    }
   },
   "outputs": [],
   "source": [
    "\"\"\"\n",
    "Example 6.1.10:\n",
    "Determinant of matrix A. \n",
    "\"\"\"\n",
    "from numpy.linalg import det\n",
    "\n",
    "A = np.array([[0, 2, 1, 3], \n",
    "              [3, 2, 8, 1], \n",
    "              [1, 0, 0, 3],\n",
    "              [0, 3, 2, 1]])\n",
    "\n",
    "print(f\"A: \\n {A} \\n\")\n",
    "print(f\"Det(A): {det(A)} \\n\")\n",
    "\n",
    "I = np.eye(4)\n",
    "print(f\"I: \\n {I} \\n\")\n",
    "print(f\"A*I: \\n {np.dot(A, I)} \\n\")"
   ]
  },
  {
   "attachments": {},
   "cell_type": "markdown",
   "metadata": {
    "button": false,
    "new_sheet": false,
    "run_control": {
     "read_only": false
    }
   },
   "source": [
    "#### <font color=\"cyan\"> **Inverse:** </font> \n",
    "\n",
    "Inverse of a square matrix $A$ is a matrix of the same size, $A^{-1}$, such that $A \\cdot A^{-1} = I$. The inverse of a matrix is analagous to the inverse of real numbers. For example, the inverse of 3 is $\\frac{1}{3}$ because $(3)(\\frac{1}{3}) = 1$. A matrix is said to be **invertible** if it has an inverse. The inverse of a matrix is unique; that is, for an invertible matrix, there is only one inverse for that matrix. Inverse can be computed in Python using the function `np.linalg.inv(A)`.\n",
    "\n",
    "For a $2 \\times 2$ matrix, the analytic solution of the matrix inverse is:\n",
    "\n",
    "$$\n",
    "A^{-1} = \\begin{bmatrix}\n",
    "a & b \\\\\n",
    "c & d\\\\\n",
    "\\end{bmatrix}^{-1} = \\frac{1}{|A|}\\begin{bmatrix}\n",
    "d & -b \\\\\n",
    "-c & a\\\\\n",
    "\\end{bmatrix}$$\n",
    "\n",
    "The calculation of the matrix inverse for the **analytic solution** becomes complicated with increasing matrix dimension, **there are many other methods can make things easier, such as Gaussian elimination, Newton's method, Eigendecomposition and so on**. We will introduce some of these methods after we learn how to solve a system of linear equations, because the process is essentially the same. "
   ]
  },
  {
   "attachments": {},
   "cell_type": "markdown",
   "metadata": {},
   "source": [
    "Recall that 0 has no inverse for multiplication in the real-numbers setting. Similarly, there are matrices that do not have inverses. These matrices are called **singular**. Matrices that do have an inverse are called **nonsingular or invertible**. One way to determine if a matrix is singular is by computing its determinant. If the determinant is 0, then the matrix is singular; if not, the matrix is nonsingular."
   ]
  },
  {
   "attachments": {},
   "cell_type": "markdown",
   "metadata": {},
   "source": [
    "<font color=\"magenta\">**TRY IT!**</font> The matrix $A$ (in the previous example) has a nonzero determinant. Compute the $A^{-1}$. Show that given a matrix $U = [[0, 1, 0], [0, 1, 0], [1, 0, 1]]$ has a determinant value of 0 and therefore has no inverse."
   ]
  },
  {
   "cell_type": "code",
   "execution_count": 17,
   "metadata": {
    "button": false,
    "new_sheet": false,
    "run_control": {
     "read_only": false
    }
   },
   "outputs": [
    {
     "name": "stdout",
     "output_type": "stream",
     "text": [
      "det(M): -1.0\n",
      "\n",
      "Inverse of M: \n",
      "[[ 0.  1.  0.]\n",
      " [ 1.  0.  0.]\n",
      " [ 0. -1.  1.]]\n",
      "\n"
     ]
    }
   ],
   "source": [
    "\"\"\"\n",
    "Example 6.1.11: Inverse matrix \n",
    "\"\"\"\n",
    "from numpy.linalg import det, inv\n",
    "\n",
    "M = np.array([[0, 1, 0],\n",
    "              [1, 0, 0],\n",
    "              [1, 0, 1]])\n",
    "\n",
    "print(f\"det(M): {det(M)}\\n\")\n",
    "print(f\"Inverse of M: \\n{inv(M)}\\n\")\n"
   ]
  },
  {
   "attachments": {},
   "cell_type": "markdown",
   "metadata": {
    "button": false,
    "new_sheet": false,
    "run_control": {
     "read_only": false
    }
   },
   "source": [
    "#### <font color=\"cyan\"> **Numerical Stability about Inverse: <font color=\"magenta\">Condition number</font>** </font> \n",
    "**ill-conditioned Matrix and Condition Number** `np.linalg.cond(A)`\n",
    "\n",
    "\n",
    "A matrix that is close to being singular (i.e., the determinant is close to 0) is called **ill-conditioned**. Think of $0.1*x = 5$. \n",
    "\n",
    "Although ill-conditioned matrices have inverses, they are problematic numerically in the same way that dividing a number by a very, very small number is problematic. That is, it can result in computations that result in overflow, underflow, or numbers small enough to result in significant round-off errors. \n",
    "\n",
    "The **condition number** is a measure of how ill-conditioned a matrix is, and it can be computed using Numpy's function `cond(A)` from `np.linalg`\n",
    "module. **The higher the condition number, the closer the matrix is to being singular.**"
   ]
  },
  {
   "cell_type": "code",
   "execution_count": 37,
   "metadata": {},
   "outputs": [
    {
     "name": "stdout",
     "output_type": "stream",
     "text": [
      "Condition number of A: \n",
      " 4.05 \n",
      "\n",
      "Rank of matrix A: 3\n",
      "\n",
      "Condition number of B: \n",
      " 30.26 \n",
      "\n",
      "Rank of matrix B: 3\n",
      "\n"
     ]
    }
   ],
   "source": [
    "\"\"\"\n",
    "Example 6.1.12:\n",
    "Condition number of A, is used as the sigular merit.\n",
    "The higher the condition number (lambda_max/lambda_min), the closer the matrix is to being singular.\n",
    "In the future, if we apply iterative method to solve Ax = b, the convergence will be different.\n",
    "\"\"\"\n",
    "from numpy.linalg import cond, matrix_rank\n",
    "\n",
    "A = np.array( [[1, 1, 1],\n",
    "               [0, 1, 1],\n",
    "               [0, 0, 1]] )\n",
    "\n",
    "print(f\"Condition number of A: \\n {cond(A):.2f} \\n\")\n",
    "print(f\"Rank of matrix A: {matrix_rank(A)}\\n\")\n",
    "\n",
    "B = np.array([[1, 1,  1],\n",
    "              [0, 1,  1],  \n",
    "              [0, 0, .1]])\n",
    "\n",
    "print(f\"Condition number of B: \\n {cond(B):.2f} \\n\")\n",
    "print(f\"Rank of matrix B: {matrix_rank(B)}\\n\")"
   ]
  },
  {
   "attachments": {},
   "cell_type": "markdown",
   "metadata": {},
   "source": [
    "#### <font color=\"cyan\">**Rank:**</font> \n",
    "\n",
    "An ${m} \\times {n}$ matrix $A$ is the number of linearly independent columns or rows of $A$, and is denoted by rank($A$). \n",
    "\n",
    "A matrix, $A$, is called **full row rank $rank(A)= m < n$.** if all of its columns are linearly independent. An **augmented matrix**. is a matrix, $A$, concatenated with a vector, $y$, and is written $[A,y]$. This is commonly read \"$A$ augmented with $y$.\" You can use `np.concatenate((A,y), axis=1)` to concatenate the them. \n",
    "\n",
    "If $dim\\{C([A,y])\\} = {rank}(A) + 1$, then the vector, $y$, is \"new\" information. That is, it cannot be created as a linear combination of the columns in $A$. **The rank is an important property of matrices because of its relationship to solutions of linear equations, which is discussed in the last section of this chapter.**\n",
    "\n",
    "<font color=\"magenta\">**TRY IT!**</font> Matrix $A = [[1, 1, 0], [0, 1, 0], [1, 0, 1]]$, compute the condition number and rank for this matrix. If $y = [[1], [2], [1]]$, get the augmented matrix [A, y]. "
   ]
  },
  {
   "cell_type": "code",
   "execution_count": 44,
   "metadata": {
    "button": false,
    "new_sheet": false,
    "run_control": {
     "read_only": false
    }
   },
   "outputs": [
    {
     "name": "stdout",
     "output_type": "stream",
     "text": [
      "Condition number of A: 4.05\n",
      "\n",
      "Rank of matrix A:\n",
      " 3\n",
      "\n",
      "Augmented matrix A_y: \n",
      "[[1 1 1 1]\n",
      " [0 1 1 2]\n",
      " [0 0 1 1]]\n",
      "\n",
      "Rank of Augmented matrix A_y: 3\n",
      "\n"
     ]
    }
   ],
   "source": [
    "\"\"\"\n",
    "Example 6.1.13:\n",
    "Rank of A, is used as the merit for independence.\n",
    "Matrix concatenation shall match the dimension. \n",
    "\"\"\"\n",
    "from numpy.linalg import cond, matrix_rank\n",
    "\n",
    "###########################\n",
    "### 1. rank of matrix A ###\n",
    "########################### \n",
    "\n",
    "A = np.array([[1,  1,  1],\n",
    "              [0,  1,  1],\n",
    "              [0,  0,  1]])\n",
    "\n",
    "print(f\"Condition number of A: {cond(A):.2f}\\n\")\n",
    "print(f\"Rank of matrix A:\\n {matrix_rank(A)}\\n\")\n",
    "\n",
    "################################################\n",
    "### 2. Augmented matrix A_y by concatenation ###\n",
    "################################################ \n",
    "y = np.array([[1], [2], [1]])\n",
    "A_y = np.concatenate((A, y), axis = 1)\n",
    "print(f\"Augmented matrix A_y: \\n{A_y}\\n\")\n",
    "print(f\"Rank of Augmented matrix A_y: {matrix_rank(A_y)}\\n\")\n"
   ]
  }
 ],
 "metadata": {
  "kernelspec": {
   "display_name": "numerical_methods_local",
   "language": "python",
   "name": "python3"
  },
  "language_info": {
   "codemirror_mode": {
    "name": "ipython",
    "version": 3
   },
   "file_extension": ".py",
   "mimetype": "text/x-python",
   "name": "python",
   "nbconvert_exporter": "python",
   "pygments_lexer": "ipython3",
   "version": "3.9.0"
  }
 },
 "nbformat": 4,
 "nbformat_minor": 2
}
