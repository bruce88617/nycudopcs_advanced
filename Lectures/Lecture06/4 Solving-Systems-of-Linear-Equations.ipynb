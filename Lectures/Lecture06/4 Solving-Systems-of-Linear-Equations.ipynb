{
 "cells": [
  {
   "attachments": {},
   "cell_type": "markdown",
   "metadata": {
    "button": false,
    "new_sheet": false,
    "run_control": {
     "read_only": false
    }
   },
   "source": [
    "## **Lecture 6. Linear Algebra and Systems of Linear Equations** \n",
    "### **6.4 Solving $Ax = y$ by library modules**"
   ]
  },
  {
   "attachments": {},
   "cell_type": "markdown",
   "metadata": {},
   "source": [
    "$$ \n",
    "\\LARGE Ax=y \n",
    "$$ \n",
    "\n",
    "* $A$ is an $m \\times n$ matrix with $rank(A) = r$\n",
    "\n",
    "* **Solution** is an $x \\in {\\mathbb{R}}^n$ \n",
    "\n",
    "* **Measurement** $y \\in {\\mathbb{R}}^m$, \n",
    "\n",
    "* **Three Possibilities for Solution $x$**"
   ]
  },
  {
   "cell_type": "markdown",
   "metadata": {},
   "source": [
    "<font color=\"cyan\">**Case 1: There is a unique solution for $x$.**</font> \n",
    "\n",
    "Well-determined system: $ m = n = r, $ \n",
    "\n",
    "$y$ can be written as a linear combination of the columns of $A$. Matrix is **invertible**."
   ]
  },
  {
   "cell_type": "code",
   "execution_count": null,
   "metadata": {},
   "outputs": [
    {
     "name": "stdout",
     "output_type": "stream",
     "text": [
      "Augmented matrix A_y = \n",
      "[[ 1  2  1  2]\n",
      " [ 3  8  1 12]\n",
      " [ 0  4  1  2]]\n",
      "\n",
      "rank of A: 3 \n",
      "\n",
      "rank of A_y: 3 \n",
      "\n",
      "solution x is = [[ 2.]\n",
      " [ 1.]\n",
      " [-2.]] \n",
      "\n",
      "[[ True]\n",
      " [ True]\n",
      " [ True]]\n",
      "True\n"
     ]
    }
   ],
   "source": [
    "\"\"\"\n",
    "Example 6.4.1A:\n",
    "Ax = y has a unique solution, Directed Inverse Method I by function call np.linalg.solve(A, y) \n",
    "Gilbert Strang Chap. 2\n",
    "\"\"\"\n",
    "import numpy as np\n",
    "\n",
    "################################################\n",
    "### 1. Augmented matrix A_y by concatenation ###\n",
    "################################################ \n",
    "A = np.array([[1, 2, 1], [3, 8, 1], [0, 4, 1]])\n",
    "y = np.array([[2], [12], [2]])\n",
    "A_y = np.concatenate((A, y), axis = 1)\n",
    "print(f\"Augmented matrix A_y = \\n{A_y}\\n\")\n",
    "print(f\"rank of A: {np.linalg.matrix_rank(A)} \\n\")\n",
    "print(f\"rank of A_y: {np.linalg.matrix_rank(A_y)} \\n\")\n",
    "\n",
    "##################################################\n",
    "### 2. Find the solution x by inverse method I ###\n",
    "##################################################\n",
    "x = np.linalg.solve(A, y)\n",
    "print(f\"solution x is = {x} \\n\")\n",
    "\n",
    "#################################################################################################\n",
    "### 3. check the result, Returns True if two arrays are element-wise equal within a tolerance ###\n",
    "#################################################################################################\n",
    "print(np.isclose(np.dot(A, x), y))   # element-wise comparision\n",
    "print(np.allclose(np.dot(A, x), y))\n"
   ]
  },
  {
   "cell_type": "code",
   "execution_count": null,
   "metadata": {},
   "outputs": [
    {
     "name": "stdout",
     "output_type": "stream",
     "text": [
      "Augmented matrix A_y = \n",
      "[[ 1  2  1  2]\n",
      " [ 3  8  1 12]\n",
      " [ 0  4  1  2]]\n",
      "\n",
      "rank of A: 3 \n",
      "\n",
      "rank of A_y: 3 \n",
      "\n",
      "solution x is: \n",
      " [ 2.  1. -2.] \n",
      "\n",
      "[ True  True  True]\n",
      "True\n"
     ]
    }
   ],
   "source": [
    "\"\"\"\n",
    "Example 6.4.1B:\n",
    "Ax = y has a unique solution, Directed Inverse Method II by np.linalg.inv(A)\n",
    "Gilbert Strang Chap. 2\n",
    "\"\"\"\n",
    "import numpy as np\n",
    "\n",
    "##########################################################\n",
    "### 1. Augmented matrix A_y by broadcasting and hstack ###\n",
    "##########################################################\n",
    "A = np.array([[1, 2, 1], [3, 8, 1], [0, 4, 1]])\n",
    "y = np.array([2, 12, 2])\n",
    "A_y = np.hstack((A, y[:,None]))\n",
    "print(f\"Augmented matrix A_y = \\n{A_y}\\n\")\n",
    "print(f\"rank of A: {np.linalg.matrix_rank(A)} \\n\")\n",
    "print(f\"rank of A_y: {np.linalg.matrix_rank(A_y)} \\n\")\n",
    "\n",
    "###################################################\n",
    "### 2. Find the solution x by inverse method II ###\n",
    "###################################################\n",
    "x = np.linalg.inv(A) @ y\n",
    "print(f\"solution x is: \\n {x} \\n\")\n",
    "\n",
    "#################################################################################################\n",
    "### 3. check the result, Returns True if two arrays are element-wise equal within a tolerance ###\n",
    "#################################################################################################\n",
    "print(np.isclose(np.dot(A, x), y))   # element-wise comparision\n",
    "print(np.allclose(np.dot(A, x), y))\n"
   ]
  },
  {
   "cell_type": "code",
   "execution_count": 33,
   "metadata": {},
   "outputs": [
    {
     "name": "stdout",
     "output_type": "stream",
     "text": [
      "Augmented matrix A_y = \n",
      "[[ 1  2  1  2]\n",
      " [ 3  8  1 12]\n",
      " [ 0  4  1  2]]\n",
      "\n",
      "rank of A: 3 \n",
      "\n",
      "rank of A_y: 3 \n",
      "\n",
      "solution x is = [ 2.  1. -2.] \n",
      "\n",
      "[ True  True  True]\n",
      "True\n"
     ]
    }
   ],
   "source": [
    "\"\"\"\n",
    "Example 6.4.1C:\n",
    "Ax = y has a unique solution, Directed Inverse Method III by np.linalg.pinv(A)\n",
    "Pseudo inverse pinv(A) is equal to inverse matrix inv(A)\n",
    "Gilbert Strang Chap. 2\n",
    "\"\"\"\n",
    "import numpy as np\n",
    "\n",
    "##########################################################\n",
    "### 1. Augmented matrix A_y by broadcasting and hstack ###\n",
    "##########################################################\n",
    "A = np.array([[1, 2, 1], [3, 8, 1], [0, 4, 1]])\n",
    "y = np.array([2, 12, 2])\n",
    "A_y = np.hstack((A, y[:,None]))\n",
    "print(f\"Augmented matrix A_y = \\n{A_y}\\n\")\n",
    "print(f\"rank of A: {np.linalg.matrix_rank(A)} \\n\")\n",
    "print(f\"rank of A_y: {np.linalg.matrix_rank(A_y)} \\n\")\n",
    "\n",
    "####################################################\n",
    "### 2. Find the solution x by inverse method III ###\n",
    "####################################################\n",
    "x = np.linalg.pinv(A) @ y\n",
    "print(f\"solution x is = {x} \\n\")\n",
    "\n",
    "#################################################################################################\n",
    "### 3. check the result, Returns True if two arrays are element-wise equal within a tolerance ###\n",
    "#################################################################################################\n",
    "print(np.isclose(np.dot(A, x), y))   # element-wise comparision\n",
    "print(np.allclose(np.dot(A, x), y))"
   ]
  },
  {
   "cell_type": "markdown",
   "metadata": {},
   "source": [
    "<font color=\"cyan\">**Case 2: There is no solution for $x$.** </font> \n",
    "\n",
    "Over-determined system:  $m>n=r, $ \n",
    "\n",
    "$y$ is linearly independent from the columns of $A$. \n",
    "\n",
    "Regression (projection) problem, least square method to find the approximation $\\hat{x}$."
   ]
  },
  {
   "cell_type": "code",
   "execution_count": null,
   "metadata": {},
   "outputs": [],
   "source": [
    "\"\"\"\n",
    "Example 6.4.2A: Directed Inverse Method by Projection Matrix\n",
    "Ax = y has no solution, over-determined system, find the approximate solution x^\n",
    "Gilbert Strang 4.2 Example 3\n",
    "\"\"\"\n",
    "import numpy as np\n",
    "import numpy.linalg \n",
    "\n",
    "################################################\n",
    "### 1. Augmented matrix A_y by concatenation ###\n",
    "################################################ \n",
    "A = np.array([[1, 0], [1, 1], [1, 2]])\n",
    "y = np.array([[6], [0], [0]])\n",
    "A_y = np.concatenate((A, y), axis = 1)\n",
    "print(f\"Augmented matrix A_y = \\n{A_y}\\n\")\n",
    "print(f\"rank of A: {np.linalg.matrix_rank(A)} \\n\")\n",
    "print(f\"rank of A_y: {np.linalg.matrix_rank(A_y)} \\n\")\n",
    "\n",
    "##########################################################\n",
    "### 2. Find the approximated solution x^ by projection ###\n",
    "##########################################################\n",
    "x = np.linalg.inv(A.T@A) @ A.T @ y\n",
    "print(f\"approximated solution x: \\n {x} \\n\")\n",
    "\n",
    "##################################################################################\n",
    "### 3. check the result, p is the projected vector, P is the projection matrix ###\n",
    "##################################################################################\n",
    "P = A @ np.linalg.inv(A.T@A) @ A.T\n",
    "p = np.dot(A,x)\n",
    "r = np.linalg.matrix_rank(A_y)\n",
    "e = np.dot((np.eye(r)-P), y)\n",
    "\n",
    "print(f\"projection matrix P: \\n {P} \\n\")\n",
    "print(f\"projected vector p: \\n {p} \\n\")\n",
    "print(f\"error vector e: \\n {e} \\n\")\n",
    "print(np.allclose(p + e, y))\n",
    "print(np.isclose(p + e, y))\n"
   ]
  },
  {
   "cell_type": "code",
   "execution_count": null,
   "metadata": {},
   "outputs": [],
   "source": [
    "\"\"\"\n",
    "Example 6.4.2B: Directed Inverse Method by Psedo-inverse matrix pinv(A)\n",
    "Ax = y has no solution, over-determined system, find the approximate solution x^\n",
    "Gilbert Strang 4.2 Example 3\n",
    "\"\"\"\n",
    "##########################################################\n",
    "### 1. Augmented matrix A_y by broadcasting and hstack ###\n",
    "##########################################################\n",
    "A = np.array([[1, 0], [1, 1], [1, 2]])\n",
    "y = np.array([6, 0, 0], dtype=float)\n",
    "A_y = np.hstack((A, y[:,None]))\n",
    "\n",
    "#############################################################\n",
    "### 2. Find the approximated solution x^ by pseduoinverse ###\n",
    "#############################################################\n",
    "x = np.linalg.pinv(A).dot(y)\n",
    "print(x)\n",
    "print(x.shape)\n",
    "# note the shape of x is (2,): one-axis\n"
   ]
  },
  {
   "attachments": {},
   "cell_type": "markdown",
   "metadata": {},
   "source": [
    "<font color=\"cyan\">**Case 3: There is an infinite number of solutions for $x$.**</font> \n",
    "\n",
    "Under-determined: $ m = r < n, $ \n",
    "\n",
    "$y$ can be written as a linear combination of pivot columns $x_p$ and free columns $x_n$, thus $A(x_p + x_n) = y$ "
   ]
  },
  {
   "cell_type": "code",
   "execution_count": null,
   "metadata": {},
   "outputs": [],
   "source": [
    "\"\"\"\n",
    "Example 6.4.3A:\n",
    "Ax = y has infinite solution, Directed Inverse Method by np.linalg.pinv(A) \n",
    "Gilbert Strang 3.4 Example 2\n",
    "\"\"\"\n",
    "import numpy as np\n",
    "\n",
    "##########################################################\n",
    "### 1. Augmented matrix A_y by broadcasting and hstack ###\n",
    "##########################################################\n",
    "A = np.array([[1, 1, 1], [1, 2, -1]])\n",
    "y = np.array([3, 4]) \n",
    "A_y = np.hstack((A, y[:, None]))\n",
    "print(f\"rank of A is: {np.linalg.matrix_rank(A)} \\n\")\n",
    "print(f\"rank of A_y: {np.linalg.matrix_rank(A_y)} \\n\")\n",
    "\n",
    "###########################################################\n",
    "### 2. Find the particular solution xp by pseduoinverse ###\n",
    "###########################################################\n",
    "x = np.linalg.pinv(A)@y\n",
    "print(f\"solution xp: \\n {x} \\n\")\n",
    "print(f\"minimal L2-norm of solution x = xp: {np.linalg.norm(x, 2)} \\n\")\n",
    "\n",
    "#########################################\n",
    "### 3. check the result, x = xp + xn  ###\n",
    "#########################################\n",
    "x_another = np.array([-1, 3, 1])\n",
    "print(f\"solution x = xp + xn: \\n {x_another} \\n\")\n",
    "print(\"L2-norm of solution x = xp + xn:\", np.linalg.norm(x_another, 2))\n"
   ]
  },
  {
   "attachments": {},
   "cell_type": "markdown",
   "metadata": {},
   "source": [
    "---"
   ]
  }
 ],
 "metadata": {
  "kernelspec": {
   "display_name": "numerical_methods_local",
   "language": "python",
   "name": "python3"
  },
  "language_info": {
   "codemirror_mode": {
    "name": "ipython",
    "version": 3
   },
   "file_extension": ".py",
   "mimetype": "text/x-python",
   "name": "python",
   "nbconvert_exporter": "python",
   "pygments_lexer": "ipython3",
   "version": "3.9.0"
  }
 },
 "nbformat": 4,
 "nbformat_minor": 2
}
