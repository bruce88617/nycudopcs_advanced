{
 "cells": [
  {
   "attachments": {},
   "cell_type": "markdown",
   "metadata": {},
   "source": [
    "## **Least Squares Regression Problem Statement**"
   ]
  },
  {
   "cell_type": "markdown",
   "metadata": {},
   "source": [
    "Given a set of independent data points $x_i$ and dependent data points $y_i, i = 1, \\ldots, m$, we would like to find an **estimation function**, $\\hat{y}(x)$, that describes the data as well as possible. Note that $\\hat{y}$ can be a function of several variables, but for the sake of this discussion, we restrict the domain of $\\hat{y}$ to be a single variable. In least squares regression, the estimation function must be a linear combination of **basis functions**, $f_i(x)$. That is, the estimation function must be of the form\n",
    "$$\n",
    "\\hat{y}(x) = \\sum_{i = 1}^n {\\alpha}_i f_i(x)\n",
    "$$\n",
    "The scalars ${\\alpha}_i$ are referred to as the **parameters** of the estimation function, and each basis function must be linearly independent from the others. In other words, in the proper \"functional space\" no basis function should be expressible as a linear combination of the other functions. Note: In general, there are significantly more data points, $m$, than basis functions, $n$ (i.e., $m >> n$).\n",
    "\n",
    "**TRY IT!** \n",
    "Create an estimation function for the force-displacement relationship of a linear spring. Identify the basis function(s) and model parameters. \n",
    "\n",
    "The relationship between the force, $F$, and the displacement, $x$, can be described by the function $F(x) = kx$ where $k$ is the spring stiffness. The only basis function is the function $f_1(x) = x$ and the model parameter to find is ${\\alpha}_1 = k$.\n",
    "\n",
    "The goal of **least squares regression** is to find the parameters of the estimation function that minimize the **total squared error**, $E$, defined by $E = \\sum_{i=1}^m (\\hat{y} - y_i)^2$. The **individual errors** or **residuals** are defined as $e_i = (\\hat{y} - y_i)$. If $e$ is the vector containing all the individual errors, then we are also trying to minimize $E = \\|{e}\\|_{2}^{2}$, which is the $L_2$ norm defined in the previous chapter.\n",
    "\n",
    "In the next two sections we derive the least squares method of finding the desired parameters. The first derivation comes from linear algebra, and the second derivation comes from multivariable calculus. Although they are different derivations, they lead to the same least squares formula. You are free to focus on the section with which you are most comfortable."
   ]
  }
 ],
 "metadata": {
  "kernelspec": {
   "display_name": "Python 3",
   "language": "python",
   "name": "python3"
  },
  "language_info": {
   "codemirror_mode": {
    "name": "ipython",
    "version": 3
   },
   "file_extension": ".py",
   "mimetype": "text/x-python",
   "name": "python",
   "nbconvert_exporter": "python",
   "pygments_lexer": "ipython3",
   "version": "3.6.8"
  }
 },
 "nbformat": 4,
 "nbformat_minor": 2
}
