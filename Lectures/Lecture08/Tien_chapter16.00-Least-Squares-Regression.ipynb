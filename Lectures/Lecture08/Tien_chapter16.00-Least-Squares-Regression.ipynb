{
 "cells": [
  {
   "attachments": {},
   "cell_type": "markdown",
   "metadata": {
    "button": false,
    "new_sheet": false,
    "run_control": {
     "read_only": false
    }
   },
   "source": [
    "## **Lecture 6. Least Squares Regression**  "
   ]
  },
  {
   "attachments": {},
   "cell_type": "markdown",
   "metadata": {
    "button": false,
    "new_sheet": false,
    "run_control": {
     "read_only": false
    }
   },
   "source": [
    "#### CHAPTER OUTLINE\n",
    "\n",
    "---\n",
    "\n",
    "* [**6.1 Least Squares Regression Problem Statement**](Tien_chapter16.01-Least-Squares-Regression-Problem-Statement.ipynb) \n",
    "* [**6.2 Least Squares Regression Derivation (Linear Algebra)**](Tien_chapter16.02-Least-Squares-Regression-Derivation-Linear-Algebra.ipynb)  \n",
    "* [**6.3 Least Squares Regression Derivation (Multivariable Calculus)**](Tien_chapter16.03-Least-Squares-Regression-Derivation-Multivariable-Calculus.ipynb)  \n",
    "* [**6.4 Least Squares Regression in Python**](Tien_chapter16.04-Least-Squares-Regression-in-Python.ipynb)  \n",
    "* [**6.5 Least Square Regression for Nonlinear Functions**](Tien_chapter16.05-Least-Square-Regression-for-Nonlinear-Functions.ipynb)   "
   ]
  },
  {
   "attachments": {},
   "cell_type": "markdown",
   "metadata": {
    "button": false,
    "new_sheet": false,
    "run_control": {
     "read_only": false
    }
   },
   "source": [
    "--- \n",
    "\n",
    "## Motivation\n",
    "\n",
    "Often in science and engineering coursework, we are asked to determine the state of a system given the parameters of the system. For example, the relationship between the force exerted by a linear spring, *F*, and the displacement of the spring from its natural length, *x*, is usually represented by the model \n",
    "\n",
    "$$\n",
    "\\begin{align}\n",
    "F = kx\n",
    "\\end{align}\n",
    "$$\n",
    "\n",
    "where *k* is the spring stiffness. We are then asked to compute the force for a given *k* and *x* value. \n",
    "\n",
    "However in practice, the stiffness and in general, most of the parameters of a system, are not known a *priori*. Instead, we are usually presented with data points about how the system has behaved in the past. For\n",
    "our spring example, we may be given $(x, F)$ data pairs that have been previously recorded from an experiment. Ideally, all these data points would lie exactly on a line going through the origin (since there is no force at zero displacement). We could then measure the slope of this line and get our stiffness value for *k*. However,\n",
    "practical data usually has some measurement noise because of sensor inaccuracy, measurement error, or a variety of other reasons. The following figure shows an example of what data might look like for a simple spring experiment. \n",
    "\n",
    "<img src=\"./16.00.01-experiment_data.jpg\" width=\"600\"> \n",
    "\n",
    "This chapter teaches methods of finding the <font color=cyan>\"most likely\" model parameters</font> given a set of data, e.g., how to find the spring stiffness in our mock experiment. By the end of this chapter you should understand how these methods choose model parameters, the importance of choosing the correct model, and how to implement these methods in.\n",
    "\n",
    "---"
   ]
  },
  {
   "cell_type": "code",
   "execution_count": null,
   "metadata": {
    "collapsed": true,
    "run_control": {}
   },
   "outputs": [],
   "source": []
  }
 ],
 "metadata": {
  "kernelspec": {
   "display_name": "numerical_methods",
   "language": "python",
   "name": "python3"
  },
  "language_info": {
   "codemirror_mode": {
    "name": "ipython",
    "version": 3
   },
   "file_extension": ".py",
   "mimetype": "text/x-python",
   "name": "python",
   "nbconvert_exporter": "python",
   "pygments_lexer": "ipython3",
   "version": "3.8.0 (tags/v3.8.0:fa919fd, Oct 14 2019, 19:37:50) [MSC v.1916 64 bit (AMD64)]"
  },
  "vscode": {
   "interpreter": {
    "hash": "a7632bf4336177dcaac0f16a29bf528d1eef8e973ee46e49b304d96d25ec4172"
   }
  }
 },
 "nbformat": 4,
 "nbformat_minor": 2
}
