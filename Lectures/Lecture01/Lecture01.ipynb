{
 "cells": [
  {
   "attachments": {},
   "cell_type": "markdown",
   "metadata": {},
   "source": [
    "<br />\n",
    "<br />\n",
    "\n",
    "<center><h1><b>Lecture 1</b></h1></center>\n",
    "<center><h1><b>Knapsack Problems and Dynamic Programming</b></h1></center>\n",
    "\n",
    "<center><h4>Time: T2 (09:00 ~ 09:50) and R78 (15:30 ~ 17:20)</h4></center>\n",
    "\n",
    "<center><h2>Chieh-En Lee<sup>1</sup> (李杰恩) and Chung-Hao Tien<sup>2</sup> (田仲豪)</h2></center>\n",
    "\n",
    "<center>\n",
    "<h4>{<a href=\"mailto:celee@nycu.edu.tw\">celee</a><sup>1</sup>, \n",
    "<a href=\"mailto:chtien@nycu.edu.tw\">chtien</a><sup>2</sup>}@nycu.edu.tw</h4>\n",
    "</center>\n",
    "\n",
    "<center><h3><a href=\"https://dop.nycu.edu.tw/ch/index.html\">Department of Photonics</a>, <a href=\"https://www.nycu.edu.tw/\">NYCU</a></h3></center>\n",
    "\n",
    "<br />\n",
    "<center><h5><a href=\"https://github.com/bruce88617/nycudopcs_advanced\">Data Science and Python Programming</a>, 2023 Spring</h5></center>\n"
   ]
  },
  {
   "attachments": {},
   "cell_type": "markdown",
   "metadata": {},
   "source": [
    "## **Today**\n",
    "\n",
    "<ul>\n",
    "  <li><a href=\"#tag1\">Course information</a></li>\n",
    "  <li><a href=\"#tag2\">Knapsack problems</a></li>\n",
    "  <li><a href=\"#tag3\">The 0/1 knapsack problems</a></li>\n",
    "  <li><a href=\"#tag4\">Dynamic programming</a></li>\n",
    "  <!-- <li><a href=\"#homework\">Homework</a></li> -->\n",
    "</ul>\n"
   ]
  },
  {
   "attachments": {},
   "cell_type": "markdown",
   "metadata": {},
   "source": [
    "<a id='tag1'></a>\n",
    "\n",
    "## **Course information**\n",
    "\n",
    "- Time: \n",
    "    * T2, R78 @CY202\n",
    "\n",
    "- Teaching assistants:\n",
    "\n",
    "    |Name|Email|Office|\n",
    "    |:--:|:--|--|\n",
    "    |吳嘉倫|piep1e.ee11@nycu.edu.tw|CY502|\n",
    "    |黃子原|steven013032.eo08@nctu.edu.tw|CY502|\n",
    "\n",
    "- Grading:\n",
    "\n",
    "    |Item|Percentage|\n",
    "    |:--:|:--:|\n",
    "    |Homework|80%|\n",
    "    |Final project|20%|\n",
    "    |Quiz|10%|\n",
    "\n",
    "- Office hour:\n",
    "    * ??? @CY502\n",
    "    * Please contact us via email before coming\n",
    "\n",
    "- Please prepare a mobile device and bring it here!!!\n",
    "\n"
   ]
  },
  {
   "attachments": {},
   "cell_type": "markdown",
   "metadata": {},
   "source": [
    "### Where can you find the handouts?\n",
    "\n",
    "- GitHub:\n",
    "    * [NYCUDOPCS_ADVANCED repository](https://github.com/bruce88617/nycudopcs)\n",
    "- The format of the handouts is `*.ipynb`. You can open this file via:\n",
    "    * VS code\n",
    "    * Jupyter notebook\n",
    "    * GitHub: https://github.com/bruce88617/nycudopcs\n",
    "    * Google Colab from github: https://githubtocolab.com/bruce88617/nycudopcs/blob/main/Lecture1/Lecture1.ipynb\n",
    "\n"
   ]
  },
  {
   "attachments": {},
   "cell_type": "markdown",
   "metadata": {},
   "source": [
    "### Rules\n",
    "\n",
    "- Criterion of homeworks (NORMAL case):  \n",
    "\n",
    "    |Item|Percentage|\n",
    "    |:--:|:--:|\n",
    "    |Executable|60%|\n",
    "    |Result|20%|\n",
    "    |Others|20%|\n",
    "\n",
    "- Collaboration of homeworks:\n",
    "    * You are allowed to collaborate with anyone. Please list the names of all collaborators in your homework submission.\n",
    "    * No plagiarism\n",
    "    * For example:  \n",
    "\n",
    "```python\n",
    "\"\"\"\n",
    "Created on Sun Aug 7 01:23:45 2022\n",
    "\n",
    "@author: Chieh-En Lee, student ID\n",
    "\n",
    "@collaborators: Jia-Lun Wu and Tzu-Yuan Huang\n",
    "\"\"\"\n",
    "```\n",
    "\n",
    "- The deadline is deadline, no extension.\n",
    "\n",
    "- Criterion of homeworks (ABNORMAL case):  \n",
    "\n",
    "    |Item|Percentage|\n",
    "    |:--:|:--:|\n",
    "    |Executable|10%|\n",
    "    |Result|10%|\n",
    "    |Presentation|80%|\n"
   ]
  },
  {
   "attachments": {},
   "cell_type": "markdown",
   "metadata": {},
   "source": [
    "<a id=\"tag2\"></a>\n",
    "\n",
    "## **Knapsack Problems**\n",
    "\n",
    "- Given a set of items, each with a weight and a value, __determine the number of each item to include in a collection__ so that __the total weight is less than or equal to a given limit and the total value is as large as possible__.\n",
    "\n",
    "#### Example\n",
    "\n",
    "- A burglar who has a knapsack that can hold at most 20 kg of loot breaks into a house and finds the items as shown below. Obviously, he will not be able to take all of the items, so he needs to decide what to take and what to leave behind.\n",
    "\n",
    "    |Item|Value|Weight|Value/Weight|\n",
    "    |:--:|:--:|:--:|:--:|\n",
    "    |Book|10|1|10|\n",
    "    |Violin|175|10|17.5|\n",
    "    |Camera|50|2|25|\n",
    "    |TV|200|20|10|\n",
    "    |Painting|90|9|10|\n",
    "    |Wine|20|4|5|\n",
    "\n",
    "- The question becomes, what combination will provide he the greatest wealth?\n"
   ]
  },
  {
   "attachments": {},
   "cell_type": "markdown",
   "metadata": {},
   "source": [
    "#### Greedy Algorithms\n",
    "\n",
    "- The simplest way to find an approximate solution to this problem. Choose the best item first, then the next best, and continue until reached the limit.\n",
    "\n",
    "- What is the best meaning? Is it the most valuable, least weight, or the best value/weight ratio?\n",
    "\n",
    "- For example, the following results show three different solutions via greedy algorithms.\n",
    "\n",
    "    1. Greedy-by-value:\n",
    "        \n",
    "        |No.|Item to be take|Cummulative value|Cummulative weight|\n",
    "        |:--:|:--:|:--:|:--:|\n",
    "        |1|TV|200|20|\n",
    "\n",
    "    <br>\n",
    "\n",
    "    2. Greedy-by-weight-inverse:\n",
    "\n",
    "        |No.|Item to be take|Cummulative value|Cummulative weight|\n",
    "        |:--:|:--:|:--:|:--:|\n",
    "        |1|Book|10|1|\n",
    "        |2|Camera|60|3|\n",
    "        |3|Wine|80|7|\n",
    "        |4|Painting|170|16|\n",
    "\n",
    "    <br>\n",
    "\n",
    "    3. Greedy-by-ratio\n",
    "\n",
    "        |No.|Item to be take|Cummulative value|Cummulative weight|\n",
    "        |:--:|:--:|:--:|:--:|\n",
    "        |1|Camera|50|2|\n",
    "        |2|Violin|225|12|\n",
    "        |3|Book|235|13|\n",
    "        |4|Wine|255|17|\n",
    "        \n",
    "    <br>\n",
    "\n",
    "- Greedy algorithm can provide an approximate solution with efficiency, but **NOT guarantee to find the optimal solution**."
   ]
  },
  {
   "attachments": {},
   "cell_type": "markdown",
   "metadata": {},
   "source": [
    "#### Implementation of Greedy Algorithms"
   ]
  },
  {
   "cell_type": "code",
   "execution_count": 1,
   "metadata": {},
   "outputs": [],
   "source": [
    "import random\n",
    "\n",
    "class Item:\n",
    "    def __init__(self, n, v, w):\n",
    "        self.name = n\n",
    "        self.value = v\n",
    "        self.weight = w\n",
    "    \n",
    "    def getName(self):\n",
    "        return self.name\n",
    "\n",
    "    def getValue(self):\n",
    "        return self.value\n",
    "    \n",
    "    def getWeight(self):\n",
    "        return self.weight\n",
    "    \n",
    "    def __str__(self):\n",
    "        result = \"<{}, {}, {}>\".format(self.name, self.value, self.weight)\n",
    "        return result\n",
    "\n",
    "def value(item):\n",
    "    return item.getValue()\n",
    "\n",
    "def weightInverse(item):\n",
    "    return 1/item.getWeight()\n",
    "\n",
    "def density(item):\n",
    "    return item.getValue()/item.getWeight()\n",
    "\n",
    "def greedy(items, maxWeight, keyFunction):\n",
    "    itemsCopy = sorted(items, key=keyFunction, reverse=True)\n",
    "    result = []\n",
    "    totalValue, totalWeight = 0., 0.\n",
    "    for i in range(len(itemsCopy)):\n",
    "        if (totalWeight + itemsCopy[i].getWeight()) <= maxWeight:\n",
    "            result.append(itemsCopy[i])\n",
    "            totalWeight += itemsCopy[i].getWeight()\n",
    "            totalValue += itemsCopy[i].getValue()\n",
    "    return (result, totalValue)\n",
    "\n",
    "def buildItems():\n",
    "    names = [\"book\", \"violin\", \"camera\", \"TV\", \"painting\", \"wine\"]\n",
    "    values = [10, 175, 50, 200, 90, 20]\n",
    "    weights = [1, 10, 2, 20, 9, 4]\n",
    "    Items =[]\n",
    "    for i in range(len(values)):\n",
    "        Items.append(Item(names[i], values[i], weights[i]))\n",
    "    return Items\n",
    "\n",
    "def testGreedy(items, maxWeight, keyFunction):\n",
    "    taken, val = greedy(items, maxWeight, keyFunction)\n",
    "    print(\"Total value of items taken is {}.\".format(val))\n",
    "    for item in taken:\n",
    "        print(\"    {}\".format(item))\n",
    "\n",
    "def test1(maxWeight=20):\n",
    "    items = buildItems()\n",
    "    print(\"Use greedy by value to fill knapsack of size {}\".format(maxWeight))\n",
    "    testGreedy(items, maxWeight, value)\n",
    "    print(\"Use greedy by weight to fill knapsack of size {}\".format(maxWeight))\n",
    "    testGreedy(items, maxWeight, weightInverse)\n",
    "    print(\"Use greedy by density to fill knapsack of size {}\".format(maxWeight))\n",
    "    testGreedy(items, maxWeight, density)"
   ]
  },
  {
   "cell_type": "code",
   "execution_count": 16,
   "metadata": {},
   "outputs": [
    {
     "name": "stdout",
     "output_type": "stream",
     "text": [
      "Use greedy by value to fill knapsack of size 20\n",
      "Total value of items taken is 200.0.\n",
      "    <TV, 200, 20>\n",
      "Use greedy by weight to fill knapsack of size 20\n",
      "Total value of items taken is 170.0.\n",
      "    <book, 10, 1>\n",
      "    <camera, 50, 2>\n",
      "    <wine, 20, 4>\n",
      "    <painting, 90, 9>\n",
      "Use greedy by density to fill knapsack of size 20\n",
      "Total value of items taken is 255.0.\n",
      "    <camera, 50, 2>\n",
      "    <violin, 175, 10>\n",
      "    <book, 10, 1>\n",
      "    <wine, 20, 4>\n"
     ]
    }
   ],
   "source": [
    "test1()"
   ]
  },
  {
   "cell_type": "code",
   "execution_count": 17,
   "metadata": {},
   "outputs": [
    {
     "name": "stdout",
     "output_type": "stream",
     "text": [
      "Use greedy by value to fill knapsack of size 25\n",
      "Total value of items taken is 260.0.\n",
      "    <TV, 200, 20>\n",
      "    <camera, 50, 2>\n",
      "    <book, 10, 1>\n",
      "Use greedy by weight to fill knapsack of size 25\n",
      "Total value of items taken is 170.0.\n",
      "    <book, 10, 1>\n",
      "    <camera, 50, 2>\n",
      "    <wine, 20, 4>\n",
      "    <painting, 90, 9>\n",
      "Use greedy by density to fill knapsack of size 25\n",
      "Total value of items taken is 325.0.\n",
      "    <camera, 50, 2>\n",
      "    <violin, 175, 10>\n",
      "    <book, 10, 1>\n",
      "    <painting, 90, 9>\n"
     ]
    }
   ],
   "source": [
    "test1(25)"
   ]
  },
  {
   "attachments": {},
   "cell_type": "markdown",
   "metadata": {},
   "source": [
    "<a id=\"tag3\"></a>\n",
    "\n",
    "## **The 0/1 Knapsack Problems**\n",
    "\n",
    "- Each item is represented by a pair, $<value, weight>$\n",
    "\n",
    "- The knapsack can accommodate items with a total weight of no more than $w$.\n",
    "\n",
    "- A vector $I$ of length $n$ represents the set of available items. Each element of the vector is an item.\n",
    "\n",
    "- A vector $V$ of length $n$ represents whether each item is taken or not (e.g. $V[i] = 1$ represents that item $I[i]$ is taken).\n",
    "\n",
    "- Find the optimal $V$ that\n",
    "\n",
    "$$\n",
    "\\begin{aligned}\n",
    "\n",
    "& \\text{maximize:} \\sum_{i=0}^{n-1} V[i] \\cdot I[i].value & \\\\\n",
    "& \\text{subject to:} \\sum_{i=0}^{n-1} V[i] \\cdot I[i].weight \\leq w & \\\\\n",
    "\n",
    "\\end{aligned}\n",
    "$$\n",
    "\n",
    "\n"
   ]
  },
  {
   "attachments": {},
   "cell_type": "markdown",
   "metadata": {},
   "source": [
    "#### Brute-force Search Method (Exhaustive Enumeration)\n",
    "\n",
    "- Enumerate all possible combinations of items.\n",
    "\n",
    "- Remove all of the combinations which does not meet the constraints.\n",
    "\n",
    "- Choose the combination whose value is the largest from the remaining.\n",
    "\n",
    "#### Implementation"
   ]
  },
  {
   "cell_type": "code",
   "execution_count": 18,
   "metadata": {},
   "outputs": [],
   "source": [
    "def getBinaryRep(n, numDigits):\n",
    "    result = \"\"\n",
    "    while n > 0:\n",
    "        result = str(n%2) + result\n",
    "        n = n//2\n",
    "    if len(result) > numDigits:\n",
    "        raise ValueError(\"not enough digits\")\n",
    "    for i in range(numDigits - len(result)):\n",
    "        result = \"0\" + result\n",
    "    return result\n",
    "\n",
    "def genPowerset(L):\n",
    "    powerset = []\n",
    "    for i in range(0, 2**len(L)):\n",
    "        binStr = getBinaryRep(i, len(L))\n",
    "        subset = []\n",
    "        for j in range(len(L)):\n",
    "            if binStr[j] == \"1\":\n",
    "                subset.append(L[j])\n",
    "        powerset.append(subset)\n",
    "    return powerset\n",
    "\n",
    "def chooseBest(pset, maxWeight):\n",
    "    bestVal = 0.\n",
    "    bestSet = None\n",
    "    for items in pset:\n",
    "        itemsVal = 0.\n",
    "        itemsWeight = 0.\n",
    "        for item in items:\n",
    "            itemsVal += item.getValue()\n",
    "            itemsWeight += item.getWeight()\n",
    "        if itemsWeight <= maxWeight and itemsVal > bestVal:\n",
    "            bestVal = itemsVal\n",
    "            bestSet = items\n",
    "    return (bestSet, bestVal)\n",
    "\n",
    "def test2(maxWeight=20):\n",
    "    items = buildItems()\n",
    "    pset = genPowerset(items)\n",
    "    taken, val = chooseBest(pset, maxWeight)\n",
    "    print(\"Total value of items taken is {}\".format(val))\n",
    "    for item in taken:\n",
    "        print(item)"
   ]
  },
  {
   "cell_type": "code",
   "execution_count": 19,
   "metadata": {},
   "outputs": [
    {
     "name": "stdout",
     "output_type": "stream",
     "text": [
      "Total value of items taken is 275.0\n",
      "<book, 10, 1>\n",
      "<violin, 175, 10>\n",
      "<painting, 90, 9>\n",
      "Total value of items taken is 235.0\n",
      "<book, 10, 1>\n",
      "<violin, 175, 10>\n",
      "<camera, 50, 2>\n"
     ]
    }
   ],
   "source": [
    "test2()\n",
    "test2(15)"
   ]
  },
  {
   "cell_type": "code",
   "execution_count": 39,
   "metadata": {},
   "outputs": [],
   "source": [
    "def buildManyItems(numItems, maxVal, maxWeight):\n",
    "    Items = []\n",
    "    for i in range(numItems):\n",
    "        Items.append(Item(str(i), random.randint(1,maxVal), random.randint(1,maxWeight)))\n",
    "    return Items\n",
    "\n",
    "def test3(num=10, mavVal=200, maxWeight=20):\n",
    "    items = buildManyItems(num, mavVal, maxWeight)\n",
    "    pset = genPowerset(items)\n",
    "    taken, val = chooseBest(pset, maxWeight)\n",
    "    print(\"Total value of items taken is {}\".format(val))\n",
    "    for item in taken:\n",
    "        print(item)"
   ]
  },
  {
   "cell_type": "code",
   "execution_count": 22,
   "metadata": {},
   "outputs": [
    {
     "name": "stdout",
     "output_type": "stream",
     "text": [
      "Total value of items taken is 686.0\n",
      "<2, 182, 4>\n",
      "<4, 122, 4>\n",
      "<14, 175, 3>\n",
      "<16, 165, 8>\n",
      "<17, 42, 1>\n"
     ]
    }
   ],
   "source": [
    "test3(num=20)"
   ]
  },
  {
   "attachments": {},
   "cell_type": "markdown",
   "metadata": {},
   "source": [
    "#### Brief Summary\n",
    "\n",
    "- It's simple but time-consuming. The computational complexity is $O(n \\cdot 2^n)$.\n",
    "\n",
    "- It can definitely find the optimal solution."
   ]
  },
  {
   "attachments": {},
   "cell_type": "markdown",
   "metadata": {},
   "source": [
    "<a id=\"tag4\"></a>\n",
    "\n",
    "## **Dynamic Programming**\n",
    "\n",
    ">\n",
    "> \"The fact that I was really doing mathematics… was something not even a Congressman could object to.\"\n",
    ">\n",
    ">                                 ... Richard Bellman on the Birth of Dynamic Programming\n",
    ">\n",
    "\n",
    "\n",
    "#### What is Dynamic Programming?\n",
    "\n",
    "- A method for efficiently solving problems that exhibit the characteristics of __overlapping subproblems__ and __optimal structure__.\n",
    "\n",
    "- A problems has **optimal structure** if __a globally optimal solution can be found by combining optimal solutions to local subproblems__. Ex: Merge sort\n",
    "\n",
    "- A problem has **overlapping subproblems** if __an optimal solution involves solving the same problem multiple times__.\n",
    "\n",
    "- The key idea behind dynamic programming is __memorization__.\n"
   ]
  },
  {
   "attachments": {},
   "cell_type": "markdown",
   "metadata": {},
   "source": [
    "#### A Simple Example: Fibonacci"
   ]
  },
  {
   "cell_type": "code",
   "execution_count": null,
   "metadata": {},
   "outputs": [],
   "source": [
    "def fib(n):\n",
    "    if n==0 or n==1:\n",
    "        return 1\n",
    "    else:\n",
    "        return fib(n-1) + fib(n-2)\n",
    "\n",
    "def fastFib(n, memo={}):\n",
    "    if n==0 or n==1:\n",
    "        return 1\n",
    "    try:\n",
    "        return memo[n]\n",
    "    except KeyError:\n",
    "        result = fastFib(n-1, memo) + fastFib(n-2, memo)\n",
    "        memo[n] = result\n",
    "        return result\n"
   ]
  },
  {
   "attachments": {},
   "cell_type": "markdown",
   "metadata": {},
   "source": [
    "## Dynamic Programming and the 0/1 Knapsack Problems\n",
    "\n",
    "- Dynamic programming provides a practical method for solving the 0/1 knapsack problems in a reasonable amount of time.\n",
    "\n",
    "- The key idea is to think about exploring the space of possible solutions by constructing a rooted binary tree that enumerates all states that satisfy the constraint.\n",
    "\n",
    "#### Rooted Binary Tree  \n",
    "\n",
    "||Item|Value|Weight|Value/Weight|\n",
    "|:--:|:--:|:--:|:--:|:--:|\n",
    "|**a**|Book|10|1|10|\n",
    "|**b**|Violin|175|10|17.5|\n",
    "|**c**|Camera|50|2|25|\n",
    "|**d**|TV|200|20|10|\n",
    "|**e**|Painting|90|9|10|\n",
    "|**f**|Wine|20|4|5|\n",
    "\n",
    "<br>\n",
    "<img align=\"center\" height=500px width=auto src=\"https://raw.githubusercontent.com/bruce88617/nycudopcs_advanced/main/Lectures/Lecture01/assets/fig1.png\">\n",
    "\n",
    "- There is exactly one node without any parent. This node is called the **__root__**.\n",
    "\n",
    "- Each non-root node has exactly one parent.\n",
    "\n",
    "- Each node has at most two children. A childless node is called a **__leaf__**.\n",
    "\n",
    "<br>\n",
    "<img align=\"center\" height=500px width=auto src=\"https://raw.githubusercontent.com/bruce88617/nycudopcs_advanced/main/Lectures/Lecture01/assets/fig2.png\">\n",
    "\n",
    "\n",
    "#### Implementation\n",
    "\n"
   ]
  },
  {
   "cell_type": "code",
   "execution_count": 51,
   "metadata": {},
   "outputs": [],
   "source": [
    "def searchDT(toConsider, avail):\n",
    "    if toConsider == [] or avail == 0:\n",
    "        result = (0, ())\n",
    "    elif toConsider[0].getWeight() > avail:\n",
    "        # Right branch only\n",
    "        result = searchDT(toConsider[1:], avail)\n",
    "    else:\n",
    "        nextItem = toConsider[0]\n",
    "        # Left branch\n",
    "        withVal, withToTake = searchDT(toConsider[1:], avail - nextItem.getWeight())\n",
    "        withVal += nextItem.getValue()\n",
    "        # Right branch\n",
    "        withoutVal, withoutToTake = searchDT(toConsider[1:], avail)\n",
    "        # Choose better branch\n",
    "        if withVal > withoutVal:\n",
    "            result = (withVal, withToTake+(nextItem,))\n",
    "        else:\n",
    "            result = (withoutVal, withoutToTake)\n",
    "    return result\n",
    "\n",
    "def testDT1(availWeight=5):\n",
    "    print(\"Decision Tree Test 1 (max. weight = {}):\".format(availWeight))\n",
    "    items = buildItems()\n",
    "    val, taken = searchDT(items, availWeight)\n",
    "    print(\"    Items taken:\")\n",
    "    for item in taken:\n",
    "        print(\"    \", item)\n",
    "    print(\"    Total value of items taken = {}\".format(val))\n"
   ]
  },
  {
   "cell_type": "code",
   "execution_count": 46,
   "metadata": {},
   "outputs": [
    {
     "name": "stdout",
     "output_type": "stream",
     "text": [
      "Decision Tree Test 1 (max. weight = 5):\n",
      "<class 'int'>\n",
      "    Items taken:\n",
      "     <camera, 50, 2>\n",
      "     <book, 10, 1>\n",
      "    Total value of items taken = 60\n",
      "Decision Tree Test 1 (max. weight = 10):\n",
      "<class 'int'>\n",
      "    Items taken:\n",
      "     <violin, 175, 10>\n",
      "    Total value of items taken = 175\n",
      "Decision Tree Test 1 (max. weight = 20):\n",
      "<class 'int'>\n",
      "    Items taken:\n",
      "     <painting, 90, 9>\n",
      "     <violin, 175, 10>\n",
      "     <book, 10, 1>\n",
      "    Total value of items taken = 275\n"
     ]
    }
   ],
   "source": [
    "testDT1()\n",
    "testDT1(10)\n",
    "testDT1(20)"
   ]
  },
  {
   "cell_type": "code",
   "execution_count": 53,
   "metadata": {},
   "outputs": [],
   "source": [
    "def testDT2(availWeight=5, numItems=10, maxVal=200, maxWeight=20):\n",
    "    print(\"Decision Tree Test 2 (max. weight = {}):\".format(availWeight))\n",
    "    items = buildManyItems(numItems, maxVal, maxWeight)\n",
    "    val, taken = searchDT(items, availWeight)\n",
    "    print(\"Items taken:\")\n",
    "    for item in taken:\n",
    "        print(\"    \", item)\n",
    "    print(\"Total value of items taken = {}\".format(val))\n"
   ]
  },
  {
   "cell_type": "code",
   "execution_count": 57,
   "metadata": {},
   "outputs": [
    {
     "name": "stdout",
     "output_type": "stream",
     "text": [
      "Decision Tree Test 2 (max. weight = 5):\n",
      "Items taken:\n",
      "     <4, 168, 4>\n",
      "Total value of items taken = 168\n",
      "Decision Tree Test 2 (max. weight = 20):\n",
      "Items taken:\n",
      "     <15, 146, 8>\n",
      "     <14, 141, 2>\n",
      "     <11, 79, 7>\n",
      "     <10, 39, 3>\n",
      "Total value of items taken = 405\n",
      "Decision Tree Test 2 (max. weight = 20):\n",
      "Items taken:\n",
      "     <124, 178, 2>\n",
      "     <122, 98, 1>\n",
      "     <118, 129, 1>\n",
      "     <116, 184, 3>\n",
      "     <111, 120, 1>\n",
      "     <105, 153, 2>\n",
      "     <84, 129, 2>\n",
      "     <80, 159, 1>\n",
      "     <79, 130, 2>\n",
      "     <39, 69, 1>\n",
      "     <38, 186, 2>\n",
      "     <30, 154, 1>\n",
      "     <9, 175, 1>\n",
      "Total value of items taken = 1864\n"
     ]
    }
   ],
   "source": [
    "testDT2()\n",
    "testDT2(20, 16)\n",
    "testDT2(20, 128)"
   ]
  },
  {
   "attachments": {},
   "cell_type": "markdown",
   "metadata": {},
   "source": [
    "#### Dynamic Programming Solution"
   ]
  },
  {
   "cell_type": "code",
   "execution_count": 58,
   "metadata": {},
   "outputs": [],
   "source": [
    "def fastSearchDT(toConsider, avail, memo={}):\n",
    "    if (len(toConsider), avail) in memo:\n",
    "        result = memo[(len(toConsider), avail)]\n",
    "    elif toConsider == [] or avail == 0:\n",
    "        result = (0, ())\n",
    "    elif toConsider[0].getWeight() > avail:\n",
    "        # Right branch only\n",
    "        result = fastSearchDT(toConsider[1:], avail, memo)\n",
    "    else:\n",
    "        nextItem = toConsider[0]\n",
    "        # Left branch\n",
    "        withVal, withToTake = fastSearchDT(toConsider[1:], avail-nextItem.getWeight(), memo)\n",
    "        withVal += nextItem.getValue()\n",
    "        # Right branch\n",
    "        withoutVal, withoutToTake = fastSearchDT(toConsider[1:], avail, memo)\n",
    "        # Choose better branch\n",
    "        if withVal > withoutVal:\n",
    "            result = (withVal, withToTake+(nextItem,))\n",
    "        else:\n",
    "            result = (withoutVal, withoutToTake)\n",
    "    memo[(len(toConsider), avail)] = result\n",
    "    return result\n",
    "\n",
    "def testDT3(availWeight=5, numItems=10, maxVal=200, maxWeight=20):\n",
    "    print(\"Decision Tree Test 2 (max. weight = {}):\".format(availWeight))\n",
    "    items = buildManyItems(numItems, maxVal, maxWeight)\n",
    "    val, taken = fastSearchDT(items, availWeight)\n",
    "    print(\"Items taken:\")\n",
    "    for item in taken:\n",
    "        print(\"    \", item)\n",
    "    print(\"Total value of items taken = {}\".format(val))"
   ]
  },
  {
   "cell_type": "code",
   "execution_count": 59,
   "metadata": {},
   "outputs": [
    {
     "name": "stdout",
     "output_type": "stream",
     "text": [
      "Decision Tree Test 2 (max. weight = 20):\n",
      "Items taken:\n",
      "     <114, 188, 1>\n",
      "     <95, 172, 2>\n",
      "     <94, 176, 2>\n",
      "     <85, 146, 2>\n",
      "     <84, 199, 1>\n",
      "     <47, 115, 2>\n",
      "     <35, 198, 4>\n",
      "     <30, 172, 3>\n",
      "     <26, 130, 2>\n",
      "     <2, 84, 1>\n",
      "Total value of items taken = 1580\n"
     ]
    }
   ],
   "source": [
    "testDT3(20, 128)"
   ]
  }
 ],
 "metadata": {
  "kernelspec": {
   "display_name": "nycudopcs",
   "language": "python",
   "name": "python3"
  },
  "language_info": {
   "codemirror_mode": {
    "name": "ipython",
    "version": 3
   },
   "file_extension": ".py",
   "mimetype": "text/x-python",
   "name": "python",
   "nbconvert_exporter": "python",
   "pygments_lexer": "ipython3",
   "version": "3.8.10"
  },
  "orig_nbformat": 4,
  "vscode": {
   "interpreter": {
    "hash": "5fe2e5cd560f36aa3aedf58cd7990de02027c6dec68ca092676a4258cbc93843"
   }
  }
 },
 "nbformat": 4,
 "nbformat_minor": 2
}
