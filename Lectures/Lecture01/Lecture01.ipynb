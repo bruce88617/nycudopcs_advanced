{
 "cells": [
  {
   "attachments": {},
   "cell_type": "markdown",
   "metadata": {},
   "source": [
    "<br />\n",
    "<br />\n",
    "\n",
    "<center><h1><b>Lecture 1</b></h1></center>\n",
    "<center><h1><b>Knapsack Problems and Dynamic Programming</b></h1></center>\n",
    "\n",
    "<center><h4>Time: T2 (09:00 ~ 09:50) and R78 (15:30 ~ 17:20)</h4></center>\n",
    "\n",
    "<center><h2>Chieh-En Lee<sup>1</sup> (李杰恩) and Chung-Hao Tien<sup>2</sup> (田仲豪)</h2></center>\n",
    "\n",
    "<center>\n",
    "<h4>{<a href=\"mailto:celee@nycu.edu.tw\">celee</a><sup>1</sup>, \n",
    "<a href=\"mailto:chtien@nycu.edu.tw\">chtien</a><sup>2</sup>}@nycu.edu.tw</h4>\n",
    "</center>\n",
    "\n",
    "<center><h3><a href=\"https://dop.nycu.edu.tw/ch/index.html\">Department of Photonics</a>, <a href=\"https://www.nycu.edu.tw/\">NYCU</a></h3></center>\n",
    "\n",
    "<br />\n",
    "<center><h5><a href=\"https://github.com/bruce88617/nycudopcs_advanced\">Data Science and Python Programming</a>, 2023 Spring</h5></center>\n"
   ]
  },
  {
   "attachments": {},
   "cell_type": "markdown",
   "metadata": {},
   "source": [
    "## **Today**\n",
    "\n",
    "<ul>\n",
    "  <li><a href=\"#tag1\">Course information</a></li>\n",
    "  <li><a href=\"#tag2\">Knapsack problems</a></li>\n",
    "  <li><a href=\"#tag3\">The 0/1 knapsack problems</a></li>\n",
    "  <li><a href=\"#tag4\">Dynamic programming</a></li>\n",
    "  <!-- <li><a href=\"#homework\">Homework</a></li> -->\n",
    "</ul>\n"
   ]
  },
  {
   "attachments": {},
   "cell_type": "markdown",
   "metadata": {},
   "source": [
    "<a id='tag1'></a>\n",
    "\n",
    "## **Course information**\n",
    "\n",
    "- Time: \n",
    "    * T2, R78 @CY202\n",
    "\n",
    "- Teaching assistants:\n",
    "\n",
    "    |Name|Email|Office|\n",
    "    |:--:|:--|--|\n",
    "    |吳嘉倫|piep1e.ee07@nycu.edu.tw|CY502|\n",
    "    |黃子原|steven013032.eo08@nctu.edu.tw|CY502|\n",
    "\n",
    "- Grading:\n",
    "\n",
    "    |Item|Percentage|\n",
    "    |:--:|:--:|\n",
    "    |Homework|80%|\n",
    "    |Final project|20%|\n",
    "    |Quiz|10%|\n",
    "\n",
    "- Office hour:\n",
    "\n",
    "    * ??? @CY502\n",
    "    * Please contact us via email before coming\n",
    "\n",
    "- Please prepare a mobile device and bring it here!!!\n",
    "\n"
   ]
  },
  {
   "attachments": {},
   "cell_type": "markdown",
   "metadata": {},
   "source": [
    "### Where can you find the handouts?\n",
    "\n",
    "- GitHub:\n",
    "\n",
    "    * [NYCUDOPCS_ADVANCED repository](https://github.com/bruce88617/nycudopcs)\n",
    "\n",
    "- The format of the handouts is `*.ipynb`. You can open this file via:\n",
    "\n",
    "    * VS code\n",
    "    * Jupyter notebook\n",
    "    * GitHub: https://github.com/bruce88617/nycudopcs\n",
    "    * Google Colab from github: https://githubtocolab.com/bruce88617/nycudopcs/blob/main/Lecture1/Lecture1.ipynb\n",
    "\n"
   ]
  },
  {
   "attachments": {},
   "cell_type": "markdown",
   "metadata": {},
   "source": [
    "### Rules\n",
    "\n",
    "- About the grade of homework:  \n",
    "\n",
    "    * Your program is inexecutable $\\rightarrow 0$.  \n",
    "    * No signature in your main script $\\rightarrow 0$.  Template of signature:\n",
    "\n",
    "        ```python\n",
    "        \"\"\"\n",
    "        Created on Sun Aug 7 01:23:45 2022\n",
    "\n",
    "        @author: Chieh-En Lee, student ID\n",
    "        \"\"\"\n",
    "        ```\n",
    "\n",
    "    * Others $\\rightarrow \\text{ask TA}$.  \n",
    "\n",
    "- Collaboration of homeworks:\n",
    "\n",
    "    * You are allowed to collaborate with anyone. Please list the names of all collaborators in your homework submission.\n",
    "    * No plagiarism\n",
    "    * For example:  \n",
    "\n",
    "        ```python\n",
    "        \"\"\"\n",
    "        Created on Sun Aug 7 01:23:45 2022\n",
    "\n",
    "        @author: Chieh-En Lee, student ID\n",
    "\n",
    "        @collaborators: Jia-Lun Wu and Tzu-Yuan Huang\n",
    "        \"\"\"\n",
    "        ```\n",
    "\n",
    "- The deadline is deadline, no extension.  \n",
    "\n",
    "- Presentation:\n",
    "\n",
    "    * In each homework assignments, we will choose __1~5 students__ as the presenters to explain the programs they written.\n",
    "    * You only have __3 minutes__ for your presentation. Here are some instructions:\n",
    "\n",
    "        1. You don't need to explain your code line-by-line.\n",
    "        2. Explain your understanding of the question.\n",
    "        3. Explain the logic of your code.\n",
    "        4. Keep your mind clear, there will be a Q&A after your presentation.\n",
    "\n",
    "\n"
   ]
  },
  {
   "attachments": {},
   "cell_type": "markdown",
   "metadata": {},
   "source": [
    "<a id=\"tag2\"></a>\n",
    "\n",
    "## **Knapsack Problems**\n",
    "\n",
    "- Given a set of items, each with a weight and a value, __determine the number of each item to include in a collection__ so that __the total weight is less than or equal to a given limit and the total value is as large as possible__.\n",
    "\n",
    "#### Example\n",
    "\n",
    "- A burglar who has a knapsack that can hold at most 20 kg of loot breaks into a house and finds the items as shown below. Obviously, he will not be able to take all of the items, so he needs to decide what to take and what to leave behind.\n",
    "\n",
    "    |Item|Value|Weight|Value/Weight|\n",
    "    |:--:|:--:|:--:|:--:|\n",
    "    |Book|10|1|10|\n",
    "    |Violin|175|10|17.5|\n",
    "    |Camera|50|2|25|\n",
    "    |TV|200|20|10|\n",
    "    |Painting|90|9|10|\n",
    "    |Wine|20|4|5|\n",
    "\n",
    "- The question becomes, what combination will provide he the greatest wealth?\n"
   ]
  },
  {
   "attachments": {},
   "cell_type": "markdown",
   "metadata": {},
   "source": [
    "#### Greedy Algorithms\n",
    "\n",
    "- The simplest way to find an approximate solution to this problem. Choose the best item first, then the next best, and continue until reached the limit.\n",
    "\n",
    "- What is the best meaning? Is it the most valuable, least weight, or the best value/weight ratio?\n",
    "\n",
    "- For example, the following results show three different solutions via greedy algorithms.\n",
    "\n",
    "    1. Greedy-by-value:\n",
    "        \n",
    "        |No.|Item to be take|Cummulative value|Cummulative weight|\n",
    "        |:--:|:--:|:--:|:--:|\n",
    "        |1|TV|200|20|\n",
    "\n",
    "    <br>\n",
    "\n",
    "    2. Greedy-by-weight-inverse:\n",
    "\n",
    "        |No.|Item to be take|Cummulative value|Cummulative weight|\n",
    "        |:--:|:--:|:--:|:--:|\n",
    "        |1|Book|10|1|\n",
    "        |2|Camera|60|3|\n",
    "        |3|Wine|80|7|\n",
    "        |4|Painting|170|16|\n",
    "\n",
    "    <br>\n",
    "\n",
    "    3. Greedy-by-ratio\n",
    "\n",
    "        |No.|Item to be take|Cummulative value|Cummulative weight|\n",
    "        |:--:|:--:|:--:|:--:|\n",
    "        |1|Camera|50|2|\n",
    "        |2|Violin|225|12|\n",
    "        |3|Book|235|13|\n",
    "        |4|Wine|255|17|\n",
    "        \n",
    "    <br>\n",
    "\n",
    "- Greedy algorithm can provide an approximate solution with efficiency, but **NOT guarantee to find the optimal solution**."
   ]
  },
  {
   "attachments": {},
   "cell_type": "markdown",
   "metadata": {},
   "source": [
    "#### Implementation of Greedy Algorithms"
   ]
  },
  {
   "cell_type": "code",
   "execution_count": 1,
   "metadata": {},
   "outputs": [
    {
     "name": "stdout",
     "output_type": "stream",
     "text": [
      "Use greedy by value to fill knapsack of size 20\n",
      "Total value of items taken is 200.0.\n",
      "    <TV, 200, 20>\n",
      "Use greedy by weight to fill knapsack of size 20\n",
      "Total value of items taken is 170.0.\n",
      "    <book, 10, 1>\n",
      "    <camera, 50, 2>\n",
      "    <wine, 20, 4>\n",
      "    <painting, 90, 9>\n",
      "Use greedy by density to fill knapsack of size 20\n",
      "Total value of items taken is 255.0.\n",
      "    <camera, 50, 2>\n",
      "    <violin, 175, 10>\n",
      "    <book, 10, 1>\n",
      "    <wine, 20, 4>\n"
     ]
    }
   ],
   "source": [
    "from scripts.testFuncs import test1\n",
    "\n",
    "test1()"
   ]
  },
  {
   "cell_type": "code",
   "execution_count": 2,
   "metadata": {},
   "outputs": [
    {
     "name": "stdout",
     "output_type": "stream",
     "text": [
      "Use greedy by value to fill knapsack of size 25\n",
      "Total value of items taken is 260.0.\n",
      "    <TV, 200, 20>\n",
      "    <camera, 50, 2>\n",
      "    <book, 10, 1>\n",
      "Use greedy by weight to fill knapsack of size 25\n",
      "Total value of items taken is 170.0.\n",
      "    <book, 10, 1>\n",
      "    <camera, 50, 2>\n",
      "    <wine, 20, 4>\n",
      "    <painting, 90, 9>\n",
      "Use greedy by density to fill knapsack of size 25\n",
      "Total value of items taken is 325.0.\n",
      "    <camera, 50, 2>\n",
      "    <violin, 175, 10>\n",
      "    <book, 10, 1>\n",
      "    <painting, 90, 9>\n"
     ]
    }
   ],
   "source": [
    "test1(25)"
   ]
  },
  {
   "attachments": {},
   "cell_type": "markdown",
   "metadata": {},
   "source": [
    "<a id=\"tag3\"></a>\n",
    "\n",
    "## **The 0/1 Knapsack Problems**\n",
    "\n",
    "- Each item is represented by a pair, $<value, weight>$\n",
    "\n",
    "- The knapsack can accommodate items with a total weight of no more than $w$.\n",
    "\n",
    "- A vector $I$ of length $n$ represents the set of available items. Each element of the vector is an item.\n",
    "\n",
    "- A vector $V$ of length $n$ represents whether each item is taken or not (e.g. $V[i] = 1$ represents that item $I[i]$ is taken).\n",
    "\n",
    "- Find the optimal $V$ that\n",
    "\n",
    "$$\n",
    "\\begin{aligned}\n",
    "\n",
    "& \\text{maximize:} \\sum_{i=0}^{n-1} V[i] \\cdot I[i].value & \\\\\n",
    "& \\text{subject to:} \\sum_{i=0}^{n-1} V[i] \\cdot I[i].weight \\leq w & \\\\\n",
    "\n",
    "\\end{aligned}\n",
    "$$\n",
    "\n",
    "\n"
   ]
  },
  {
   "attachments": {},
   "cell_type": "markdown",
   "metadata": {},
   "source": [
    "#### Brute-force Search Method (Exhaustive Enumeration)\n",
    "\n",
    "- Enumerate all possible combinations of items.\n",
    "\n",
    "- Remove all of the combinations which does not meet the constraints.\n",
    "\n",
    "- Choose the combination whose value is the largest from the remaining.\n",
    "\n",
    "#### Implementation"
   ]
  },
  {
   "cell_type": "code",
   "execution_count": 3,
   "metadata": {},
   "outputs": [
    {
     "name": "stdout",
     "output_type": "stream",
     "text": [
      "Total value of items taken is 275.0\n",
      "<book, 10, 1>\n",
      "<violin, 175, 10>\n",
      "<painting, 90, 9>\n"
     ]
    }
   ],
   "source": [
    "from scripts.testFuncs import test2, test3\n",
    "\n",
    "test2()"
   ]
  },
  {
   "cell_type": "code",
   "execution_count": 4,
   "metadata": {},
   "outputs": [
    {
     "name": "stdout",
     "output_type": "stream",
     "text": [
      "Total value of items taken is 235.0\n",
      "<book, 10, 1>\n",
      "<violin, 175, 10>\n",
      "<camera, 50, 2>\n"
     ]
    }
   ],
   "source": [
    "test2(15)"
   ]
  },
  {
   "cell_type": "code",
   "execution_count": 5,
   "metadata": {},
   "outputs": [
    {
     "name": "stdout",
     "output_type": "stream",
     "text": [
      "Total value of items taken is 615.0\n",
      "<2, 115, 6>\n",
      "<11, 110, 1>\n",
      "<13, 120, 5>\n",
      "<14, 81, 4>\n",
      "<16, 47, 2>\n",
      "<19, 142, 1>\n"
     ]
    }
   ],
   "source": [
    "test3(num=20)"
   ]
  },
  {
   "attachments": {},
   "cell_type": "markdown",
   "metadata": {},
   "source": [
    "#### Brief Summary\n",
    "\n",
    "- It's simple but time-consuming. The computational complexity is $O(n \\cdot 2^n)$.\n",
    "\n",
    "- It can definitely find the optimal solution."
   ]
  },
  {
   "attachments": {},
   "cell_type": "markdown",
   "metadata": {},
   "source": [
    "<a id=\"tag4\"></a>\n",
    "\n",
    "## **Dynamic Programming**\n",
    "\n",
    ">\n",
    "> \"The fact that I was really doing mathematics… was something not even a Congressman could object to.\"\n",
    ">\n",
    ">                                 ... Richard Bellman on the Birth of Dynamic Programming\n",
    ">\n",
    "\n",
    "\n",
    "#### What is Dynamic Programming?\n",
    "\n",
    "- A method for efficiently solving problems that exhibit the characteristics of __overlapping subproblems__ and __optimal structure__.\n",
    "\n",
    "- A problems has **optimal structure** if __a globally optimal solution can be found by combining optimal solutions to local subproblems__. Ex: Merge sort\n",
    "\n",
    "- A problem has **overlapping subproblems** if __an optimal solution involves solving the same problem multiple times__.\n",
    "\n",
    "- The key idea behind dynamic programming is __memorization__.\n"
   ]
  },
  {
   "attachments": {},
   "cell_type": "markdown",
   "metadata": {},
   "source": [
    "#### A Simple Example: Fibonacci"
   ]
  },
  {
   "cell_type": "code",
   "execution_count": null,
   "metadata": {},
   "outputs": [],
   "source": [
    "def fib(n):\n",
    "    if n==0 or n==1:\n",
    "        return 1\n",
    "    else:\n",
    "        return fib(n-1) + fib(n-2)\n",
    "\n",
    "def fastFib(n, memo={}):\n",
    "    if n==0 or n==1:\n",
    "        return 1\n",
    "    try:\n",
    "        return memo[n]\n",
    "    except KeyError:\n",
    "        result = fastFib(n-1, memo) + fastFib(n-2, memo)\n",
    "        memo[n] = result\n",
    "        return result\n"
   ]
  },
  {
   "attachments": {},
   "cell_type": "markdown",
   "metadata": {},
   "source": [
    "## Dynamic Programming and the 0/1 Knapsack Problems\n",
    "\n",
    "- Dynamic programming provides a practical method for solving the 0/1 knapsack problems in a reasonable amount of time.\n",
    "\n",
    "- The key idea is to think about exploring the space of possible solutions by constructing a rooted binary tree that enumerates all states that satisfy the constraint.\n",
    "\n",
    "#### Rooted Binary Tree  \n",
    "\n",
    "||Item|Value|Weight|Value/Weight|\n",
    "|:--:|:--:|:--:|:--:|:--:|\n",
    "|**a**|Book|10|1|10|\n",
    "|**b**|Violin|175|10|17.5|\n",
    "|**c**|Camera|50|2|25|\n",
    "|**d**|TV|200|20|10|\n",
    "|**e**|Painting|90|9|10|\n",
    "|**f**|Wine|20|4|5|\n",
    "\n",
    "<br>\n",
    "<img align=\"center\" height=500px width=auto src=\"https://raw.githubusercontent.com/bruce88617/nycudopcs_advanced/main/Lectures/Lecture01/assets/fig1.png\">\n",
    "\n",
    "- There is exactly one node without any parent. This node is called the **__root__**.\n",
    "\n",
    "- Each non-root node has exactly one parent.\n",
    "\n",
    "- Each node has at most two children. A childless node is called a **__leaf__**.\n",
    "\n",
    "<br>\n",
    "<img align=\"center\" height=500px width=auto src=\"https://raw.githubusercontent.com/bruce88617/nycudopcs_advanced/main/Lectures/Lecture01/assets/fig2.png\">\n",
    "\n",
    "\n",
    "#### Implementation\n",
    "\n"
   ]
  },
  {
   "cell_type": "code",
   "execution_count": null,
   "metadata": {},
   "outputs": [],
   "source": [
    "from scripts.testFuncs import testDT1\n",
    "\n",
    "testDT1()\n",
    "testDT1(10)\n",
    "testDT1(20)"
   ]
  },
  {
   "cell_type": "code",
   "execution_count": null,
   "metadata": {},
   "outputs": [],
   "source": [
    "from scripts.testFuncs import testDT2\n",
    "\n",
    "testDT2()\n",
    "testDT2(20, 16)\n",
    "testDT2(20, 128)"
   ]
  },
  {
   "attachments": {},
   "cell_type": "markdown",
   "metadata": {},
   "source": [
    "#### Dynamic Programming Solution"
   ]
  },
  {
   "cell_type": "code",
   "execution_count": null,
   "metadata": {},
   "outputs": [],
   "source": [
    "from scripts.testFuncs import testDT3\n",
    "\n",
    "testDT3(20, 128)"
   ]
  }
 ],
 "metadata": {
  "kernelspec": {
   "display_name": "nycudopcs",
   "language": "python",
   "name": "python3"
  },
  "language_info": {
   "codemirror_mode": {
    "name": "ipython",
    "version": 3
   },
   "file_extension": ".py",
   "mimetype": "text/x-python",
   "name": "python",
   "nbconvert_exporter": "python",
   "pygments_lexer": "ipython3",
   "version": "3.8.10"
  },
  "orig_nbformat": 4,
  "vscode": {
   "interpreter": {
    "hash": "5fe2e5cd560f36aa3aedf58cd7990de02027c6dec68ca092676a4258cbc93843"
   }
  }
 },
 "nbformat": 4,
 "nbformat_minor": 2
}
