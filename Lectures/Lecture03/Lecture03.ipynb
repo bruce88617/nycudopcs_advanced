{
 "cells": [
  {
   "attachments": {},
   "cell_type": "markdown",
   "metadata": {},
   "source": [
    "<center><h1><b>Lecture 3</b></h1></center>\n",
    "<center><h1><b>Random Walks and Stochastic Programs</b></h1></center>\n",
    "\n",
    "<center><h4>Time: T2 (09:00 ~ 09:50) and R78 (15:30 ~ 17:20)</h4></center>\n",
    "\n",
    "<center><h2>Chieh-En Lee<sup>1</sup> (李杰恩) and Chung-Hao Tien<sup>2</sup> (田仲豪)</h2></center>\n",
    "\n",
    "<center>\n",
    "<h4>{<a href=\"mailto:celee@nycu.edu.tw\">celee</a><sup>1</sup>, \n",
    "<a href=\"mailto:chtien@nycu.edu.tw\">chtien</a><sup>2</sup>}@nycu.edu.tw</h4>\n",
    "</center>\n",
    "\n",
    "<center><h3><a href=\"https://dop.nycu.edu.tw/ch/index.html\">Department of Photonics</a>, <a href=\"https://www.nycu.edu.tw/\">NYCU</a></h3></center>\n",
    "\n",
    "<br />\n",
    "<center><h5><a href=\"https://github.com/bruce88617/nycudopcs_advanced\">Data Science and Python Programming</a>, 2024 Spring</h5></center>\n"
   ]
  },
  {
   "attachments": {},
   "cell_type": "markdown",
   "metadata": {},
   "source": [
    "## Last Time\n",
    "\n",
    "- Graph theory\n",
    "- Graph optimization problems\n",
    "- Breadth-first search\n",
    "- Depth-first search\n",
    "- Dijkstra algorithm"
   ]
  },
  {
   "attachments": {},
   "cell_type": "markdown",
   "metadata": {},
   "source": [
    "## **Today**\n",
    "\n",
    "<ul>\n",
    "  <li>\n",
    "    Part I: Random Walk\n",
    "    <ul>\n",
    "      <li><a href=\"#tag1\">Random walks</a></li>\n",
    "      <li><a href=\"#tag2\">The drunkard's walk</a></li>\n",
    "      <li><a href=\"#tag3\">Biased random walks</a></li>\n",
    "      <li><a href=\"#tag4\">Treacherous fields</a></li>\n",
    "    </ul>\n",
    "  </li>\n",
    "\n",
    "  <li>\n",
    "    Part II: Stochastic Programs\n",
    "    <ul>\n",
    "      <li><a href=\"#tag5\">Stochastic programs</a></li>\n",
    "      <li><a href=\"#tag6\">Inferential statistics</a></li>\n",
    "      <li><a href=\"#tag7\">Distributions</a></li>\n",
    "      <li><a href=\"#tag8\">Simulation of more practical cases</a></li>\n",
    "    </ul>\n",
    "  </li>\n",
    "  \n",
    "</ul>\n"
   ]
  },
  {
   "attachments": {},
   "cell_type": "markdown",
   "metadata": {},
   "source": [
    "<a id=\"tag1\"></a>\n",
    "\n",
    "## **Random Walks**\n",
    "\n",
    "- In 1827, the Scottish botanist Robert Brown observed that pollen particles suspended in water seemed to float around at random.\n",
    "\n",
    "- Random walks are widely used to model many different processes:\n",
    "\n",
    "    * Physical processes (e.g., diffusion)\n",
    "    \n",
    "    * Biological processes (e.g., the kinetics of displacement of RNA from heteroduplexes by DNA)\n",
    "    \n",
    "    * Social processess (e.g., movements of the stock market)\n",
    "\n",
    "- It provides us with a good example of how to use abstract data types and inheritance to structure programs in general and simulation models in particular.\n",
    "\n",
    "\n"
   ]
  },
  {
   "attachments": {},
   "cell_type": "markdown",
   "metadata": {},
   "source": [
    "<a id=\"tag2\"></a>\n",
    "\n",
    "## **The Drunkard's Walk**\n",
    "\n",
    "- A drunkard is standing in the middle of a field.\n",
    "\n",
    "- Every second the drunkard takes one step in a random direction.\n",
    "\n",
    "- What is his/her expected distance from the origin in 1000 seconds?\n",
    "\n",
    "- If he/she takes many steps, is he/she likely to move ever farther from the origin or not?\n",
    "\n",
    "    <img align=\"center\" height=auto width=200px src=\"./assets/fig1.png\">\n",
    "\n",
    "- Run the scripts:\n",
    "\n",
    "```bash\n",
    "python main_Lecture03.py --num 1\n",
    "python main_Lecture03.py --num 2\n",
    "```\n"
   ]
  },
  {
   "attachments": {},
   "cell_type": "markdown",
   "metadata": {},
   "source": [
    "<a id=\"tag3\"></a>\n",
    "\n",
    "## **Biased Random Walks**\n",
    "\n",
    "- A drunkard with special behavior\n",
    "\n",
    "- For example:\n",
    "\n",
    "    * A drunkard in the southern hemisphere who hates the heat is able to move twice as fast when his random movements take him in a southward direction, even in his drunken stupor.\n",
    "\n",
    "    * A TSMC employee who lives in the western coast of Taiwan wants to run away from his company. After drinking heavily, he is able to move twice as fast when his random movements take him in a eastward direction.\n",
    "\n",
    "    * ...\n",
    "\n",
    "    <img align=\"center\" height=auto width=400px src=\"./assets/fig2.png\">\n",
    "\n",
    "\n",
    "- Run the scripts:\n",
    "\n",
    "```bash\n",
    "python main_Lecture03.py --num 3\n",
    "python main_Lecture03.py --num 4\n",
    "```\n"
   ]
  },
  {
   "attachments": {},
   "cell_type": "markdown",
   "metadata": {},
   "source": [
    "#### Get the Final Location\n",
    "\n",
    "- Run the scripts:\n",
    "\n",
    "```bash\n",
    "python main_Lecture03.py --num 5\n",
    "```"
   ]
  },
  {
   "attachments": {},
   "cell_type": "markdown",
   "metadata": {},
   "source": [
    "#### Iterator\n",
    "\n",
    "- If you are not familiar with this, please refer [here](https://github.com/bruce88617/nycudopcs/blob/928926d9710ed209171dc26896906f12cb8acc45/Lectures/Lecture08/Lecture8.ipynb).\n",
    "\n",
    "- Sample code:\n",
    "\n",
    "    ```python\n",
    "    class styleIterator:\n",
    "        def __init__(self, styles):\n",
    "            self.index = 0\n",
    "            self.styles = styles\n",
    "        \n",
    "        def nextStyle(self):\n",
    "            result = self.styles[self.index]\n",
    "            if self.index == len(self.styles)-1:\n",
    "                self.index = 0\n",
    "            else:\n",
    "                self.index += 1\n",
    "            return result\n",
    "    ```\n",
    "\n",
    "\n"
   ]
  },
  {
   "attachments": {},
   "cell_type": "markdown",
   "metadata": {},
   "source": [
    "#### The Trajectory of Walks\n",
    "\n",
    "- Run the scripts:\n",
    "\n",
    "```bash\n",
    "python main_Lecture03.py --num 6\n",
    "```"
   ]
  },
  {
   "attachments": {},
   "cell_type": "markdown",
   "metadata": {},
   "source": [
    "<a id=\"tag4\"></a>\n",
    "\n",
    "## **Treacherous fields**\n",
    "\n",
    "- A field with wormholes\n",
    "\n",
    "- For example:\n",
    "\n",
    "    <img align=\"center\" height=auto width=300px src=\"./assets/fig3.png\">\n",
    "\n",
    "- Run the scripts:\n",
    "\n",
    "```bash\n",
    "python main_Lecture03.py --num 7\n",
    "```"
   ]
  },
  {
   "cell_type": "markdown",
   "metadata": {},
   "source": [
    "<a id=\"tag5\"></a>\n",
    "\n",
    "## **Stochastic Programs**\n",
    "\n",
    "- A program is __**deterministic**__ if whenever it is run on the same input, it produces the same output.\n",
    "\n",
    "- If there is a program that is designed to simulate a dice game somewhere, it requires a __**stochastic**__ implementation, otherwise it is a boring game.\n",
    "\n",
    "- Most programming languages, including Python, include simple ways to write stochastic programs, i.e., programs that exploit randomness.\n",
    "\n",
    "- Typically, a random number or a series of random bits is created via **pseudo random number generator** (PRNG), which generates random number (or bit) based on an initial value called __**seed**__.\n",
    "\n",
    "    <img align=\"center\" height=auto width=200px src=\"./assets/fig4.png\">\n",
    "\n",
    "- Run the script:\n",
    "\n",
    "```bash\n",
    "python main_Lecture03.py -part 2 --num 1\n",
    "```\n"
   ]
  },
  {
   "cell_type": "code",
   "execution_count": null,
   "metadata": {},
   "outputs": [],
   "source": [
    "from scripts.part2 import test1\n",
    "\n",
    "# Random seed\n",
    "test1()\n",
    "\n",
    "# Fixed random see\n",
    "test1(seed=True)"
   ]
  },
  {
   "cell_type": "markdown",
   "metadata": {},
   "source": [
    "<a id=\"tag6\"></a>\n",
    "\n",
    "## **Inferential Statistics**\n",
    "\n",
    "- We can use a systematic process to derive the precise probability of some complex event based on knowing the probability of one or more simpler events.\n",
    "\n",
    "- However, we don’t actually know the exact probability of a event (we don’t know whether the dice is fair, for example).\n",
    "\n",
    "- Fortunately, if we have some data about the behavior of the dice, we can combine that data with our knowledge of probability to derive an estimate of the true probability. This concept is called __**inferential statistics**__.\n",
    "\n",
    "#### Flip a Fair Coin\n",
    "\n",
    "- Suppose you are playing a coin flip game with Harvey Dent, and if heads comes up, Harvey wins. What is the probability that Harvey wins?\n",
    "\n",
    "    <img align=\"center\" height=auto width=500px src=\"./assets/fig5.png\">\n",
    "\n",
    "- Run the script:\n",
    "\n",
    "```bash\n",
    "python main_Lecture03.py -part 2 --num 2\n",
    "```\n"
   ]
  },
  {
   "cell_type": "code",
   "execution_count": null,
   "metadata": {},
   "outputs": [],
   "source": [
    "from scripts.part2.testFuncs import test2\n",
    "\n",
    "# 1\n",
    "test2(numFlipsPerTrial=10, numTrials=1, numExps=5)\n",
    "print(\"=\"*50)\n",
    "\n",
    "# 2\n",
    "test2(numFlipsPerTrial=10, numTrials=10, numExps=5)\n",
    "print(\"=\"*50)\n",
    "\n",
    "# 3\n",
    "test2(numFlipsPerTrial=10, numTrials=100, numExps=5)\n",
    "print(\"=\"*50)"
   ]
  },
  {
   "cell_type": "markdown",
   "metadata": {},
   "source": [
    "#### Law of Large Numbers\n",
    "\n",
    "- If we repeat a test with the same actual probability $p$ of a particular outcome independently, the chance that the fraction of times that outcome occurs differs from $p$ converges to $0$ as the number of trials goes to infinity.\n",
    "\n",
    "- However, it is worth noting that this law does not imply that if deviations from expected behavior occur, these deviations are likely to be “evened out” by opposite deviations in the future.\n",
    "\n",
    "- Run the scripts:\n",
    "\n",
    "```bash\n",
    "python main_Lecture03.py -part 2 --num 3\n",
    "python main_Lecture03.py -part 2 --num 4\n",
    "```"
   ]
  },
  {
   "cell_type": "code",
   "execution_count": null,
   "metadata": {},
   "outputs": [],
   "source": [
    "from scripts.part2.testFuncs import test3\n",
    "\n",
    "test3(numFlipsPerTrial=10, numTrials=100)"
   ]
  },
  {
   "cell_type": "code",
   "execution_count": null,
   "metadata": {},
   "outputs": [],
   "source": [
    "from scripts.part2.testFuncs import test4\n",
    "\n",
    "test4(minExp=4, maxExp=20)"
   ]
  },
  {
   "cell_type": "markdown",
   "metadata": {},
   "source": [
    "#### Variance and Standard Deviation\n",
    "\n",
    "- It is impossible to achieve perfect accuracy through sampling without sampling the entire population.\n",
    "\n",
    "- How many samples do we need to look at before we can have justified confidence in our answer? \n",
    "\n",
    "    * This depends on the **variance** in the underlying distribution.\n",
    "\n",
    "$$\n",
    "\\text{variance}(X) = \\frac{1}{\\color{#FFF200} N} \\sum_{i=1}^{N}{(x_i - \\mu)^2}\n",
    "$$\n",
    "\n",
    "- The **standard deviation** contains exactly the same information as the variance but is easier to interpret because it is in the same units as the original data.\n",
    "\n",
    "    * The mean height of Taiwanese male is $173 cm$ with standard deviation $5.5 cm$.  \n",
    "    * The mean height of Taiwanese male is $173 cm$ with variance $30.25 cm^2$.\n",
    "\n",
    "- Run the script:\n",
    "\n",
    "```bash\n",
    "python main_Lecture03.py -part 2 --num 5\n",
    "```"
   ]
  },
  {
   "cell_type": "code",
   "execution_count": null,
   "metadata": {},
   "outputs": [],
   "source": [
    "from scripts.part2.testFuncs import test5\n",
    "\n",
    "test5(minExp=4, maxExp=20, numTrials=20)"
   ]
  },
  {
   "cell_type": "markdown",
   "metadata": {},
   "source": [
    "#### Coefficient of Variation\n",
    "\n",
    "- When comparing data sets with different means, the **coefficient of variation** is often more informative than the standard deviation.\n",
    "\n",
    "- Definition\n",
    "\n",
    "$$\n",
    "\\text{Coefficient of variation}(X) = \\frac{\\text{Standard deviation}(X)}{\\text{Mean}(X)}\n",
    "$$\n",
    "\n",
    "- Run the script:\n",
    "\n",
    "```bash\n",
    "python main_Lecture03.py -part 2 --num 6\n",
    "```"
   ]
  },
  {
   "cell_type": "code",
   "execution_count": null,
   "metadata": {},
   "outputs": [],
   "source": [
    "from scripts.part2.testFuncs import test6\n",
    "\n",
    "test6(minExp=4, maxExp=20, numTrials=20)"
   ]
  },
  {
   "cell_type": "markdown",
   "metadata": {},
   "source": [
    "<a id=\"tag7\"></a>\n",
    "\n",
    "## **Distributions**\n",
    "\n",
    "- A **histogram** is a plot designed to show the distribution of values in a set of data.\n",
    "\n",
    "- Discrete random variable and discrete probability distributions\n",
    "\n",
    "- Continuous random variable and continuous probability distributions\n",
    "\n",
    "- Probability density function (PDF) describes the probability of a random variable lying between two values.\n",
    "\n",
    "- Run the script:\n",
    "\n",
    "```bash\n",
    "python main_Lecture03.py --p 2 --num 7\n",
    "```"
   ]
  },
  {
   "cell_type": "code",
   "execution_count": null,
   "metadata": {},
   "outputs": [],
   "source": [
    "from scripts.part2.testFuncs import test7\n",
    "\n",
    "test7(numFlips1=100, numFlips2=1000, numTrials=1000)"
   ]
  },
  {
   "cell_type": "markdown",
   "metadata": {},
   "source": [
    "#### Normal distribution\n",
    "\n",
    "- A **normal** (or **Gaussian**) **distribution** is defined by the probability density function:\n",
    "\n",
    "$$\n",
    "P(x) = \\frac{1}{\\sigma \\sqrt{2 \\pi}} e^{-\\frac{(x-\\mu)^2}{2\\sigma^2}}\n",
    "$$\n",
    "\n",
    "- A **confidence interval** provides a range that is likely to contain the unknown value and a degree of confidence that the unknown value lies within the range.\n",
    "\n",
    "- For example, a political poll might indicate that a candidate is likely to get $87 \\%$ of the vote $\\pm 3 \\%$ with a **confidence level** of $95 \\%$.\n",
    "\n",
    "    * The size of confidence interval is $6$.\n",
    "\n",
    "    * The pollster believes that $\\color{#FFF200} 95 \\%$ of the time the candidate will receive between $\\color{#FFF200} 84 \\%$ and $\\color{#FFF200} 90 \\%$ of the vote.\n",
    "\n",
    "- Run the script:\n",
    "\n",
    "```bash\n",
    "python main_Lecture03.py --p 2 --num 8\n",
    "```"
   ]
  },
  {
   "cell_type": "code",
   "execution_count": null,
   "metadata": {},
   "outputs": [],
   "source": [
    "from scripts.part2.testFuncs import test8\n",
    "\n",
    "test8(x=None, mu=0, sigma=1, N=100)"
   ]
  },
  {
   "cell_type": "code",
   "execution_count": null,
   "metadata": {},
   "outputs": [],
   "source": [
    "from scripts.part2.utils import checkEmpirical\n",
    "\n",
    "checkEmpirical(3)"
   ]
  },
  {
   "cell_type": "markdown",
   "metadata": {},
   "source": [
    "##### Estimate with Error Bars"
   ]
  },
  {
   "cell_type": "code",
   "execution_count": null,
   "metadata": {},
   "outputs": [],
   "source": [
    "from scripts.part2.testFuncs import test9\n",
    "\n",
    "test9(minExp=3, maxExp=10, numTrials=100)"
   ]
  },
  {
   "cell_type": "markdown",
   "metadata": {},
   "source": [
    "#### Binomial and Multinomial Distributions\n",
    "\n",
    "- Random variables that can take on only a discrete set of values are called **categorical** (also **nominal** or **discrete**) variables.\n",
    "\n",
    "- When a categorical variable has only two possible values, the probability distribution is called **binomial distribution**.\n",
    "\n",
    "- If the probability of a success in a single trial is $p$, the probability of exactly $k$ successes in $n$ independent trials is\n",
    "\n",
    "$$\n",
    "\\binom{n}{k} \\cdot p^k \\cdot (1-p)^{n-k}\n",
    "$$\n",
    "\n",
    "- For example, rolling two 3's:\n",
    "\n"
   ]
  },
  {
   "cell_type": "code",
   "execution_count": null,
   "metadata": {},
   "outputs": [],
   "source": [
    "from scripts.part2.testFuncs import test10\n",
    "\n",
    "test10(minExp=2, maxExp=100, p=1/6, times=2)"
   ]
  },
  {
   "cell_type": "markdown",
   "metadata": {},
   "source": [
    "##### Exercise\n",
    "\n",
    "- 假設成功要到聯絡資訊的機率是 $5 \\%$，請問 OOO 搭訕到第幾個人時拿到 $10$ 個的聯絡資訊的機率最大？\n",
    "\n",
    "<img align=\"center\" height=auto width=500px src=\"./assets/fig6.png\">"
   ]
  },
  {
   "cell_type": "code",
   "execution_count": 20,
   "metadata": {},
   "outputs": [
    {
     "data": {
      "image/png": "[encoded data removed]",
      "text/plain": [
       "<Figure size 640x480 with 1 Axes>"
      ]
     },
     "metadata": {},
     "output_type": "display_data"
    }
   ],
   "source": [
    "# Solution\n",
    "from scripts.part2.basicFuncs import binCoeff\n",
    "import matplotlib.pyplot as plt\n",
    "import numpy as np\n",
    "\n",
    "\n",
    "def exercise_solution(minExp=10, maxExp=1000, p=0.05, times=10):\n",
    "    xVals, results = [], []\n",
    "    for i in range(minExp, maxExp+1):\n",
    "        prob = binCoeff(i, times) * (p)**times * (1-p)**(i-times)\n",
    "        xVals.append(i)\n",
    "        results.append(prob)\n",
    "    \n",
    "    xVals, results = np.array(xVals), np.array(results)\n",
    "    xMax = np.argmax(results)\n",
    "    \n",
    "    fig = plt.figure(dpi=100, layout=\"constrained\")\n",
    "    ax = fig.add_subplot(111)\n",
    "    ax.plot(xVals, results)\n",
    "    ax.scatter(\n",
    "        xMax + xVals[0], results[xMax], \n",
    "        s=15, color=\"r\", marker=\"o\", \n",
    "        label=\"Max. Prob. = {:.04f}\\nNumber of Tries = {}\".format(results[xMax], xMax + xVals[0]),\n",
    "    )\n",
    "    ax.set_title(\"Probability of Getting 10 Phone Numbers\")\n",
    "    ax.set_xlabel(\"Number of tries\")\n",
    "    ax.set_ylabel(\"Probability\")\n",
    "    ax.set_xlim(xVals[0], xVals[-1])\n",
    "    ax.set_ylim(0, np.max(results)*1.1)\n",
    "    ax.legend(loc=\"best\")\n",
    "\n",
    "    plt.show()\n",
    "\n",
    "exercise_solution()"
   ]
  },
  {
   "cell_type": "markdown",
   "metadata": {},
   "source": [
    "#### Exponential Distributions\n",
    "\n",
    "- For example, the concentration of a drug in the human body. Assume that at each time step each molecule has a constant probability $p$ of being cleared. We have:\n",
    "\n",
    "<center>\n",
    "\n",
    "|Time|The probability of an individual molecule still being in the body|\n",
    "|:--:|:---------------------------------------------------------------:|\n",
    "|$t = 0$|$1$|\n",
    "|$t = 1$|$1 - p$|\n",
    "|$t = 2$|$(1 - p)^2$|\n",
    "|$\\vdots$|$\\vdots$|\n",
    "|$t = t$|$(1 - p)^t$|\n",
    "\n",
    "</center>"
   ]
  },
  {
   "cell_type": "code",
   "execution_count": 21,
   "metadata": {},
   "outputs": [
    {
     "data": {
      "image/png": "[encoded data removed]",
      "text/plain": [
       "<Figure size 400x300 with 1 Axes>"
      ]
     },
     "metadata": {},
     "output_type": "display_data"
    }
   ],
   "source": [
    "from scripts.part2.testFuncs import test11\n",
    "\n",
    "test11(n=1e0, p=1e-2, steps=1e3)"
   ]
  },
  {
   "cell_type": "markdown",
   "metadata": {},
   "source": [
    "- If the events of a process **occur continuously and independently at a constant average rate**, the probability distribution of the distance between events is **exponential distribution**.\n",
    "\n",
    "- In our example, **the probability of the time interval** between the $k^{th}$ molecule and the $(k+1)^{th}$ molecule being cleared is exponential distribution.\n",
    "\n",
    "- Definition:\n",
    "\n",
    "$$\n",
    "\\begin{aligned}\n",
    "\n",
    "P(x) &= \\lambda \\cdot e^{-\\lambda x} \\text{, for } x \\geq 0\\\\\n",
    "\\text{Mean} &= \\frac{1}{\\lambda} \\\\\n",
    "\\text{Variance} &= \\frac{1}{\\lambda ^2} \\\\\n",
    "\\text{Median} &= \\frac{\\ln{2}}{\\lambda}\n",
    "\n",
    "\\end{aligned}\n",
    "$$"
   ]
  },
  {
   "cell_type": "markdown",
   "metadata": {},
   "source": [
    "#### Geometric Distributions\n",
    "\n",
    "- The **geometric distribution** is the discrete analog of the exponential distribution. It is usually thought of as describing the number of independent attempts required to achieve a first success (or a first failure).\n",
    "\n",
    "\n",
    "##### Exercise\n",
    "\n",
    "- 假設成功要到聯絡資訊的機率是 $5 \\%$，請問 OOO 平均要嘗試多少次才能拿到聯絡資訊？"
   ]
  },
  {
   "cell_type": "code",
   "execution_count": 22,
   "metadata": {},
   "outputs": [
    {
     "data": {
      "image/png": "[encoded data removed]",
      "text/plain": [
       "<Figure size 640x480 with 1 Axes>"
      ]
     },
     "metadata": {},
     "output_type": "display_data"
    }
   ],
   "source": [
    "import random\n",
    "import numpy as np\n",
    "import matplotlib.pyplot as plt\n",
    "from mpl_toolkits.axes_grid1 import host_subplot\n",
    "\n",
    "\n",
    "def successfulFlirt(successProb=0.05, numTrials=5000):\n",
    "    triesBeforeSuccess = []\n",
    "    for t in range(numTrials):\n",
    "        consecFailures = 0\n",
    "        while random.random() > successProb:\n",
    "            consecFailures += 1\n",
    "        triesBeforeSuccess.append(consecFailures)\n",
    "\n",
    "    triesBeforeSuccess = np.array(triesBeforeSuccess)\n",
    "    meanTries = np.mean(triesBeforeSuccess)\n",
    "\n",
    "    # Theoretical curve of exponential distribution\n",
    "    x = np.linspace(0, np.max(triesBeforeSuccess), 101)\n",
    "    y = meanTries**(-1) * np.exp(- x * meanTries**(-1))\n",
    "    \n",
    "    fig = plt.figure(dpi=100, layout=\"constrained\")\n",
    "\n",
    "    host = host_subplot(111)\n",
    "    par = host.twinx()\n",
    "    \n",
    "    host.hist(\n",
    "        triesBeforeSuccess, \n",
    "        bins = 50,\n",
    "        label = \"Mean = {:.02f}\".format(meanTries),\n",
    "        density = False,\n",
    "        color='b',\n",
    "        alpha=0.5,\n",
    "    )\n",
    "\n",
    "    par.plot(\n",
    "        x, y, \n",
    "        'r', \n",
    "        label=r\"Exponential distribution with $\\lambda$ = {:.02f}\".format(meanTries)\n",
    "    )\n",
    "    \n",
    "    host.set_xlabel(\"Tries Before Success\")\n",
    "    host.set_ylabel(\"Number of Occurrences Out of {}\".format(numTrials))\n",
    "    host.set_xlim([x[0], x[-1]])\n",
    "    host.tick_params(axis='x', which='both', direction='inout')\n",
    "    host.tick_params(axis='y', labelcolor='b')\n",
    "    \n",
    "    par.set_ylabel(\"Prob.\", color='r')\n",
    "    par.set_ylim([0, np.max(y)*1.1])\n",
    "    par.tick_params(axis='y', labelcolor='r')\n",
    "\n",
    "    host.legend(loc=\"best\")\n",
    "\n",
    "    fig.suptitle(\"Probability of Successful Flirt = {:0.2f}\".format(successProb))\n",
    "\n",
    "successfulFlirt()"
   ]
  },
  {
   "cell_type": "markdown",
   "metadata": {},
   "source": [
    "<a id=\"tag8\"></a>\n",
    "\n",
    "## **Simulation of more practical cases**\n",
    "\n",
    "#### Exercise: Best of 7\n",
    "\n",
    "- Modern competitive sports is an important entertainment in people's life. Many professional sports events are held around the world and boost tremendous economic growth. One of the biggest professional leagues is the Major League Baseball. Almost every October (or November, sometimes) two teams from the Major League Baseball meet each other in something called the World Series. They play each other repeatedly until one of the teams has won four games to claim the title of \"world champion.\"\n",
    "\n",
    "- In this exercise, we are going to simulate a classic question: **how often does the better team win?**\n",
    "\n",
    "- Let's say we have team A and team B meeting each other in the World Series 2023, and we have done all the background check on both teams before the game. The probability that team A wins a game is $p$. What is the probability that team A or team B will win the series?\n",
    "\n",
    "    <img align=\"center\" height=auto width=500px src=\"./assets/fig7.png\">\n",
    "\n"
   ]
  },
  {
   "cell_type": "markdown",
   "metadata": {},
   "source": [
    "<details><summary>Click here for solution</summary>\n",
    "\n",
    "```python\n",
    "import random\n",
    "import matplotlib.pyplot as plt\n",
    "\n",
    "def playSeries(numGames, teamProb):\n",
    "    numWon, numLost = 0, 0\n",
    "    for game in range(numGames):\n",
    "        if random.random() <= teamProb:\n",
    "            numWon += 1\n",
    "        else:\n",
    "            numLost += 1\n",
    "        if (numWon == numGames//2+1) or (numLost == numGames//2+1):\n",
    "            break\n",
    "    return (numWon, numLost, numWon>numLost)\n",
    "\n",
    "def simSeries(prob=0.5, numSeries=100):\n",
    "    result = {\n",
    "        (4,0):0, (4,1):0, (4,2):0, (4,3):0,\n",
    "        (3,4):0, (2,4):0, (1,4):0, (0,4):0,\n",
    "    }\n",
    "    A, B = 0, 0\n",
    "\n",
    "    for i in range(numSeries):\n",
    "        W, L, win = playSeries(7, prob)\n",
    "        result[(W,L)] += 1\n",
    "            \n",
    "        if win:\n",
    "            A += 1\n",
    "        else:\n",
    "            B += 1\n",
    "        \n",
    "    result_list = []\n",
    "    xVals = []\n",
    "    for key in result.keys():\n",
    "        result_list.append(result[key])\n",
    "        xVals.append(str(key))\n",
    "\n",
    "    fig = plt.figure(figsize=(5,4), dpi=100, layout=\"constrained\")\n",
    "    ax = fig.add_subplot(111)\n",
    "    ax.bar(xVals[:4], result_list[:4], width=0.5, color=\"b\", label=\"Probability of A won = {:02d}%\".format(A))\n",
    "    ax.bar(xVals[4:], result_list[4:], width=0.5, color=\"r\", label=\"Probability of B won = {:02d}%\".format(B))\n",
    "    ax.set_title(\"{} Seven-Game Series\".format(numSeries))\n",
    "    ax.set_xlabel(\"Result\")\n",
    "    ax.set_ylabel(\"Number of Occurrences Out of {}\".format(numSeries))\n",
    "    ax.legend(loc=\"best\")\n",
    "\n",
    "    plt.show()\n",
    "    \n",
    "simSeries(0.6)\n",
    "\n",
    "    ```\n",
    "\n",
    "</details>"
   ]
  },
  {
   "cell_type": "markdown",
   "metadata": {},
   "source": [
    "<details><summary>Appendix</summary>\n",
    "\n",
    "#### Exercise: Quantile-Quantile Plot (QQ plot)\n",
    "\n",
    "- A method to identify whether two probability distributions are the same.\n",
    "\n",
    "    1. Calculate the **cumulative density function (CDF)** of these two distributions.\n",
    "\n",
    "    2. Plot the quantiles of these two distributions.\n",
    "\n",
    "- How do we calculate the **cumulative density function (CDF)**?\n",
    "\n",
    "\n",
    "\n",
    "</details>"
   ]
  }
 ],
 "metadata": {
  "kernelspec": {
   "display_name": "nycudopcs",
   "language": "python",
   "name": "python3"
  },
  "language_info": {
   "codemirror_mode": {
    "name": "ipython",
    "version": 3
   },
   "file_extension": ".py",
   "mimetype": "text/x-python",
   "name": "python",
   "nbconvert_exporter": "python",
   "pygments_lexer": "ipython3",
   "version": "3.11.4"
  },
  "orig_nbformat": 4,
  "vscode": {
   "interpreter": {
    "hash": "5fe2e5cd560f36aa3aedf58cd7990de02027c6dec68ca092676a4258cbc93843"
   }
  }
 },
 "nbformat": 4,
 "nbformat_minor": 2
}
