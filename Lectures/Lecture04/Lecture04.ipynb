{
 "cells": [
  {
   "attachments": {},
   "cell_type": "markdown",
   "metadata": {},
   "source": [
    "<center><h1><b>Lecture 4</b></h1></center>\n",
    "<center><h1><b>Stochastic Programs, Probability, and Distributions</b></h1></center>\n",
    "\n",
    "<center><h4>Time: T2 (09:00 ~ 09:50) and R78 (15:30 ~ 17:20)</h4></center>\n",
    "\n",
    "<center><h2>Chieh-En Lee<sup>1</sup> (李杰恩) and Chung-Hao Tien<sup>2</sup> (田仲豪)</h2></center>\n",
    "\n",
    "<center>\n",
    "<h4>{<a href=\"mailto:celee@nycu.edu.tw\">celee</a><sup>1</sup>, \n",
    "<a href=\"mailto:chtien@nycu.edu.tw\">chtien</a><sup>2</sup>}@nycu.edu.tw</h4>\n",
    "</center>\n",
    "\n",
    "<center><h3><a href=\"https://dop.nycu.edu.tw/ch/index.html\">Department of Photonics</a>, <a href=\"https://www.nycu.edu.tw/\">NYCU</a></h3></center>\n",
    "\n",
    "<br />\n",
    "<center><h5><a href=\"https://github.com/bruce88617/nycudopcs_advanced\">Data Science and Python Programming</a>, 2023 Spring</h5></center>\n"
   ]
  },
  {
   "attachments": {},
   "cell_type": "markdown",
   "metadata": {},
   "source": [
    "## Last Time\n",
    "\n",
    "- Random walks\n",
    "- The drunkard's walk\n",
    "- Biased random walks\n",
    "- Treacherous fields"
   ]
  },
  {
   "attachments": {},
   "cell_type": "markdown",
   "metadata": {},
   "source": [
    "## **Today**\n",
    "\n",
    "<ul>\n",
    "  <li><a href=\"#tag1\">Stochastic programs</a></li>\n",
    "  <li><a href=\"#tag2\">Inferential statistics</a></li>\n",
    "  <li><a href=\"#tag3\">Distributions</a></li>\n",
    "  <li><a href=\"#tag4\">Simulation of more practical cases</a></li>\n",
    "  <!-- <li><a href=\"#homework\">Homework</a></li> -->\n",
    "</ul>\n"
   ]
  },
  {
   "attachments": {},
   "cell_type": "markdown",
   "metadata": {},
   "source": [
    "<a id=\"tag1\"></a>\n",
    "\n",
    "## **Stochastic Programs**\n",
    "\n",
    "- A program is __**deterministic**__ if whenever it is run on the same input, it produces the same output.\n",
    "\n",
    "- If there is a program that is designed to simulate a dice game somewhere, it requires a __**stochastic**__ implementation, otherwise it is a boring game.\n",
    "\n",
    "- Most programming languages, including Python, include simple ways to write stochastic programs, i.e., programs that exploit randomness.\n",
    "\n",
    "- Typically, a random number or a series of random bits is created via **pseudo random number generator** (PRNG), which generates random number (or bit) based on an initial value called __**seed**__.\n",
    "\n",
    "    <img align=\"center\" height=auto width=200px src=\"https://raw.githubusercontent.com/bruce88617/nycudopcs_advanced/main/Lectures/Lecture04/assets/fig1.png\">"
   ]
  },
  {
   "cell_type": "code",
   "execution_count": 1,
   "metadata": {},
   "outputs": [
    {
     "name": "stdout",
     "output_type": "stream",
     "text": [
      "Rolling a fair dice 5 times\n",
      "    0 trials: 33623\n",
      "    1 trials: 52431\n",
      "    2 trials: 66423\n",
      "    3 trials: 16415\n",
      "    4 trials: 42646\n"
     ]
    }
   ],
   "source": [
    "from scripts.testFuncs import test1\n",
    "\n",
    "test1()"
   ]
  },
  {
   "cell_type": "code",
   "execution_count": 2,
   "metadata": {},
   "outputs": [
    {
     "name": "stdout",
     "output_type": "stream",
     "text": [
      "Rolling a fair dice 5 times\n",
      "    0 trials: 44135\n",
      "    1 trials: 44135\n",
      "    2 trials: 44135\n",
      "    3 trials: 44135\n",
      "    4 trials: 44135\n"
     ]
    }
   ],
   "source": [
    "# Simulation with manual seed\n",
    "\n",
    "test1(seed=True)"
   ]
  },
  {
   "attachments": {},
   "cell_type": "markdown",
   "metadata": {},
   "source": [
    "<a id=\"tag2\"></a>\n",
    "\n",
    "## **Inferential Statistics**\n",
    "\n",
    "- We can use a systematic process to derive the precise probability of some complex event based on knowing the probability of one or more simpler events.\n",
    "\n",
    "- However, we don’t actually know the exact probability of a event (we don’t know whether the dice is fair, for example).\n",
    "\n",
    "- Fortunately, if we have some data about the behavior of the dice, we can combine that data with our knowledge of probability to derive an estimate of the true probability. This concept is called __**inferential statistics**__.\n",
    "\n",
    "#### Flip a Fair Coin\n",
    "\n",
    "- Suppose you are playing a coin flip game with Harvey Dent, and if heads comes up, Harvey wins. What is the probability that Harvey wins?\n",
    "\n",
    "    <img align=\"center\" height=auto width=500px src=\"https://raw.githubusercontent.com/bruce88617/nycudopcs_advanced/main/Lectures/Lecture04/assets/fig2.png\">\n",
    "\n",
    "\n"
   ]
  },
  {
   "attachments": {},
   "cell_type": "markdown",
   "metadata": {},
   "source": [
    "#### Normal distribution\n",
    "\n",
    "- Definition\n",
    "\n",
    "$$\n",
    "P(x) = \\frac{1}{\\sigma \\sqrt{2 \\pi}} e^{-\\frac{(x-\\mu)^2}{2\\sigma^2}}\n",
    "$$"
   ]
  },
  {
   "cell_type": "code",
   "execution_count": null,
   "metadata": {},
   "outputs": [],
   "source": [
    "import matplotlib.pyplot as plt\n",
    "import numpy as np"
   ]
  },
  {
   "cell_type": "code",
   "execution_count": null,
   "metadata": {},
   "outputs": [],
   "source": [
    "def gaussDist(x=None, mu=0, sigma=1, N=100):\n",
    "    coeff = 1/(sigma*np.sqrt(2*np.pi))\n",
    "    if x is None:\n",
    "        x = np.linspace(mu-5*sigma, mu+5*sigma, N)\n",
    "    return coeff*np.exp(-((x-mu)**2)/(2*sigma**2))\n",
    "\n",
    "def plotGaussDist(x=None, mu=0, sigma=1, N=100):\n",
    "    if x is None:\n",
    "        x = np.linspace(mu-5*sigma, mu+5*sigma, N)\n",
    "    y = gaussDist(x=x, mu=0, sigma=1)\n",
    "\n",
    "    xfill1 = np.linspace(-sigma,sigma,20)\n",
    "    yfill1 = gaussDist(x=xfill1)\n",
    "    xfill2 = np.linspace(-2*sigma,-sigma,20)\n",
    "    yfill2 = gaussDist(x=xfill2)\n",
    "    xfill3 = np.linspace(sigma,2*sigma,20)\n",
    "    yfill3 = gaussDist(x=xfill3)\n",
    "    xfill4 = np.linspace(2*sigma,3*sigma,20)\n",
    "    yfill4 = gaussDist(x=xfill4)\n",
    "    xfill5 = np.linspace(-3*sigma,-2*sigma,20)\n",
    "    yfill5 = gaussDist(x=xfill5)\n",
    "\n",
    "    fig = plt.figure(1, figsize=(5,4), dpi=100, layout=\"constrained\")\n",
    "    ax = fig.add_subplot(111)\n",
    "    ax.plot(x, y, 'k', label=\"Normal distribution\")\n",
    "    ax.fill_between(xfill1, y1=yfill1, y2=0, where=None, color='g', alpha=0.2)\n",
    "    ax.fill_between(xfill2, y1=yfill2, y2=0, where=None, color='b', alpha=0.2)\n",
    "    ax.fill_between(xfill3, y1=yfill3, y2=0, where=None, color='b', alpha=0.2)\n",
    "    ax.fill_between(xfill4, y1=yfill4, y2=0, where=None, color='r', alpha=0.2)\n",
    "    ax.fill_between(xfill5, y1=yfill5, y2=0, where=None, color='r', alpha=0.2)\n",
    "    ax.set_xlim(-4,4)\n",
    "    ax.set_ylim(0, np.max(y)*1.1)\n",
    "    ax.annotate(\"~68.27%\", size=\"x-large\", xycoords=\"axes fraction\", xy=(0.4,0.5))\n",
    "    ax.annotate(\"~95.45%\", size=\"x-large\", xycoords=\"axes fraction\", xy=(0.4,0.12))\n",
    "    ax.annotate(\"~99.73%\", size=\"x-large\", xycoords=\"axes fraction\", xy=(0.4,0.01))\n",
    "    ax.hlines(np.max(y)*0.52, -sigma, sigma, 'g', alpha=0.5)\n",
    "    ax.hlines(np.max(y)*0.12, -2*sigma, 2*sigma, 'b', alpha=0.5)\n",
    "    ax.hlines(np.max(y)*0.01, -3*sigma, 3*sigma, 'r', alpha=0.5)\n",
    "    ax.legend(loc='best')\n",
    "    ax.set_title(\"Normal Distribution, Mean = {} and STD = {}\".format(mu, sigma))\n",
    "\n",
    "    plt.show()\n",
    "    "
   ]
  },
  {
   "cell_type": "code",
   "execution_count": null,
   "metadata": {},
   "outputs": [],
   "source": [
    "plotGaussDist()"
   ]
  }
 ],
 "metadata": {
  "kernelspec": {
   "display_name": "nycudopcs",
   "language": "python",
   "name": "python3"
  },
  "language_info": {
   "codemirror_mode": {
    "name": "ipython",
    "version": 3
   },
   "file_extension": ".py",
   "mimetype": "text/x-python",
   "name": "python",
   "nbconvert_exporter": "python",
   "pygments_lexer": "ipython3",
   "version": "3.8.10"
  },
  "orig_nbformat": 4
 },
 "nbformat": 4,
 "nbformat_minor": 2
}
