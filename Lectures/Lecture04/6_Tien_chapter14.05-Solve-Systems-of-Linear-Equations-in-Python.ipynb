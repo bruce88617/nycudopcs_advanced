{
 "cells": [
  {
   "attachments": {},
   "cell_type": "markdown",
   "metadata": {},
   "source": [
    "<!--NAVIGATION-->\n",
    "< [4.4 Solutions to Systems of Linear Equations](Tien_chapter14.04-Solutions-to-Systems-of-Linear-Equations.ipynb)  | [Contents](Tien_chapter14.05-Solve-Systems-of-Linear-Equations-in-Python.ipynb) >"
   ]
  },
  {
   "attachments": {},
   "cell_type": "markdown",
   "metadata": {},
   "source": [
    "## **Lecture 4. Linear Algebra and Systems of Linear Equations:** \n",
    "### **4.5 Solve Systems of Linear Equations in Python**</font> "
   ]
  },
  {
   "attachments": {},
   "cell_type": "markdown",
   "metadata": {},
   "source": [
    "Though we discussed various methods to solve the systems of linear equations, it is actually very easy to do it in Python. In this section, we will use Python to solve the systems of equations. The easiest way to get a solution is via the `solve` function in Numpy.linalg packages.\n",
    "\n",
    "**Method 1:** Use `numpy.linalg.solve(A,y)` to solve the following equations.<br> \n",
    "\n",
    "\\begin{align}\n",
    "4x_1 + 3x_2 - 5x_3 &=& 2 \\\\\n",
    "-2x_1 - 4x_2 + 5x_3 &=& 5 \\\\\n",
    "8x_1 + 8x_2  &=& -3 \\\\\n",
    "\\end{align}"
   ]
  },
  {
   "cell_type": "code",
   "execution_count": null,
   "metadata": {},
   "outputs": [],
   "source": [
    "# first check if the square matrix is full rank\n",
    "import numpy as np\n",
    "from numpy.linalg import matrix_rank\n",
    "\n",
    "A = np.array([[4, 3, -5], \n",
    "              [-2, -4, 5], \n",
    "              [8, 8, 0]])\n",
    "y = np.array([[2], [5], [-3]])\n",
    "\n",
    "\n",
    "x = np.linalg.solve(A, y)\n",
    "print(x)"
   ]
  },
  {
   "attachments": {},
   "cell_type": "markdown",
   "metadata": {},
   "source": [
    "We get the same results as that in the previous section when we calculated by hand. **Under the hood, the solver is actually doing a LU decomposition to get the results.**\n"
   ]
  },
  {
   "attachments": {},
   "cell_type": "markdown",
   "metadata": {},
   "source": [
    "**Method II.** Using the matrix inversion approach. `numpy.linalg.inv(A)`"
   ]
  },
  {
   "cell_type": "code",
   "execution_count": null,
   "metadata": {},
   "outputs": [],
   "source": [
    "A_inv = np.linalg.inv(A)\n",
    "\n",
    "x = np.dot(A_inv, y)\n",
    "print(x)"
   ]
  },
  {
   "cell_type": "markdown",
   "metadata": {},
   "source": [
    "We can also get the $L$ and $U$ matrices used in the LU decomposition using the scipy package. \n",
    "\n",
    "**TRY IT!** Get the $L$ and $U$ for the above matrix A. "
   ]
  },
  {
   "cell_type": "code",
   "execution_count": null,
   "metadata": {},
   "outputs": [],
   "source": [
    "from scipy.linalg import lu\n",
    "\n",
    "P, L, U = lu(A)\n",
    "print('P:\\n', P)\n",
    "print('L:\\n', L)\n",
    "print('U:\\n', U)\n",
    "print('LU:\\n',np.dot(L, U))"
   ]
  },
  {
   "attachments": {},
   "cell_type": "markdown",
   "metadata": {},
   "source": [
    "We can see the $L$ and $U$ we get are different from the ones we got in the last section by hand. You will also see there is a **permutation matrix** $P$ that returned by the *lu* function. This permutation matrix record how do we change the order of the equations for easier calculation purposes (for example, if first element in first row is zero, it can not be the pivot equation, since you can not turn the first elements in other rows to zero. Therefore, we need to switch the order of the equations to get a new pivot equation) as $PA = LU$. \n",
    "\n",
    "**TRY IT!** Multiply $P$ and $A$ and see what's the effect of the permutation matrix on $A$. "
   ]
  },
  {
   "cell_type": "code",
   "execution_count": null,
   "metadata": {},
   "outputs": [],
   "source": [
    "print(np.dot(P, A))"
   ]
  },
  {
   "cell_type": "code",
   "execution_count": null,
   "metadata": {},
   "outputs": [],
   "source": [
    "x = np.linalg.pinv(A)@y\n",
    "print(x)"
   ]
  },
  {
   "cell_type": "code",
   "execution_count": null,
   "metadata": {},
   "outputs": [],
   "source": [
    "np.linalg.pinv(A)"
   ]
  },
  {
   "cell_type": "code",
   "execution_count": null,
   "metadata": {},
   "outputs": [],
   "source": [
    "np.linalg.inv(A)"
   ]
  },
  {
   "cell_type": "code",
   "execution_count": null,
   "metadata": {},
   "outputs": [],
   "source": [
    "np.linalg.pinv(A) == np.linalg.inv(A)"
   ]
  },
  {
   "attachments": {},
   "cell_type": "markdown",
   "metadata": {},
   "source": [
    "#### **Problem 2:**\n",
    "\n",
    " Consider the following network consisting of two power supply stations denoted by $S1$ and $S2$ and five power recipient nodes denoted by $N1$ to $N5$. The nodes are connected by power lines, which are denoted by arrows, and power can flow between nodes along these lines in both directions.\n",
    "\n",
    " Let $d_{i}$ be a positive scalar denoting the power demands for node $i$, and assume that this demand must be met exactly. The capacity of the power supply stations is denoted by $S$. Power supply stations must run at their capacity. For each arrow, let $f_{j}$ be the power flow along that arrow. Negative flow implies that power is running in the opposite direction of the arrow.\n",
    " \n",
    " <img src=\"./14.01.01-problem_11.png\" alt=\"Problem 11\" style=\"width: 400px;\"/>\n",
    "\n",
    " Write a function *my_flow_calculator(S, d)*, where $S$ is a $1 \\times 2$ vector representing the capacity of each power supply station, and $d$ is a $1 \\times 5$ row vector representing the demands at each node (i.e., $d[0]$ is the demand at node 1). The output argument, $f$, should be a $1 \\times 7$ row vector denoting the flows in the network (i.e., $f[0] = f_1$ in the diagram). The flows contained in $f$ should satisfy all constraints of the system, like power generation and demands. Note that there may be more than one solution to the system of equations.\n",
    " \n",
    " The total flow into a node must equal the total flow out of the node plus the demand; that is, for each node $i, f_{\\text{inflow}} = f_{\\text{outflow}} + d_{i}$. You may assume that $\\Sigma{S_j} = \\Sigma{d_i}$."
   ]
  },
  {
   "cell_type": "code",
   "execution_count": null,
   "metadata": {},
   "outputs": [],
   "source": [
    "## Test cases for problem 2\n",
    "\n",
    "s = np.array([[10, 10]])\n",
    "d = np.array([[4, 4, 4, 4, 4]])\n",
    "\n",
    "# f = [[10.0, 4.0, -2.0, 4.5, 5.5, 2.5, 1.5]]\n",
    "f = my_flow_calculator(s, d)\n",
    "\n",
    "s = np.array([[10, 10]])\n",
    "d = np.array([[3, 4, 5, 4, 4]])\n",
    "# f = [[10.0, 5.0, -1.0, 4.5, 5.5, 2.5, 1.5]]\n",
    "f = my_flow_calculator(s, d)"
   ]
  },
  {
   "attachments": {},
   "cell_type": "markdown",
   "metadata": {},
   "source": [
    "<!--NAVIGATION-->\n",
    "< [4.4 Solutions to Systems of Linear Equations](Tien_chapter14.04-Solutions-to-Systems-of-Linear-Equations.ipynb)  | [Contents](Tien_chapter14.05-Solve-Systems-of-Linear-Equations-in-Python.ipynb)>"
   ]
  }
 ],
 "metadata": {
  "kernelspec": {
   "display_name": "Python 3.8.0 ('numerical_methods': venv)",
   "language": "python",
   "name": "python3"
  },
  "language_info": {
   "codemirror_mode": {
    "name": "ipython",
    "version": 3
   },
   "file_extension": ".py",
   "mimetype": "text/x-python",
   "name": "python",
   "nbconvert_exporter": "python",
   "pygments_lexer": "ipython3",
   "version": "3.8.0 (tags/v3.8.0:fa919fd, Oct 14 2019, 19:37:50) [MSC v.1916 64 bit (AMD64)]"
  },
  "vscode": {
   "interpreter": {
    "hash": "a7632bf4336177dcaac0f16a29bf528d1eef8e973ee46e49b304d96d25ec4172"
   }
  }
 },
 "nbformat": 4,
 "nbformat_minor": 2
}
