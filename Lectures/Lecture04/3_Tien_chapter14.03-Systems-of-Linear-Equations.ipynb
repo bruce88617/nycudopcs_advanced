{
 "cells": [
  {
   "attachments": {},
   "cell_type": "markdown",
   "metadata": {
    "button": false,
    "new_sheet": false,
    "run_control": {
     "read_only": false
    }
   },
   "source": [
    "<!--NAVIGATION-->\n",
    "< [2.2 Linear Transformations](Tien_chapter14.02-Linear-Transformations.ipynb) | [Contents](Index.ipynb) | [2.4 Solutions to Systems of Linear Equations](chapter14.04-Solutions-to-Systems-of-Linear-Equations.ipynb) >"
   ]
  },
  {
   "attachments": {},
   "cell_type": "markdown",
   "metadata": {
    "button": false,
    "new_sheet": false,
    "run_control": {
     "read_only": false
    }
   },
   "source": [
    "## **Lecture 4. Linear Algebra and Systems of Linear Equations:** \n",
    "### **4.3 System of Linear Equations** "
   ]
  },
  {
   "attachments": {},
   "cell_type": "markdown",
   "metadata": {
    "button": false,
    "new_sheet": false,
    "run_control": {
     "read_only": false
    }
   },
   "source": [
    "#### <font color=\"cyan\">**A linear equation:**</font> \n",
    "\n",
    "$$\n",
    "\\sum_{i = 1}^{n} (a_i x_i) = y,\n",
    "$$\n",
    "where $a_i$ are scalars, $x_i$ are unknown variables in $\\mathbb{R}$, and $y$ is a scalar."
   ]
  },
  {
   "attachments": {},
   "cell_type": "markdown",
   "metadata": {},
   "source": [
    "<font color=\"magenta\">**TRY IT!**</font> Determine which of the following equations is linear and which is not. \n",
    "\n",
    "For the ones that are not linear, can you manipulate them so that they are?\n",
    "\n",
    "1. $3x_1 + 4x_2 - 3 = -5x_3$\n",
    "2. $\\frac{-x_1 + x_2}{x_3} = 2$\n",
    "3. $x_1x_2 + x_3 = 5$"
   ]
  },
  {
   "attachments": {},
   "cell_type": "markdown",
   "metadata": {},
   "source": [
    "1. Equation 1 can be rearranged to be $3x_1 + 4x_2 + 5x_3= 3$, which\n",
    "clearly has the form of a linear equation. \n",
    "2. Equation 2 is not linear but can be rearranged to be $-x_1 + x_2 - 2x_3 = 0$, which is linear. \n",
    "3. Equation 3 is not linear."
   ]
  },
  {
   "attachments": {},
   "cell_type": "markdown",
   "metadata": {
    "button": false,
    "new_sheet": false,
    "run_control": {
     "read_only": false
    }
   },
   "source": [
    "#### <font color=\"cyan\">**A system of linear equations:**</font> \n",
    "is a set of linear equations that share the same variables. Consider the following system of linear equations:\n",
    "\n",
    "\\begin{aligned}\n",
    "\\begin{array}{rcrcccccrcc}\n",
    "a_{1,1} x_1 &+& a_{1,2} x_2 &+& {\\ldots}& +& a_{1,n-1} x_{n-1} &+&a_{1,n} x_n &=& y_1,\\\\\n",
    "a_{2,1} x_1 &+& a_{2,2} x_2 &+&{\\ldots}& +& a_{2,n-1} x_{n-1} &+& a_{2,n} x_n &=& y_2, \\\\\n",
    "&&&&{\\ldots} &&{\\ldots}&&&& \\\\\n",
    "a_{m-1,1}x_1 &+& a_{m-1,2}x_2&+ &{\\ldots}& +& a_{m-1,n-1} x_{n-1} &+& a_{m-1,n} x_n &=& y_{m-1},\\\\\n",
    "a_{m,1} x_1 &+& a_{m,2}x_2 &+ &{\\ldots}& +& a_{m,n-1} x_{n-1} &+& a_{m,n} x_n &=& y_{m}.\n",
    "\\end{array}\n",
    "\\end{aligned}\n",
    "\n",
    "where $a_{i,j}$ and $y_i$ are real numbers. The matrix form of a system of linear equations is $Ax = y$ where $A$ is a ${m} \\times {n}$ matrix, $A(i,j) = a_{i,j}, y$ is a vector in ${\\mathbb{R}}^m$, and $x$ is an unknown vector in ${\\mathbb{R}}^n$. \n",
    "\n",
    "#### <font color=\"cyan\">**Matrix form:**</font>\n",
    "\n",
    "$$\\begin{bmatrix}\n",
    "a_{1,1} & a_{1,2} & ... & a_{1,n}\\\\\n",
    "a_{2,1} & a_{2,2} & ... & a_{2,n}\\\\\n",
    "... & ... & ... & ... \\\\\n",
    "a_{m,1} & a_{m,2} & ... & a_{m,n}\n",
    "\\end{bmatrix}\\left[\\begin{array}{c} x_1 \\\\x_2 \\\\ ... \\\\x_n \\end{array}\\right] =\n",
    "\\left[\\begin{array}{c} y_1 \\\\y_2 \\\\ ... \\\\y_m \\end{array}\\right]$$\n"
   ]
  },
  {
   "attachments": {},
   "cell_type": "markdown",
   "metadata": {},
   "source": [
    "<font color=\"magenta\">**TRY IT!**</font> Put the following system of equations into matrix form.\n",
    "\\begin{aligned}\n",
    "4x + 3y - 5z &=& 2 \\\\\n",
    "-2x - 4y + 5z &=& 5 \\\\\n",
    "7x + 8y   &=& -3 \\\\\n",
    "x   + 2z &=& 1  \\\\\n",
    "9 + y - 6z &=& 6 \\\\\n",
    "\\end{aligned}\n",
    "\n",
    "$$\\begin{bmatrix}\n",
    "4 & 3 & -5\\\\\n",
    "-2 & -4 & 5\\\\\n",
    "7 & 8 & 0\\\\\n",
    "1 & 0 & 2\\\\\n",
    "9 & 1 & -6\n",
    "\\end{bmatrix}\\left[\\begin{array}{c} x \\\\y \\\\z \\end{array}\\right] =\n",
    "\\left[\\begin{array}{c} 2 \\\\5 \\\\-3 \\\\1 \\\\6 \\end{array}\\right]$$"
   ]
  },
  {
   "attachments": {},
   "cell_type": "markdown",
   "metadata": {
    "button": false,
    "new_sheet": false,
    "run_control": {
     "read_only": false
    }
   },
   "source": [
    "<!--NAVIGATION-->\n",
    "< [4.2 Linear Transformations](Tien_chapter14.02-Linear-Transformations.ipynb) | [Contents](Tien_chapter14.03-Systems-of-Linear-Equations.ipynb) | [4.4 Solutions to Systems of Linear Equations](Tien_chapter14.04-Solutions-to-Systems-of-Linear-Equations.ipynb) >"
   ]
  }
 ],
 "metadata": {
  "kernelspec": {
   "display_name": "Python 3.8.0 ('numerical_methods': venv)",
   "language": "python",
   "name": "python3"
  },
  "language_info": {
   "codemirror_mode": {
    "name": "ipython",
    "version": 3
   },
   "file_extension": ".py",
   "mimetype": "text/x-python",
   "name": "python",
   "nbconvert_exporter": "python",
   "pygments_lexer": "ipython3",
   "version": "3.8.0 (tags/v3.8.0:fa919fd, Oct 14 2019, 19:37:50) [MSC v.1916 64 bit (AMD64)]"
  },
  "vscode": {
   "interpreter": {
    "hash": "a7632bf4336177dcaac0f16a29bf528d1eef8e973ee46e49b304d96d25ec4172"
   }
  }
 },
 "nbformat": 4,
 "nbformat_minor": 2
}
