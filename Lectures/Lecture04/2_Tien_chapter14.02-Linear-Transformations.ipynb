{
 "cells": [
  {
   "attachments": {},
   "cell_type": "markdown",
   "metadata": {
    "button": false,
    "new_sheet": false,
    "run_control": {
     "read_only": false
    }
   },
   "source": [
    "<!--NAVIGATION-->\n",
    "< [4.1 Basics of Linear Algebra](Tien_chapter14.01-Basics-of-Linear-Algebra.ipynb) | [Contents](Tien_chapter14.02-Linear-Transformations.ipynb) | [4.3 Systems of Linear Equations](Tien_chapter14.03-Systems-of-Linear-Equations.ipynb) >"
   ]
  },
  {
   "attachments": {},
   "cell_type": "markdown",
   "metadata": {},
   "source": [
    "## **Lecture 4. Linear Algebra and Systems of Linear Equations:** \n",
    "### **4.2 Linear Transformations** "
   ]
  },
  {
   "attachments": {},
   "cell_type": "markdown",
   "metadata": {
    "button": false,
    "new_sheet": false,
    "run_control": {
     "read_only": false
    }
   },
   "source": [
    "For vectors $x$ and $y$, and scalars $a$ and $b$, it is sufficient to say that a function, $F$, is a **linear transformation** if  \n",
    "\n",
    "<br>\n",
    "\n",
    "$$\n",
    "F(ax + by) = aF(x) + bF(y).\n",
    "$$\n",
    "\n",
    "<br>\n",
    "\n",
    "<font color=\"magenta\">**TRY IT!**</font> Let $x$ be a vector and let $F(x)$ be defined by $F(x) =y= Ax$ where $A$ is a rectangular matrix of appropriate size. Show that $F(x)$ is a linear transformation."
   ]
  },
  {
   "attachments": {},
   "cell_type": "markdown",
   "metadata": {},
   "source": [
    "\n",
    "<font color=\"cyan\">**Four important subpsaces associated with $y = Ax$:**</font>\n",
    "\n",
    "\n",
    "* $x \\in \\mathcal{C}(\\mathbf{A^T}) \\subset {\\mathbb{R^{n}}}$<br>  $x$ in row space\n",
    "* $x_{null} \\in \\mathcal{N}(\\mathbf{A}) \\subset {\\mathbb{R^{n}}}$<br> $x_{null}$ in null space \n",
    "\n",
    "\n",
    "* $y \\in \\mathcal{C}(\\mathbf{A}) \\subset {\\mathbb{R^{m}}}$<br>  $y$ in column space\n",
    "* $y_{leftnull} \\in \\mathcal{N}(\\mathbf{A^T}) \\subset {\\mathbb{R^{m}}}$<br> $y_{leftnull}$ in left null space "
   ]
  },
  {
   "attachments": {},
   "cell_type": "markdown",
   "metadata": {},
   "source": [
    "<font color=\"magenta\">**TRY IT!**</font><br> Let $A = [[1, 0, 0], [0, 1, 0], [0, 0, 0]]$ and let the domain of $A$ be ${\\mathbb{R}}^3$. Characterize the range (column space) and nullspace of $A$.\n",
    "  \n",
    "Let $v = [x,y,z]$ be a vector in ${\\mathbb{R}}^3$. Then $u = Av$ is the vector $u = [x,y,0]$. Since $x,y\\in {\\mathbb{R}}$, the range of $A$ is the $x$-$y$ plane at $z = 0$.\n",
    "\n",
    "Let $v = [0,0,z]$ for $z\\in {\\mathbb{R}}$. Then $u = Av$ is the vector $u = [0, 0, 0]$. Therefore, the nullspace of $A$ is the $z$-axis (i.e., the set of vectors $[0,0,z]$ $z\\in {\\mathbb{R}}$).\n",
    "\n",
    "Therefore, this linear transformation \"flattens\" any $z$-component from a vector."
   ]
  },
  {
   "cell_type": "code",
   "execution_count": 2,
   "metadata": {},
   "outputs": [
    {
     "name": "stdout",
     "output_type": "stream",
     "text": [
      "matrix_shape: (3, 3)\n",
      "\n",
      "matrix_rank: 2\n",
      "\n",
      "N(A) is:\n",
      " [[0.]\n",
      " [0.]\n",
      " [1.]]\n"
     ]
    }
   ],
   "source": [
    "\"\"\"\n",
    "Example 4.14:\n",
    "N(A), Ax = 0. Note the inner matrix dimensions must match np.dot(A, x) \n",
    "\"\"\"\n",
    "import numpy as np\n",
    "from numpy.linalg import matrix_rank\n",
    "from scipy.linalg import null_space\n",
    "\n",
    "A = np.array([[1, 0, 0], [0, 1, 0], [0, 0, 0]])\n",
    "NS = null_space(A)\n",
    "NS*np.sign(NS[0,0]) #remove the sign ambiguity of the vector\n",
    "\n",
    "print(\"matrix_shape:\", A.shape)\n",
    "print(\"\")\n",
    "print(\"matrix_rank:\", matrix_rank(A))\n",
    "print(\"\")\n",
    "print(\"N(A) is:\\n\", NS)\n",
    "\n",
    "# scipy.linalg.null_space\n",
    "# https://docs.scipy.org/doc/scipy/reference/generated/scipy.linalg.null_space.html "
   ]
  },
  {
   "attachments": {},
   "cell_type": "markdown",
   "metadata": {
    "button": false,
    "new_sheet": false,
    "run_control": {
     "read_only": false
    }
   },
   "source": [
    "<!--NAVIGATION-->\n",
    "< [4.1 Basics of Linear Algebra](Tien_chapter14.01-Basics-of-Linear-Algebra.ipynb) | [Contents](Tien_chapter14.02-Linear-Transformations.ipynb) | [4.3 Systems of Linear Equations](Tien_chapter14.03-Systems-of-Linear-Equations.ipynb) >"
   ]
  }
 ],
 "metadata": {
  "kernelspec": {
   "display_name": "Python 3.8.0 ('numerical_methods': venv)",
   "language": "python",
   "name": "python3"
  },
  "language_info": {
   "codemirror_mode": {
    "name": "ipython",
    "version": 3
   },
   "file_extension": ".py",
   "mimetype": "text/x-python",
   "name": "python",
   "nbconvert_exporter": "python",
   "pygments_lexer": "ipython3",
   "version": "3.8.0 (tags/v3.8.0:fa919fd, Oct 14 2019, 19:37:50) [MSC v.1916 64 bit (AMD64)]"
  },
  "vscode": {
   "interpreter": {
    "hash": "a7632bf4336177dcaac0f16a29bf528d1eef8e973ee46e49b304d96d25ec4172"
   }
  }
 },
 "nbformat": 4,
 "nbformat_minor": 2
}
