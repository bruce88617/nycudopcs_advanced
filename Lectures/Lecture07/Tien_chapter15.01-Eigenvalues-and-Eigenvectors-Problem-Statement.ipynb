{
 "cells": [
  {
   "cell_type": "markdown",
   "metadata": {},
   "source": [
    "## **Lecture 5. EigenValues and Eigenvectors:** "
   ]
  },
  {
   "cell_type": "markdown",
   "metadata": {
    "button": false,
    "new_sheet": false,
    "run_control": {
     "read_only": false
    }
   },
   "source": [
    "### **5.1 Eigenvalues and Eigenvectors Problem Statement**"
   ]
  },
  {
   "cell_type": "markdown",
   "metadata": {
    "button": false,
    "new_sheet": false,
    "run_control": {
     "read_only": false
    }
   },
   "source": [
    "#### <font color=\"cyan\">**Eigenvalues and eigenvectors**</font> \n",
    "\n",
    "We learned from last chapter that matrix $A$ apply to column vector $x$, that is $Ax$, is a linear transformation of $x$. There is a special transform in the following form: \n",
    "\n",
    "$$Ax = \\lambda{x}$$\n",
    "\n",
    "Where $A$ is $n\\times{n}$ matrix, $x$ is $n\\times{1}$ column vector ($x\\neq{0}$), and $\\lambda$ is some scalar. \n",
    "\n",
    "Any $\\lambda$ that satisfies the above equation is known as an **eigenvalue** of the matrix $A$, while the associated vector $x$ is called an **eigenvector** corresponding to $\\lambda$. \n",
    "\n",
    "\n",
    "<font color=\"magenta\">**TRY IT!** </font> Plot the vector $x$ = [[1], [1]] and the vector $b = Ax$, where $A$ = [[2, 0], [0, 1]]"
   ]
  },
  {
   "cell_type": "code",
   "execution_count": null,
   "metadata": {
    "scrolled": true
   },
   "outputs": [],
   "source": [
    "import matplotlib.pyplot as plt\n",
    "plt.style.available"
   ]
  },
  {
   "cell_type": "code",
   "execution_count": null,
   "metadata": {
    "button": false,
    "new_sheet": false,
    "run_control": {
     "read_only": false
    },
    "scrolled": true
   },
   "outputs": [],
   "source": [
    "import numpy as np\n",
    "import matplotlib.pyplot as plt\n",
    "plt.style.use('fivethirtyeight')\n",
    "\n",
    "def plot_vect(x, b, xlim, ylim):\n",
    "    \"\"\"\n",
    "    function to plot two vectors, \n",
    "    x - the original vector\n",
    "    b - the transformed vector\n",
    "    xlim - the limit for x\n",
    "    ylim - the limit for y\n",
    "    \"\"\"\n",
    "    plt.figure(figsize = (6, 6))\n",
    "    plt.quiver(0, 0, x[0], x[1], color='k', angles='xy', scale_units='xy', scale=1, label = 'Original vector')\n",
    "    plt.quiver(0, 0, b[0], b[1], color='g', angles='xy', scale_units='xy', scale=1, label = 'Transformed vector')\n",
    "    plt.xlim(xlim)\n",
    "    plt.ylim(ylim)\n",
    "    plt.xlabel('X')\n",
    "    plt.ylabel('Y')\n",
    "    plt.legend()\n",
    "    plt.show()"
   ]
  },
  {
   "cell_type": "code",
   "execution_count": null,
   "metadata": {
    "button": false,
    "new_sheet": false,
    "run_control": {
     "read_only": false
    },
    "scrolled": true
   },
   "outputs": [],
   "source": [
    "\"\"\"\n",
    "Example 5.1a: Eigenvealues and Eigenvectors\n",
    "Eigenvealues      2,      1\n",
    "Eigenvectors [1, 0], [0, 1]\n",
    "As iteration increases, the transformed vector will approach to largest eigenvectors\n",
    "\"\"\"\n",
    "A = np.array([[2, 0],[0, 1]])\n",
    "x = np.array([[1], [1]])\n",
    "b = np.dot(A, x)\n",
    "\n",
    "plot_vect(x, b, (0, 6), (0, 6))\n",
    "print(b)"
   ]
  },
  {
   "cell_type": "code",
   "execution_count": null,
   "metadata": {
    "scrolled": true
   },
   "outputs": [],
   "source": [
    "A = np.array([[2, 0],[0, 1]])\n",
    "x = np.array([[2], [1]])\n",
    "b = np.dot(A, x)\n",
    "\n",
    "plot_vect(x, b, (0, 6), (0, 6))\n",
    "print(b)"
   ]
  },
  {
   "cell_type": "code",
   "execution_count": null,
   "metadata": {
    "button": false,
    "new_sheet": false,
    "run_control": {
     "read_only": false
    },
    "scrolled": true
   },
   "outputs": [],
   "source": [
    "x = np.array([[1], [0]])\n",
    "b = np.dot(A, x)\n",
    "\n",
    "plot_vect(x, b, (-1, 3), (-1, 1))"
   ]
  },
  {
   "cell_type": "markdown",
   "metadata": {
    "button": false,
    "new_sheet": false,
    "run_control": {
     "read_only": false
    }
   },
   "source": [
    "\n",
    "$$ Ax = 2x$$\n",
    "\n",
    "The direction of the vector doesn't change at all (no rotation). \n",
    "You can also try that [[0], [1]] is another eigenvector, try to verify by yourself. "
   ]
  },
  {
   "cell_type": "code",
   "execution_count": null,
   "metadata": {},
   "outputs": [],
   "source": [
    "\"\"\"\n",
    "Example 5.1b: Eigenvealues and Eigenvectors\n",
    "Eigenvealues      2,      1\n",
    "Eigenvectors [1, 0], [0, 1]\n",
    "As iteration increases, the transformed vector will approach to largest eigenvectors\n",
    "initial vector x = [0.1, 1]? Power Method\n",
    "\"\"\"\n",
    "A = np.array([[2, 0],[0, 1]])\n",
    "x = np.array([[0.1], [1]])\n",
    "b = np.dot(A, x)\n",
    "\n",
    "plot_vect(x, b, (0, 6), (0, 6))\n",
    "print(b)\n",
    "\n",
    "# only find the maximum eigenvalue and corresponding eigenvector \n"
   ]
  },
  {
   "attachments": {},
   "cell_type": "markdown",
   "metadata": {
    "button": false,
    "new_sheet": false,
    "run_control": {
     "read_only": false
    }
   },
   "source": [
    "#### <font color=\"cyan\">**The Characteristic Equation**</font>\n",
    "\n",
    "In order to get the eigenvalues and eigenvectors, from $Ax=\\lambda{x}$, we can get the following form:\n",
    "\n",
    "$$(A-\\lambda{I})x=0$$\n",
    "\n",
    "Where $I$ is the identify matrix with the same dimensions as $A$. If matrix $A-\\lambda{I}$ has an inverse, then multiply both sides with $(A-\\lambda{I})^{-1}$, we get a trivial solution $x=0$. Therefore, when $A-\\lambda{I}$ is singular (no inverse exist), we have a nontrivial solution, which means that the determinant is zero:\n",
    "\n",
    "$$det(A-\\lambda{I})=0$$\n",
    "\n",
    "this equation is called **characteristic equation**, which will lead to a polynomial equation for $\\lambda$, then we can solve for the eigenvalues. Let's look at one example. \n",
    "\n",
    "<font color=\"magenta\">**TRY IT!**</font> Get the eigenvalues for matrix [[0, 2], [2, 3]]\n",
    "\n",
    "The characteristic equation gives us \n",
    "\n",
    "$$\n",
    "\\begin{vmatrix}\n",
    "0-\\lambda & 2 \\\\ \n",
    "2 & 3-\\lambda\n",
    "\\end{vmatrix}\n",
    "=0\n",
    "$$\n",
    "\n",
    "Therefore, we have \n",
    "\n",
    "$$-\\lambda(3-\\lambda)-4 = 0 \\Rightarrow \\lambda^2-3\\lambda-4=0$$\n",
    "\n",
    "We get two eigenvalues:\n",
    "\n",
    "$$\\lambda_1 = 4, \\lambda_2 = -1$$\n",
    "\n",
    "**TRY IT!** Get the eigenvectors for the above two eigenvalues. \n",
    "\n",
    "Let's get the first eigenvector when $\\lambda_1 = 4$, we can simply insert it back to $A-\\lambda{I}=0$, where we have:\n",
    "\n",
    "$$\n",
    "\\begin{bmatrix}\n",
    "-4 & 2 \\\\\n",
    "2 & -1 \\\\\n",
    "\\end{bmatrix}\n",
    "\\begin{bmatrix}\n",
    "x_1\\\\x_2\\\\\n",
    "\\end{bmatrix}\n",
    "=\\begin{bmatrix}\n",
    "0\\\\0\\\\\n",
    "\\end{bmatrix}\n",
    "$$\n",
    "\n",
    "Therefore, we have two equations $-4x_1+2x_2=0$ and $2x_1-x_2=0$, both of them indicate that $x_2=2x_1$. Therefore, we can have the first eigenvector as \n",
    "\n",
    "$$x_1 = k_1\\begin{bmatrix}\n",
    "1\\\\2\\\\\n",
    "\\end{bmatrix}$$\n",
    "\n",
    "$k_1$ is a scalar vector ($k_1 \\neq 0$), as long as we have the ratio between $x_2$ and $x_1$ as 2, it will be an eigenvector. We can verify the vector [[1], [2]] is an eigenvector by inserting it back:\n",
    "\n",
    "$$\n",
    "\\begin{bmatrix}\n",
    "0 & 2 \\\\\n",
    "2 & 3 \\\\\n",
    "\\end{bmatrix}\n",
    "\\begin{bmatrix}\n",
    "1\\\\2\\\\\n",
    "\\end{bmatrix}\n",
    "=\\begin{bmatrix}\n",
    "4\\\\8\\\\\n",
    "\\end{bmatrix}\n",
    "=4\\begin{bmatrix}\n",
    "1\\\\2\\\\\n",
    "\\end{bmatrix}\n",
    "$$\n",
    "\n",
    "By inserting $\\lambda_2=-1$ similarly as above, we can get the other eigenvector as the following, where $k_2 \\neq 0$:\n",
    "$$x_2 = k_2\\begin{bmatrix}\n",
    "-2\\\\1\\\\\n",
    "\\end{bmatrix}$$\n",
    "\n",
    "From the above example, we can see how can we get the eigenvalues and eigenvectors from a matrix $A$, and the chosen of the eigenvectors for a system is not unique. But things will become really complicated when you have a larger matrix $A$ when you try to solve the $n^{th}$ order polynomial characteristic equation. \n",
    "\n",
    "Luckily, there are many different numerical methods have been developed to solve the eigenvalue problems for larger matrices. \n",
    "\n",
    "We will introduce <font color=\"cyan\">(1) Power method</font> and <font color=\"cyan\">(2) QR method </font>in the next two sections. "
   ]
  },
  {
   "cell_type": "markdown",
   "metadata": {
    "button": false,
    "new_sheet": false,
    "run_control": {
     "read_only": false
    }
   },
   "source": [
    "<!--NAVIGATION-->\n",
    "< [Contents](Tien_chapter15.01-Eigenvalues-and-Eigenvectors-Problem-Statement.ipynb) | [5.2 The Power Method](Tien_chapter15.02-The-Power-Method.ipynb)   >"
   ]
  }
 ],
 "metadata": {
  "kernelspec": {
   "display_name": "Python 3",
   "language": "python",
   "name": "python3"
  },
  "language_info": {
   "codemirror_mode": {
    "name": "ipython",
    "version": 3
   },
   "file_extension": ".py",
   "mimetype": "text/x-python",
   "name": "python",
   "nbconvert_exporter": "python",
   "pygments_lexer": "ipython3",
   "version": "3.8.0"
  },
  "varInspector": {
   "cols": {
    "lenName": 16,
    "lenType": 16,
    "lenVar": 40
   },
   "kernels_config": {
    "python": {
     "delete_cmd_postfix": "",
     "delete_cmd_prefix": "del ",
     "library": "var_list.py",
     "varRefreshCmd": "print(var_dic_list())"
    },
    "r": {
     "delete_cmd_postfix": ") ",
     "delete_cmd_prefix": "rm(",
     "library": "var_list.r",
     "varRefreshCmd": "cat(var_dic_list()) "
    }
   },
   "types_to_exclude": [
    "module",
    "function",
    "builtin_function_or_method",
    "instance",
    "_Feature"
   ],
   "window_display": false
  },
  "vscode": {
   "interpreter": {
    "hash": "a7632bf4336177dcaac0f16a29bf528d1eef8e973ee46e49b304d96d25ec4172"
   }
  }
 },
 "nbformat": 4,
 "nbformat_minor": 2
}
