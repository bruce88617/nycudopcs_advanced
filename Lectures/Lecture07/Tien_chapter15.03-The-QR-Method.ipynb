{
 "cells": [
  {
   "attachments": {},
   "cell_type": "markdown",
   "metadata": {
    "button": false,
    "new_sheet": false,
    "run_control": {
     "read_only": false
    }
   },
   "source": [
    "<!--NAVIGATION-->\n",
    "< [5.2 The Power Method](Tien_chapter15.02-The-Power-Method.ipynb) | [Contents](Tien_chapter15.03-The-QR-Method.ipynb) | [5.4 Eigenvalues and Eigenvectors in Python](Tien_chapter15.04-Eigenvalues-and-Eigenvectors-in-Python.ipynb)  >"
   ]
  },
  {
   "attachments": {},
   "cell_type": "markdown",
   "metadata": {},
   "source": [
    "### **5.3 The QR Method (Iteration)**\n",
    "\n",
    "The QR method is a preferred iterative method to find all the eigenvalues of a matrix (but not the eigenvectors at the same time). The idea is based on the following two concepts."
   ]
  },
  {
   "attachments": {},
   "cell_type": "markdown",
   "metadata": {},
   "source": [
    "\n",
    "1. Similar matrices will have the same eigenvalues and associated eigenvectors. Two square matrices $A$ and $B$ are similar if:\n",
    "\n",
    "$$ A = C^{-1}BC $$\n",
    "\n",
    "&emsp; where $C$ is an invertible matrix. "
   ]
  },
  {
   "attachments": {},
   "cell_type": "markdown",
   "metadata": {},
   "source": [
    "2. The QR method is a way to decompose a matrix into two matrices $Q$ and $R$, where $Q$ is an orthogonal matrix, and $R$ is an upper triangular matrix. \n",
    "\n",
    "&emsp; An orthogonal matrix has the features: $Q^{-1} = Q^T$, which means $Q^{-1}Q=Q^TQ=I$. "
   ]
  },
  {
   "attachments": {},
   "cell_type": "markdown",
   "metadata": {
    "button": false,
    "new_sheet": false,
    "run_control": {
     "read_only": false
    }
   },
   "source": [
    "\n",
    "How do we link these two concepts to find the eigenvalues? Say we\n",
    "have a matrix $A_0$ whose eigenvalues must be determined. At the $k$-th step (starting with $k = 0$), we can perform the QR decomposition and get $A_k = Q_kR_k$, where $Q_k$ is an orthogonal matrix and $R_k$ is an upper triangular matrix. We then form  $A_{k+1} = R_kQ_k$, which we note that \n",
    "\n",
    "$$A_{k+1} = R_kQ_k = Q^{-1}_kQ_kR_kQ_k = Q^{-1}_kA_kQ_k$$\n",
    "therefore, all the $A_k$ are similar, as we discussed above they all have the same eigenvalues. \n",
    "\n",
    "As the iteration goes, we will eventually converge to an upper triangular matrix form:\n",
    "\n",
    "$$ A_k = R_kQ_k = \\begin{bmatrix}\n",
    "\\lambda_1 & X & \\dots & X\\\\\n",
    "0 & \\lambda_2 & \\dots & X\\\\\n",
    "& &\\dots &\\\\\n",
    "0 & 0 & \\dots & \\lambda_n\\\\\n",
    "\\end{bmatrix}$$\n",
    "\n",
    "where the diagonal values are the eigenvalues of the matrix. In each iteration of the QR method, factoring a matrix into an orthogonal and an upper triangular matrix can be done by using a special matrix called **Householder matrix**. We will not go into the mathematical details how you get the $Q$ and $R$ from the matrix, instead, we will use the Python function to obtain the two matrices directly.\n",
    "\n",
    "**TRY IT!** Use the *qr* function in numpy.linalg to decompose matrix $A = \\begin{bmatrix}\n",
    "0 & 2\\\\\n",
    "2 & 3\\\\\n",
    "\\end{bmatrix}$. And verify the results. "
   ]
  },
  {
   "cell_type": "code",
   "execution_count": 1,
   "metadata": {
    "button": false,
    "collapsed": true,
    "new_sheet": false,
    "run_control": {
     "read_only": false
    }
   },
   "outputs": [],
   "source": [
    "\"\"\"\n",
    "Example 5.4a: Using QR Decomposition \n",
    "\"\"\"\n",
    "\n",
    "import numpy as np\n",
    "from numpy.linalg import qr  # By HouseHolder matrix (more stable than Gram-Schmidt)"
   ]
  },
  {
   "cell_type": "code",
   "execution_count": 8,
   "metadata": {
    "button": false,
    "new_sheet": false,
    "run_control": {
     "read_only": false
    }
   },
   "outputs": [
    {
     "name": "stdout",
     "output_type": "stream",
     "text": [
      "Q: \n",
      "[[ 0. -1.]\n",
      " [-1.  0.]]\n",
      "\n",
      "R: \n",
      "[[-2. -3.]\n",
      " [ 0. -2.]]\n",
      "\n",
      "QR: \n",
      "[[0. 2.]\n",
      " [2. 3.]]\n",
      "\n",
      "True\n"
     ]
    }
   ],
   "source": [
    "A = np.array([[0, 2], \n",
    "              [2, 3]])\n",
    "\n",
    "Q, R = qr(A)\n",
    "\n",
    "print(f\"Q: \\n{Q}\\n\")\n",
    "print(f\"R: \\n{R}\\n\")\n",
    "\n",
    "B = np.dot(Q, R)\n",
    "print(f\"QR: \\n{B}\\n\")\n",
    "\n",
    "print(np.allclose(A, B))"
   ]
  },
  {
   "cell_type": "markdown",
   "metadata": {
    "button": false,
    "new_sheet": false,
    "run_control": {
     "read_only": false
    }
   },
   "source": [
    "**TRY IT!** Use the QR method to get the eigenvalues of matrix $A = \\begin{bmatrix}\n",
    "0 & 2\\\\\n",
    "2 & 3\\\\\n",
    "\\end{bmatrix}$. Do 20 iterations, and print out the 1st, 5th, 10th, and 20th iteration."
   ]
  },
  {
   "cell_type": "code",
   "execution_count": 9,
   "metadata": {
    "button": false,
    "new_sheet": false,
    "run_control": {
     "read_only": false
    }
   },
   "outputs": [
    {
     "name": "stdout",
     "output_type": "stream",
     "text": [
      "Iteration 1:\n",
      "[[3. 2.]\n",
      " [2. 0.]]\n",
      "Iteration 5:\n",
      "[[ 3.99998093  0.00976559]\n",
      " [ 0.00976559 -0.99998093]]\n",
      "Iteration 10:\n",
      "[[ 4.00000000e+00  9.53674316e-06]\n",
      " [ 9.53674316e-06 -1.00000000e+00]]\n",
      "Iteration 20:\n",
      "[[ 4.00000000e+00  9.09484250e-12]\n",
      " [ 9.09494702e-12 -1.00000000e+00]]\n"
     ]
    }
   ],
   "source": [
    "\"\"\"\n",
    "Example 5.4b: Using QR Decomposition to iteratvely find all eigenvalues\n",
    "Note the diagonal part of the A after interation eigenvalues: (4, -1)\n",
    "\"\"\"\n",
    "\n",
    "A = np.array([[0, 2], \n",
    "              [2, 3]])\n",
    "p = [1, 5, 10, 20]\n",
    "for i in range(20):\n",
    "    Q, R = qr(A)\n",
    "    A = np.dot(R, Q)\n",
    "    if i+1 in p:\n",
    "        print(f'Iteration {i+1}:')\n",
    "        print(A)"
   ]
  },
  {
   "cell_type": "code",
   "execution_count": 10,
   "metadata": {},
   "outputs": [
    {
     "name": "stdout",
     "output_type": "stream",
     "text": [
      "[[-0.75  0.5 ]\n",
      " [ 0.5   0.  ]]\n",
      "Iteration 1:\n",
      "[[-0.98076923  0.15384615]\n",
      " [ 0.15384615  0.23076923]]\n",
      "Iteration 5:\n",
      "[[-9.99999702e-01  6.10351417e-04]\n",
      " [ 6.10351417e-04  2.49999702e-01]]\n",
      "Iteration 10:\n",
      "[[-1.00000000e+00  5.96046448e-07]\n",
      " [ 5.96046448e-07  2.50000000e-01]]\n",
      "Iteration 20:\n",
      "[[-1.00000000e+00  5.68460318e-13]\n",
      " [ 5.68434189e-13  2.50000000e-01]]\n"
     ]
    }
   ],
   "source": [
    "\"\"\"\n",
    "Example 5.4c: Using QR Decomposition to iteratvely find all eigenvalues\n",
    "Note the diagonal part of the A_inv = B after interation eigenvalues: (-1, .25)\n",
    "\"\"\"\n",
    "\n",
    "B = np.array([[-.75, .5], [.5, 0]])\n",
    "print(B)\n",
    "\n",
    "p = [1, 5, 10, 20]\n",
    "for i in range(20):\n",
    "    Q, R = qr(B)\n",
    "    B = np.dot(R, Q)\n",
    "    if i+1 in p:\n",
    "        print(f'Iteration {i+1}:')\n",
    "        print(B)"
   ]
  },
  {
   "cell_type": "markdown",
   "metadata": {
    "button": false,
    "new_sheet": false,
    "run_control": {
     "read_only": false
    }
   },
   "source": [
    "We can see after the 5th iteration, the eigenvalues are converge to the correct ones. \n",
    "\n",
    "In next section, we will take a look how to get the eigenvalues and eigenvectors in Python easily using the built-in function. "
   ]
  }
 ],
 "metadata": {
  "kernelspec": {
   "display_name": "numerical_methods",
   "language": "python",
   "name": "python3"
  },
  "language_info": {
   "codemirror_mode": {
    "name": "ipython",
    "version": 3
   },
   "file_extension": ".py",
   "mimetype": "text/x-python",
   "name": "python",
   "nbconvert_exporter": "python",
   "pygments_lexer": "ipython3",
   "version": "3.8.0"
  },
  "vscode": {
   "interpreter": {
    "hash": "a7632bf4336177dcaac0f16a29bf528d1eef8e973ee46e49b304d96d25ec4172"
   }
  }
 },
 "nbformat": 4,
 "nbformat_minor": 2
}
