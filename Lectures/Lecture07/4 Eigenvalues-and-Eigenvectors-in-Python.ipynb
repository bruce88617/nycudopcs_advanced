{
 "cells": [
  {
   "attachments": {},
   "cell_type": "markdown",
   "metadata": {
    "button": false,
    "new_sheet": false,
    "run_control": {
     "read_only": false
    }
   },
   "source": [
    "### **7.4 Eigenvalues and Eigenvectors in Python**\n",
    "\n",
    "Though the methods we introduced so far look complicated, the actually calculation of the eigenvalues and eigenvectors in Python is fairly easy. \n",
    "\n",
    "The main <font color=\"cyan\">built-in function</font> in Python to solve the eigenvalue/eigenvector problem for a square array is the *eig* function in numpy.linalg. Let's see how we can use it. \n",
    "\n",
    "**TRY IT** Calculate the eigenvalues and eigenvectors for matrix $A$: \n",
    "           \n",
    "\\begin{aligned}\n",
    "8x_1 + 2x_2 + 3x_3   &=& 14 \\\\\n",
    "2x_1 - 8x_2 + 5x_3  &=& 5 \\\\\n",
    "3x_1 + 5x_2 + 10x_3 & =& -8 \\\\\n",
    "\\end{aligned}. "
   ]
  },
  {
   "cell_type": "code",
   "execution_count": null,
   "metadata": {
    "button": false,
    "collapsed": true,
    "new_sheet": false,
    "run_control": {
     "read_only": false
    }
   },
   "outputs": [
    {
     "name": "stdout",
     "output_type": "stream",
     "text": [
      "E-value: \n",
      "[13.4487556   5.93016383 -9.37891943]\n",
      "\n",
      "E-vector: \n",
      "[[ 0.53416162  0.84246306  0.07019516]\n",
      " [ 0.23884925 -0.07074704 -0.96847607]\n",
      " [ 0.81093921 -0.53408881  0.23901203]]\n",
      "\n"
     ]
    }
   ],
   "source": [
    "\"\"\"\n",
    "Example 7.4.1: Build-in function to solve eigenvalues, eigenvectors \n",
    "\"\"\"\n",
    "import numpy as np\n",
    "from numpy.linalg import eig, cond\n",
    "\n",
    "A = np.array([[8, 2, 3], [2, -8, 5], [3, 5, 10]], dtype=float)\n",
    "w, v = eig(A)\n",
    "print(f\"E-value: \\n{w}\\n\")\n",
    "print(f\"E-vector: \\n{v}\\n\")\n"
   ]
  },
  {
   "cell_type": "code",
   "execution_count": null,
   "metadata": {
    "button": false,
    "new_sheet": false,
    "run_control": {
     "read_only": false
    }
   },
   "outputs": [
    {
     "name": "stdout",
     "output_type": "stream",
     "text": [
      "E-value: \n",
      "[-1.  4.]\n",
      "\n",
      "E-vector: \n",
      "[[ 0.89442719  0.4472136 ]\n",
      " [-0.4472136   0.89442719]]\n",
      "\n",
      "4.000000000000002\n"
     ]
    },
    {
     "data": {
      "text/plain": [
       "True"
      ]
     },
     "execution_count": 5,
     "metadata": {},
     "output_type": "execute_result"
    }
   ],
   "source": [
    "A = np.array([[0, 2], \n",
    "              [2, 3]])\n",
    "w, v = eig(A) \n",
    "v = v*np.sign(v[0,0])     # remove the sign of ambiguity\n",
    "print(f\"E-value: \\n{w}\\n\")\n",
    "print(f\"E-vector: \\n{v}\\n\")"
   ]
  }
 ],
 "metadata": {
  "kernelspec": {
   "display_name": "numerical_methods_local",
   "language": "python",
   "name": "python3"
  },
  "language_info": {
   "codemirror_mode": {
    "name": "ipython",
    "version": 3
   },
   "file_extension": ".py",
   "mimetype": "text/x-python",
   "name": "python",
   "nbconvert_exporter": "python",
   "pygments_lexer": "ipython3",
   "version": "3.9.0"
  }
 },
 "nbformat": 4,
 "nbformat_minor": 2
}
