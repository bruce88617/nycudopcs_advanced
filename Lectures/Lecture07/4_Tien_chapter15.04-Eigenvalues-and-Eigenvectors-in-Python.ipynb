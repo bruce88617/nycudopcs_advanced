{
 "cells": [
  {
   "attachments": {},
   "cell_type": "markdown",
   "metadata": {
    "button": false,
    "new_sheet": false,
    "run_control": {
     "read_only": false
    }
   },
   "source": [
    "### **7.4 Eigenvalues and Eigenvectors in Python**\n",
    "\n",
    "Though the methods we introduced so far look complicated, the actually calculation of the eigenvalues and eigenvectors in Python is fairly easy. \n",
    "\n",
    "The main <font color=\"cyan\">built-in function</font> in Python to solve the eigenvalue/eigenvector problem for a square array is the *eig* function in numpy.linalg. Let's see how we can use it. \n",
    "\n",
    "**TRY IT** Calculate the eigenvalues and eigenvectors for matrix $A = \\begin{bmatrix}\n",
    "0 & 2\\\\\n",
    "2 & 3\\\\\n",
    "\\end{bmatrix}$. "
   ]
  },
  {
   "cell_type": "code",
   "execution_count": 1,
   "metadata": {
    "button": false,
    "collapsed": true,
    "new_sheet": false,
    "run_control": {
     "read_only": false
    }
   },
   "outputs": [],
   "source": [
    "\"\"\"\n",
    "Example 7.4.1: Build-in function to solve eigenvalues, eigenvectors \n",
    "\"\"\"\n",
    "\n",
    "import numpy as np\n",
    "from numpy.linalg import eig, cond"
   ]
  },
  {
   "cell_type": "code",
   "execution_count": 27,
   "metadata": {
    "button": false,
    "new_sheet": false,
    "run_control": {
     "read_only": false
    }
   },
   "outputs": [
    {
     "name": "stdout",
     "output_type": "stream",
     "text": [
      "E-value: [-1.  4.]\n",
      "\n",
      "E-vector: \n",
      "[[ 0.89442719  0.4472136 ]\n",
      " [-0.4472136   0.89442719]]\n",
      "\n",
      "4.000000000000002\n"
     ]
    },
    {
     "data": {
      "text/plain": [
       "True"
      ]
     },
     "execution_count": 27,
     "metadata": {},
     "output_type": "execute_result"
    }
   ],
   "source": [
    "A = np.array([[0, 2], \n",
    "              [2, 3]])\n",
    "w, v = eig(A) \n",
    "v = v*np.sign(v[0,0])     # remove the sign of ambiguity\n",
    "print(f\"E-value: {w}\\n\")\n",
    "print(f\"E-vector: \\n{v}\\n\")\n",
    "\n",
    "print(cond(A))\n",
    "np.allclose(abs(w[1])/abs(w[0]), cond(A))"
   ]
  },
  {
   "cell_type": "code",
   "execution_count": 2,
   "metadata": {
    "button": false,
    "new_sheet": false,
    "run_control": {
     "read_only": false
    }
   },
   "outputs": [
    {
     "name": "stdout",
     "output_type": "stream",
     "text": [
      "E-value: [0.0049875 2.0050125]\n",
      "\n",
      "E-vector: \n",
      "[[ 0.70887232  0.70533682]\n",
      " [-0.70533682  0.70887232]]\n",
      "\n",
      "402.0075124842952\n"
     ]
    },
    {
     "data": {
      "text/plain": [
       "True"
      ]
     },
     "execution_count": 2,
     "metadata": {},
     "output_type": "execute_result"
    }
   ],
   "source": [
    "\"\"\"\n",
    "Example 7.4.2: Build-in function to solve eigenvalues, eigenvectors \n",
    "check other matrix (singular)\n",
    "\"\"\"\n",
    "A = np.array([[1, 1], \n",
    "              [1, 1.01]])\n",
    "w, v = eig(A)\n",
    "v = v*np.sign(v[0,0])     # remove the sign of ambiguity\n",
    "print(f\"E-value: {w}\\n\")\n",
    "print(f\"E-vector: \\n{v}\\n\")\n",
    "\n",
    "print(cond(A))\n",
    "np.allclose(abs(w[1])/abs(w[0]), cond(A))\n",
    "\n"
   ]
  },
  {
   "cell_type": "markdown",
   "metadata": {
    "button": false,
    "new_sheet": false,
    "run_control": {
     "read_only": false
    }
   },
   "source": [
    "**TRY IT!** Compute the eigenvalues and eigenvectors for matrix $A = \\begin{bmatrix}\n",
    "2 & 2 & 4\\\\\n",
    "1 & 3 & 5\\\\\n",
    "2 & 3 & 4\\\\\n",
    "\\end{bmatrix}$."
   ]
  },
  {
   "cell_type": "code",
   "execution_count": 3,
   "metadata": {
    "button": false,
    "new_sheet": false,
    "run_control": {
     "read_only": false
    },
    "scrolled": true
   },
   "outputs": [
    {
     "name": "stdout",
     "output_type": "stream",
     "text": [
      "E-value: [ 8.80916362  0.92620912 -0.73537273]\n",
      "\n",
      "E-vector: \n",
      "[[ 0.52799324  0.77557092  0.36272811]\n",
      " [ 0.604391   -0.62277013  0.7103262 ]\n",
      " [ 0.59660259  0.10318482 -0.60321224]]\n",
      "\n",
      "15.322938286261397\n"
     ]
    }
   ],
   "source": [
    "\"\"\"\n",
    "Example 7.4.3: Build-in function to solve eigenvalues, eigenvectors with 3 by 3 matrix\n",
    "True condition number sigma_max/sigma_min\n",
    "\"\"\"\n",
    "\n",
    "\n",
    "A = np.array([[2, 2, 4], \n",
    "              [1, 3, 5],\n",
    "              [2, 3, 4]])\n",
    "w, v = eig(A) \n",
    "v = v*np.sign(v[0,0])     # remove the sign of ambiguity\n",
    "print(f\"E-value: {w}\\n\")\n",
    "print(f\"E-vector: \\n{v}\\n\")\n",
    "\n",
    "print(cond(A))"
   ]
  },
  {
   "attachments": {},
   "cell_type": "markdown",
   "metadata": {},
   "source": [
    "### **7.5 Singular Value Decomposition (SVD) in Python**"
   ]
  },
  {
   "cell_type": "code",
   "execution_count": 10,
   "metadata": {},
   "outputs": [
    {
     "name": "stdout",
     "output_type": "stream",
     "text": [
      "U = \n",
      "[[-0.52157957  0.51176432 -0.68268004]\n",
      " [-0.62993653 -0.7706383  -0.09641875]\n",
      " [-0.57544307  0.37975505  0.72432823]]\n",
      "\n",
      "S = \n",
      "[9.30064272 1.06283875 0.60697515]\n",
      "\n",
      "VH = \n",
      "[[-0.30363297 -0.50096516 -0.81045724]\n",
      " [ 0.95254376 -0.14030457 -0.27013886]\n",
      " [-0.02161931  0.85401905 -0.51979233]]\n",
      "\n",
      "condition number of matrix A is: 15.322938286261397\n",
      "\n",
      "ratio of singular value is: 15.322938286261403\n"
     ]
    }
   ],
   "source": [
    "\"\"\"\n",
    "Example 7.4.4: SVD and Condition number of Matrix A\n",
    "\"\"\"\n",
    "import numpy as np\n",
    "from numpy.linalg import eig, cond, svd\n",
    "\n",
    "# A = np.array([[ 1, -1], \n",
    "#               [-2,  2],\n",
    "#               [ 2, -2]])\n",
    "\n",
    "# U, S, VH = np.linalg.svd(A)\n",
    "\n",
    "# print(f\"U = \\n{U}\\n\")\n",
    "# print(f\"S = \\n{S}\\n\")\n",
    "# print(f\"VH = \\n{VH}\")\n",
    "\n",
    "\n",
    "######### check the matrix condition number through SVD #################\n",
    "A = np.array([[2, 2, 4], \n",
    "              [1, 3, 5],\n",
    "              [2, 3, 4]])\n",
    "\n",
    "U, S, VH = np.linalg.svd(A)\n",
    "\n",
    "print(f\"U = \\n{U}\\n\")\n",
    "print(f\"S = \\n{S}\\n\")\n",
    "print(f\"VH = \\n{VH}\\n\")\n",
    "\n",
    "print(f\"condition number of matrix A is: {cond(A)}\\n\")\n",
    "print(f\"ratio of singular value is: {S[0]/S[2]}\")\n"
   ]
  },
  {
   "cell_type": "code",
   "execution_count": 6,
   "metadata": {},
   "outputs": [
    {
     "name": "stdout",
     "output_type": "stream",
     "text": [
      "U = \n",
      "[[-0.52157957  0.51176432 -0.68268004]\n",
      " [-0.62993653 -0.7706383  -0.09641875]\n",
      " [-0.57544307  0.37975505  0.72432823]]\n",
      "\n",
      "S = \n",
      "[9.30064272 1.06283875 0.60697515]\n",
      "\n",
      "VH = \n",
      "[[-0.30363297 -0.50096516 -0.81045724]\n",
      " [ 0.95254376 -0.14030457 -0.27013886]\n",
      " [-0.02161931  0.85401905 -0.51979233]]\n"
     ]
    }
   ],
   "source": [
    "\"\"\"\n",
    "Example 5.8: \n",
    "\"\"\"\n",
    "\n"
   ]
  },
  {
   "cell_type": "code",
   "execution_count": 7,
   "metadata": {},
   "outputs": [
    {
     "data": {
      "text/plain": [
       "15.322938286261401"
      ]
     },
     "execution_count": 7,
     "metadata": {},
     "output_type": "execute_result"
    }
   ],
   "source": []
  }
 ],
 "metadata": {
  "kernelspec": {
   "display_name": "numerical_methods",
   "language": "python",
   "name": "python3"
  },
  "language_info": {
   "codemirror_mode": {
    "name": "ipython",
    "version": 3
   },
   "file_extension": ".py",
   "mimetype": "text/x-python",
   "name": "python",
   "nbconvert_exporter": "python",
   "pygments_lexer": "ipython3",
   "version": "3.9.0"
  },
  "vscode": {
   "interpreter": {
    "hash": "a7632bf4336177dcaac0f16a29bf528d1eef8e973ee46e49b304d96d25ec4172"
   }
  }
 },
 "nbformat": 4,
 "nbformat_minor": 2
}
