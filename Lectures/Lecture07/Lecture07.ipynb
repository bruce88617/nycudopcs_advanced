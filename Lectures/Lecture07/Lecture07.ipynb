{
 "cells": [
  {
   "attachments": {},
   "cell_type": "markdown",
   "metadata": {},
   "source": [
    "<center><h1><b>Lecture 7</b></h1></center>\n",
    "<center><h1><b>Stochastic Programs, Probability, and Distributions</b></h1></center>\n",
    "\n",
    "<center><h4>Time: T2 (09:00 ~ 09:50) and R78 (15:30 ~ 17:20)</h4></center>\n",
    "\n",
    "<center><h2>Chieh-En Lee<sup>1</sup> (李杰恩) and Chung-Hao Tien<sup>2</sup> (田仲豪)</h2></center>\n",
    "\n",
    "<center>\n",
    "<h4>{<a href=\"mailto:celee@nycu.edu.tw\">celee</a><sup>1</sup>, \n",
    "<a href=\"mailto:chtien@nycu.edu.tw\">chtien</a><sup>2</sup>}@nycu.edu.tw</h4>\n",
    "</center>\n",
    "\n",
    "<center><h3><a href=\"https://dop.nycu.edu.tw/ch/index.html\">Department of Photonics</a>, <a href=\"https://www.nycu.edu.tw/\">NYCU</a></h3></center>\n",
    "\n",
    "<br />\n",
    "<center><h5><a href=\"https://github.com/bruce88617/nycudopcs_advanced\">Data Science and Python Programming</a>, 2023 Spring</h5></center>\n"
   ]
  },
  {
   "attachments": {},
   "cell_type": "markdown",
   "metadata": {},
   "source": [
    "## Last Time\n",
    "\n",
    "- Random walks\n",
    "- The drunkard's walk\n",
    "- Biased random walks\n",
    "- Treacherous fields"
   ]
  },
  {
   "attachments": {},
   "cell_type": "markdown",
   "metadata": {},
   "source": [
    "## **Today**\n",
    "\n",
    "<ul>\n",
    "  <li><a href=\"#tag1\">Stochastic programs</a></li>\n",
    "  <li><a href=\"#tag2\">Inferential statistics</a></li>\n",
    "  <li><a href=\"#tag3\">Distributions</a></li>\n",
    "  <li><a href=\"#tag4\">Simulation of more practical cases</a></li>\n",
    "  <!-- <li><a href=\"#homework\">Homework</a></li> -->\n",
    "</ul>\n"
   ]
  },
  {
   "attachments": {},
   "cell_type": "markdown",
   "metadata": {},
   "source": [
    "<a id=\"tag1\"></a>\n",
    "\n",
    "## **Stochastic Programs**\n",
    "\n",
    "- A program is __**deterministic**__ if whenever it is run on the same input, it produces the same output.\n",
    "\n",
    "- If there is a program that is designed to simulate a dice game somewhere, it requires a __**stochastic**__ implementation, otherwise it is a boring game.\n",
    "\n",
    "- Most programming languages, including Python, include simple ways to write stochastic programs, i.e., programs that exploit randomness.\n",
    "\n",
    "- Typically, a random number or a series of random bits is created via **pseudo random number generator** (PRNG), which generates random number (or bit) based on an initial value called __**seed**__.\n",
    "\n",
    "    <img align=\"center\" height=auto width=200px src=\"https://raw.githubusercontent.com/bruce88617/nycudopcs_advanced/main/Lectures/Lecture07/assets/fig1.png\">"
   ]
  },
  {
   "cell_type": "code",
   "execution_count": null,
   "metadata": {},
   "outputs": [],
   "source": [
    "from scripts.testFuncs import test1\n",
    "\n",
    "test1()"
   ]
  },
  {
   "cell_type": "code",
   "execution_count": null,
   "metadata": {},
   "outputs": [],
   "source": [
    "# Simulation with manual seed\n",
    "\n",
    "test1(seed=True)"
   ]
  },
  {
   "attachments": {},
   "cell_type": "markdown",
   "metadata": {},
   "source": [
    "<a id=\"tag2\"></a>\n",
    "\n",
    "## **Inferential Statistics**\n",
    "\n",
    "- We can use a systematic process to derive the precise probability of some complex event based on knowing the probability of one or more simpler events.\n",
    "\n",
    "- However, we don’t actually know the exact probability of a event (we don’t know whether the dice is fair, for example).\n",
    "\n",
    "- Fortunately, if we have some data about the behavior of the dice, we can combine that data with our knowledge of probability to derive an estimate of the true probability. This concept is called __**inferential statistics**__.\n",
    "\n",
    "#### Flip a Fair Coin\n",
    "\n",
    "- Suppose you are playing a coin flip game with Harvey Dent, and if heads comes up, Harvey wins. What is the probability that Harvey wins?\n",
    "\n",
    "    <img align=\"center\" height=auto width=500px src=\"https://raw.githubusercontent.com/bruce88617/nycudopcs_advanced/main/Lectures/Lecture07/assets/fig2.png\">\n",
    "\n",
    "\n"
   ]
  },
  {
   "cell_type": "code",
   "execution_count": null,
   "metadata": {},
   "outputs": [],
   "source": [
    "from scripts.testFuncs import test2\n",
    "\n",
    "test2(10, 1)"
   ]
  },
  {
   "cell_type": "code",
   "execution_count": null,
   "metadata": {},
   "outputs": [],
   "source": [
    "test2(10, 10)"
   ]
  },
  {
   "cell_type": "code",
   "execution_count": null,
   "metadata": {},
   "outputs": [],
   "source": [
    "test2(10, 100)\n",
    "test2(10, 1000)"
   ]
  },
  {
   "attachments": {},
   "cell_type": "markdown",
   "metadata": {},
   "source": [
    "#### Low of Large Numbers\n",
    "\n",
    "- If we repeat a test with the same actual probability $p$ of a particular outcome independently, the chance that the fraction of times that outcome occurs differs from $p$ converges to $0$ as the number of trials goes to infinity.\n",
    "\n",
    "- However, it is worth noting that this law does not imply that if deviations from expected behavior occur, these deviations are likely to be “evened out” by opposite deviations in the future.\n",
    "\n",
    "    <img align=\"center\" height=auto width=500px src=\"https://raw.githubusercontent.com/bruce88617/nycudopcs_advanced/main/Lectures/Lecture07/assets/fig3.png\">\n",
    "\n"
   ]
  },
  {
   "cell_type": "code",
   "execution_count": null,
   "metadata": {},
   "outputs": [],
   "source": [
    "from scripts.testFuncs import test3\n",
    "\n",
    "test3(10, 100)"
   ]
  },
  {
   "cell_type": "code",
   "execution_count": null,
   "metadata": {},
   "outputs": [],
   "source": [
    "from scripts.testFuncs import test4\n",
    "\n",
    "test4(4, 20)"
   ]
  },
  {
   "attachments": {},
   "cell_type": "markdown",
   "metadata": {},
   "source": [
    "#### Variance and Standard Deviation\n",
    "\n",
    "- It is impossible to achieve perfect accuracy through sampling without sampling the entire population.\n",
    "\n",
    "- How many samples do we need to look at before we can have justified confidence in our answer? \n",
    "\n",
    "    * This depends on the **variance** in the underlying distribution.\n",
    "\n",
    "$$\n",
    "\\text{variance}(X) = \\frac{1}{\\color{#FFF200} N} \\sum_{i=1}^{N}{(x_i - \\mu)^2}\n",
    "$$\n",
    "\n",
    "- The **standard deviation** contains exactly the same information as the variance but is easier to interpret because it is in the same units as the original data.\n",
    "\n",
    "    > The mean height of Taiwanese male is 173 cm with standard deviation 5.5 cm.  \n",
    "    > The mean height of Taiwanese male is 173 cm with variance 30.25 cm2.\n",
    "\n"
   ]
  },
  {
   "cell_type": "code",
   "execution_count": null,
   "metadata": {},
   "outputs": [],
   "source": [
    "from scripts.testFuncs import test5\n",
    "\n",
    "test5(4, 20, 20)"
   ]
  },
  {
   "attachments": {},
   "cell_type": "markdown",
   "metadata": {},
   "source": [
    "#### Coefficient of Variation\n",
    "\n",
    "- When comparing data sets with different means, the **coefficient of variation** is often more informative than the standard deviation.\n",
    "\n",
    "- Definition\n",
    "\n",
    "$$\n",
    "\\text{Coefficient of variation}(X) = \\frac{\\text{Standard deviation}(X)}{\\text{Mean}(X)}\n",
    "$$\n"
   ]
  },
  {
   "cell_type": "code",
   "execution_count": null,
   "metadata": {},
   "outputs": [],
   "source": [
    "from scripts.testFuncs import test6\n",
    "\n",
    "test6(4, 20, 20)"
   ]
  },
  {
   "attachments": {},
   "cell_type": "markdown",
   "metadata": {},
   "source": [
    "<a id=\"tag3\"></a>\n",
    "\n",
    "## **Distributions**\n",
    "\n",
    "- A **histogram** is a plot designed to show the distribution of values in a set of data.\n",
    "\n",
    "- Discrete random variable and discrete probability distributions\n",
    "\n",
    "- Continuous random variable and continuous probability distributions\n",
    "\n",
    "- Probability density function (PDF) describes the probability of a random variable lying between two values.\n",
    "\n",
    "\n",
    "\n"
   ]
  },
  {
   "cell_type": "code",
   "execution_count": null,
   "metadata": {},
   "outputs": [],
   "source": [
    "from scripts.testFuncs import test7\n",
    "\n",
    "test7(100, 1000, 10000)"
   ]
  },
  {
   "attachments": {},
   "cell_type": "markdown",
   "metadata": {},
   "source": [
    "#### Normal distribution\n",
    "\n",
    "- A **normal** (or **Gaussian**) **distribution** is defined by the probability density function:\n",
    "\n",
    "$$\n",
    "P(x) = \\frac{1}{\\sigma \\sqrt{2 \\pi}} e^{-\\frac{(x-\\mu)^2}{2\\sigma^2}}\n",
    "$$\n",
    "\n",
    "- A **confidence interval** provides a range that is likely to contain the unknown value and a degree of confidence that the unknown value lies within the range.\n",
    "\n",
    "- For example, a political poll might indicate that a candidate is likely to get $87 \\%$ of the vote $\\pm 3 \\%$ with a **confidence level** of $95 \\%$.\n",
    "\n",
    "    * The size of confidence interval is $6$.\n",
    "\n",
    "    * The pollster believes that $\\color{#FFF200} 95 \\%$ of the time the candidate will receive between $\\color{#FFF200} 84 \\%$ and $\\color{#FFF200} 90 \\%$ of the vote."
   ]
  },
  {
   "cell_type": "code",
   "execution_count": null,
   "metadata": {},
   "outputs": [],
   "source": [
    "from scripts.testFuncs import test8\n",
    "\n",
    "test8(x=None, mu=0, sigma=1, N=100)"
   ]
  },
  {
   "cell_type": "code",
   "execution_count": null,
   "metadata": {},
   "outputs": [],
   "source": [
    "import scipy\n",
    "import random\n",
    "from scripts.basicFuncs import gaussDist\n",
    "\n",
    "def checkEmpirical(numTrials):\n",
    "    for t in range(numTrials):\n",
    "        mu = random.randint(-10,10)\n",
    "        sigma = random.randint(1,10)\n",
    "        print(\"Normal distribution with (\\u03BC, \\u03C3) = ({}, {})\".format(mu, sigma))\n",
    "        for numStd in (1, 2, 3):\n",
    "            area = scipy.integrate.quad(gaussDist, mu-numStd*sigma, mu+numStd*sigma, (mu, sigma))[0]\n",
    "            print(\"    Area within {} std = {:.04f}\".format(numStd, area))\n"
   ]
  },
  {
   "cell_type": "code",
   "execution_count": null,
   "metadata": {},
   "outputs": [],
   "source": [
    "checkEmpirical(3)"
   ]
  },
  {
   "attachments": {},
   "cell_type": "markdown",
   "metadata": {},
   "source": [
    "##### Estimate with Error Bars\n"
   ]
  },
  {
   "cell_type": "code",
   "execution_count": null,
   "metadata": {},
   "outputs": [],
   "source": [
    "from scripts.testFuncs import test9\n",
    "\n",
    "test9(3, 10, 100)"
   ]
  },
  {
   "attachments": {},
   "cell_type": "markdown",
   "metadata": {},
   "source": [
    "#### Binomial and Multinomial Distributions\n",
    "\n",
    "- Random variables that can take on only a discrete set of values are called **categorical** (also **nominal** or **discrete**) variables.\n",
    "\n",
    "- When a categorical variable has only two possible values, the probability distribution is called **binomial distribution**.\n",
    "\n",
    "- If the probability of a success in a single trial is $p$, the probability of exactly $k$ successes in $n$ independent trials is\n",
    "\n",
    "$$\n",
    "\\binom{n}{k} \\cdot p^k \\cdot (1-p)^{n-k}\n",
    "$$\n",
    "\n",
    "- For example, rolling two 3's:\n",
    "\n"
   ]
  },
  {
   "cell_type": "code",
   "execution_count": null,
   "metadata": {},
   "outputs": [],
   "source": [
    "from scripts.testFuncs import test10\n",
    "\n",
    "test10(2, 100)"
   ]
  },
  {
   "attachments": {},
   "cell_type": "markdown",
   "metadata": {},
   "source": [
    "##### Exercise\n",
    "\n",
    "- 假設成功要到女生聯絡資訊的機率是 $5 \\%$，請問 OOO 搭訕到第幾個人時拿到 $10$ 個女生的聯絡資訊的機率最大？"
   ]
  },
  {
   "attachments": {},
   "cell_type": "markdown",
   "metadata": {},
   "source": [
    "#### Exponential and Geometric Distributions\n",
    "\n",
    "- Exponential distribution:\n",
    "\n",
    "$$\n",
    "P(x) = \\lambda \\cdot e^{-\\lambda x}\n",
    "$$\n",
    "\n",
    "- The **geometric distribution** is the discrete analog of the exponential distribution. It is usually thought of as describing the number of independent attempts required to achieve a first success (or a first failure).\n"
   ]
  },
  {
   "cell_type": "code",
   "execution_count": null,
   "metadata": {},
   "outputs": [],
   "source": [
    "import random\n",
    "import matplotlib.pyplot as plt\n",
    "\n",
    "def successfulFlirt(successProb=0.05, numTrials=5000):\n",
    "    triesBeforeSuccess = []\n",
    "    for t in range(numTrials):\n",
    "        consecFailures = 0\n",
    "        while random.random() > successProb:\n",
    "            consecFailures += 1\n",
    "        triesBeforeSuccess.append(consecFailures)\n",
    "    \n",
    "    fig = plt.figure(dpi=100, layout=\"constrained\")\n",
    "    ax = fig.add_subplot(111)\n",
    "    ax.hist(triesBeforeSuccess, bins=50)\n",
    "    ax.set_title(\"Probability of Successful Flirt = {:0.2f}\".format(successProb))\n",
    "    ax.set_xlabel(\"Tries Before Success\")\n",
    "    ax.set_ylabel(\"Number of Occurrences Out of {}\".format(numTrials))\n",
    "\n",
    "successfulFlirt()"
   ]
  },
  {
   "attachments": {},
   "cell_type": "markdown",
   "metadata": {},
   "source": [
    "<a id=\"tag4\"></a>\n",
    "\n",
    "## **Simulation of more practical cases**\n",
    "\n",
    "#### Exercise: Best of 7\n",
    "\n",
    "- Modern competitive sports is an important entertainment in people's life. Many professional sports events are held around the world and boost tremendous economic growth. One of the biggest professional leagues is the Major League Baseball. Almost every October (or November, sometimes) two teams from the Major League Baseball meet each other in something called the World Series. They play each other repeatedly until one of the teams has won four games to claim the title of \"world champion.\"\n",
    "\n",
    "- In this exercise, we are going to simulate a classic question: **how often does the better team win?**\n",
    "\n",
    "- Let's say we have team A and team B meeting each other in the World Series 2023, and we have done all the background check on both teams before the game. The probability that team A wins a game is $p$. What is the probability that team A or team B will win the series?\n",
    "\n",
    "    <img align=\"center\" height=auto width=500px src=\"https://raw.githubusercontent.com/bruce88617/nycudopcs_advanced/main/Lectures/Lecture07/assets/fig4.png\">\n"
   ]
  },
  {
   "attachments": {},
   "cell_type": "markdown",
   "metadata": {},
   "source": [
    "<details><summary>Click here for solution</summary>\n",
    "\n",
    "```python\n",
    "import random\n",
    "import matplotlib.pyplot as plt\n",
    "\n",
    "def playSeries(numGames, teamProb):\n",
    "    numWon, numLost = 0, 0\n",
    "    for game in range(numGames):\n",
    "        if random.random() <= teamProb:\n",
    "                umWon += 1\n",
    "        else:\n",
    "            numLost += 1\n",
    "        if (numWon == numGames//2+1) or (numLost == numGames//2+1):\n",
    "            break\n",
    "    return (numWon, numLost, numWon>numLost)\n",
    "\n",
    "def simSeries(prob=0.5, numSeries=100):\n",
    "    result = {\n",
    "        (4,0):0, (4,1):0, (4,2):0, (4,3):0,\n",
    "        (3,4):0, (2,4):0, (1,4):0, (0,4):0,\n",
    "    }\n",
    "    A, B = 0, 0\n",
    "\n",
    "    for i in range(numSeries):\n",
    "        W, L, win = playSeries(7, prob)\n",
    "        result[(W,L)] += 1\n",
    "            \n",
    "        if win:\n",
    "            A += 1\n",
    "        else:\n",
    "            B += 1\n",
    "        \n",
    "    result_list = []\n",
    "    xVals = []\n",
    "    for key in result.keys():\n",
    "        result_list.append(result[key])\n",
    "        xVals.append(str(key))\n",
    "\n",
    "    fig = plt.figure(figsize=(5,4), dpi=100, layout=\"constrained\")\n",
    "    ax = fig.add_subplot(111)\n",
    "    ax.bar(xVals[:4], result_list[:4], width=0.5, color=\"b\", label=\"Probability of A won = {:02d}%\".format(A))\n",
    "    ax.bar(xVals[4:], result_list[4:], width=0.5, color=\"r\", label=\"Probability of B won = {:02d}%\".format(B))\n",
    "    ax.set_title(\"{} Seven-Game Series\".format(numSeries))\n",
    "    ax.set_xlabel(\"Result\")\n",
    "    ax.set_ylabel(\"Number of Occurrences Out of {}\".format(numSeries))\n",
    "    ax.legend(loc=\"best\")\n",
    "\n",
    "    plt.show()\n",
    "    \n",
    "simSeries(0.6)\n",
    "\n",
    "    ```\n",
    "\n",
    "</details>"
   ]
  },
  {
   "attachments": {},
   "cell_type": "markdown",
   "metadata": {},
   "source": [
    "#### Exercise: Quantile-Quantile Plot (QQ plot)\n",
    "\n",
    "- A method to identify whether two probability distributions are the same.\n",
    "\n",
    "    1. Calculate the **cumulative density function (CDF)** of these two distributions.\n",
    "\n",
    "    2. Plot the quantiles of these two distributions.\n",
    "\n",
    "- How do we calculate the **cumulative density function (CDF)**?\n"
   ]
  },
  {
   "cell_type": "code",
   "execution_count": 1,
   "metadata": {},
   "outputs": [],
   "source": [
    "import numpy as np\n",
    "import matplotlib.pyplot as plt\n",
    "from scripts.basicFuncs import gaussDist\n"
   ]
  },
  {
   "cell_type": "code",
   "execution_count": 2,
   "metadata": {},
   "outputs": [],
   "source": [
    "N = 200\n",
    "x = np.linspace(-5,5,N)\n",
    "data1 = (np.random.rand(N)-0.5)*10\n",
    "data2 = np.random.randn(N)\n",
    "gauss = gaussDist(x, N=N)"
   ]
  },
  {
   "cell_type": "code",
   "execution_count": 3,
   "metadata": {},
   "outputs": [
    {
     "data": {
      "image/png": "[encoded data removed]",
      "text/plain": [
       "<Figure size 500x200 with 1 Axes>"
      ]
     },
     "metadata": {
      "needs_background": "light"
     },
     "output_type": "display_data"
    }
   ],
   "source": [
    "# Method 1\n",
    "fig = plt.figure(figsize=(5,2), dpi=100, layout=\"constrained\")\n",
    "ax = fig.add_subplot(111)\n",
    "ax.hist(data1, bins=N//5, density=True, stacked=True, color=\"r\", alpha=0.2, label=\"Data 1\")\n",
    "ax.hist(data2, bins=N//5, density=True, stacked=True, color=\"g\", alpha=0.2, label=\"Data 2\")\n",
    "ax.plot(x, gauss, \"b\", label=\"Gaussian Dist.\")\n",
    "ax.plot(x, np.cumsum(gauss)/np.sum(gauss), \"k\", label=\"CDF of Gaussian Dist.\")\n",
    "ax.legend(loc=\"best\")\n",
    "\n",
    "plt.show()"
   ]
  },
  {
   "cell_type": "code",
   "execution_count": 4,
   "metadata": {},
   "outputs": [
    {
     "data": {
      "image/png": "[encoded data removed]",
      "text/plain": [
       "<Figure size 500x200 with 1 Axes>"
      ]
     },
     "metadata": {
      "needs_background": "light"
     },
     "output_type": "display_data"
    }
   ],
   "source": [
    "# Method 2\n",
    "hist1, bins1 = np.histogram(data1, bins=N//5, density=True)\n",
    "hist2, bins2 = np.histogram(data2, bins=N//5, density=True)\n",
    "\n",
    "fig = plt.figure(figsize=(5,2), dpi=100, layout=\"constrained\")\n",
    "ax = fig.add_subplot(111)\n",
    "ax.bar(bins1[1:], hist1, width=0.2, color=\"r\", alpha=0.2, label=\"Data 1\")\n",
    "ax.bar(bins2[1:], hist2, width=0.2, color=\"g\", alpha=0.2, label=\"Data 2\")\n",
    "ax.plot(x, gauss, \"b\", label=\"Gaussian Dist.\")\n",
    "ax.plot(x, np.cumsum(gauss)/np.sum(gauss), \"k\", label=\"CDF of Gaussian Dist.\")\n",
    "ax.legend(loc=\"best\")\n",
    "\n",
    "plt.show()"
   ]
  },
  {
   "cell_type": "code",
   "execution_count": 5,
   "metadata": {},
   "outputs": [
    {
     "data": {
      "image/png": "[encoded data removed]",
      "text/plain": [
       "<Figure size 500x400 with 1 Axes>"
      ]
     },
     "metadata": {
      "needs_background": "light"
     },
     "output_type": "display_data"
    }
   ],
   "source": [
    "def plotQQ(data, ref):\n",
    "    L = len(data)\n",
    "    x, y = [], []\n",
    "    gt = np.linspace(np.min(data), np.max(data), L)\n",
    "\n",
    "    for i in range(100):\n",
    "        x.append(np.percentile(ref, i, method=\"nearest\"))\n",
    "        y.append(np.percentile(data, i, method=\"nearest\"))\n",
    "\n",
    "    fig = plt.figure(figsize=(5,4), dpi=100, layout=\"constrained\")\n",
    "    ax = fig.add_subplot(111)\n",
    "    ax.plot(gt, gt, 'k', label=\"Ground Truth\")\n",
    "    ax.plot(x, y, \"r.\", label=\"Data to Check\")\n",
    "    ax.set_xlabel(\"Quantile of Reference Distribution\")\n",
    "    ax.set_ylabel(\"Quantile of Data Distribution\")\n",
    "    ax.set_title(\"Q-Q Plot\")\n",
    "    ax.legend(loc=\"best\")\n",
    "\n",
    "    plt.show()\n",
    "\n",
    "plotQQ(data1, data2)"
   ]
  }
 ],
 "metadata": {
  "kernelspec": {
   "display_name": "nycudopcs",
   "language": "python",
   "name": "python3"
  },
  "language_info": {
   "codemirror_mode": {
    "name": "ipython",
    "version": 3
   },
   "file_extension": ".py",
   "mimetype": "text/x-python",
   "name": "python",
   "nbconvert_exporter": "python",
   "pygments_lexer": "ipython3",
   "version": "3.8.10"
  },
  "orig_nbformat": 4
 },
 "nbformat": 4,
 "nbformat_minor": 2
}
